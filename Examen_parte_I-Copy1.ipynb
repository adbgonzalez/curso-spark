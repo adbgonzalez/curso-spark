{
 "cells": [
  {
   "cell_type": "markdown",
   "id": "798a24f6-3a68-4e61-93ef-beaaf663b814",
   "metadata": {},
   "source": [
    "# Examen Unidad 3\n",
    "## Parte 1\n",
    "Responde a las siguientes cuestiones en las celdas correspondientes.\n",
    "Antes de realizar los ejercicios sube la el contenido de la carpeta \"data\" a /user/jovyan/data\n",
    "hdfs dfs -mkdir -p /user/jovyan/data (si fuera necesario)\n",
    "hdfs dfs -put /home/jovyan/work/data/* /user/jovyan/data\n"
   ]
  },
  {
   "cell_type": "code",
   "execution_count": 1,
   "id": "f7288c67-100a-4ef5-90c2-84cbf31f33b8",
   "metadata": {},
   "outputs": [
    {
     "name": "stderr",
     "output_type": "stream",
     "text": [
      "Setting default log level to \"WARN\".\n",
      "To adjust logging level use sc.setLogLevel(newLevel). For SparkR, use setLogLevel(newLevel).\n"
     ]
    }
   ],
   "source": [
    "from pyspark.sql import SparkSession\n",
    "\n",
    "spark = SparkSession.builder \\\n",
    "    .master(\"spark://spark-master:7077\") \\\n",
    "    .appName(\"01-rddej1\") \\\n",
    "    .config(\"spark.eventLog.enabled\", \"true\") \\\n",
    "    .config(\"spark.eventLog.dir\", \"hdfs:///spark/logs/history\") \\\n",
    "    .config(\"spark.history.fs.logDirectory\", \"hdfs:///spark/logs/history\") \\\n",
    "    .getOrCreate()\n",
    "\n",
    "spark.version  # Verifica la versión de Spark\n",
    "\n",
    "#spark = SparkSession.builder.getOrCreate()\n",
    "\n",
    "sc = spark.sparkContext"
   ]
  },
  {
   "cell_type": "markdown",
   "id": "3482a785-97da-420a-a81b-a2a83a61dd33",
   "metadata": {},
   "source": [
    "1. Ejercicio1:\n",
    "   - a. Crea un rdd llamado rdd_int con los enteros del 0 al 50 (0,5)\n",
    "   - b. Muestra los 10 primeros elementos (0,5)\n",
    "   - c. Muestra cuantos elementos son múltiplos de 5 (0,5)."
   ]
  },
  {
   "cell_type": "code",
   "execution_count": 6,
   "id": "38705d6b-2311-4cdb-8e88-b2a7139e740b",
   "metadata": {},
   "outputs": [],
   "source": [
    "# a)\n"
   ]
  },
  {
   "cell_type": "code",
   "execution_count": 8,
   "id": "1a6fe49b-8cb2-4cb3-9bc7-8bb55304773a",
   "metadata": {},
   "outputs": [],
   "source": [
    "# b)\n"
   ]
  },
  {
   "cell_type": "code",
   "execution_count": 9,
   "id": "00d8966a-b0de-4cf6-ac49-88267ea5af01",
   "metadata": {},
   "outputs": [],
   "source": [
    "# c)\n"
   ]
  },
  {
   "cell_type": "markdown",
   "id": "4a4bf8cc-d280-4e37-a34d-dc861fae91fb",
   "metadata": {},
   "source": [
    "2. Realiza las siguientes acciones.\n",
    "   - a) Crea un rdd de pares (palabra, 1) llamado rdd_libro a partir del fichero TheFelloshipOfTherRing.txt (0,5)\n",
    "   - b) Muestra las ocurrencias de cada palabra. (0,5)"
   ]
  },
  {
   "cell_type": "code",
   "execution_count": 4,
   "id": "c555b84e-acd2-43b6-a754-7ca05513ea7a",
   "metadata": {},
   "outputs": [],
   "source": [
    "# a)\n"
   ]
  },
  {
   "cell_type": "code",
   "execution_count": 5,
   "id": "bb80d2ba-9cf2-46ec-b69b-9e90144a05ac",
   "metadata": {},
   "outputs": [],
   "source": [
    "# b)\n"
   ]
  },
  {
   "cell_type": "markdown",
   "id": "f81f2ed8-26a5-4c24-84d6-053af4b52e8c",
   "metadata": {},
   "source": [
    "3. Realiza las siguientes operaciones con Dataframes:\n",
    "   - a. Crea un dataframe llamado sales_df a partir del fichero *salesdata/Sales_April_2019.csv* teniendo en cuenta la cabecera e infiriendo el esquema.  (0,5)\n",
    "   - b. Muestra los 10 primeros elementos. (0,5)\n",
    "   - c. Añade una columna *Total* que multiplique \"Quantity Ordered\" por \"Price Each\". (0,5)\n",
    "   - d. A partir del DF anterior suma la columna \"Total\" agrupando por \"Product\".  (1)"
   ]
  },
  {
   "cell_type": "code",
   "execution_count": 26,
   "id": "89986b52-eadb-4683-8503-1a2342f45169",
   "metadata": {},
   "outputs": [
    {
     "name": "stdout",
     "output_type": "stream",
     "text": [
      "+--------+--------------------+----------------+----------+--------------+--------------------+\n",
      "|Order ID|             Product|Quantity Ordered|Price Each|    Order Date|    Purchase Address|\n",
      "+--------+--------------------+----------------+----------+--------------+--------------------+\n",
      "|  176558|USB-C Charging Cable|               2|     11.95|04/19/19 08:46|917 1st St, Dalla...|\n",
      "|    NULL|                NULL|            NULL|      NULL|          NULL|                NULL|\n",
      "|  176559|Bose SoundSport H...|               1|     99.99|04/07/19 22:30|682 Chestnut St, ...|\n",
      "|  176560|        Google Phone|               1|     600.0|04/12/19 14:38|669 Spruce St, Lo...|\n",
      "|  176560|    Wired Headphones|               1|     11.99|04/12/19 14:38|669 Spruce St, Lo...|\n",
      "|  176561|    Wired Headphones|               1|     11.99|04/30/19 09:27|333 8th St, Los A...|\n",
      "|  176562|USB-C Charging Cable|               1|     11.95|04/29/19 13:03|381 Wilson St, Sa...|\n",
      "|  176563|Bose SoundSport H...|               1|     99.99|04/02/19 07:46|668 Center St, Se...|\n",
      "|  176564|USB-C Charging Cable|               1|     11.95|04/12/19 10:58|790 Ridge St, Atl...|\n",
      "|  176565|  Macbook Pro Laptop|               1|    1700.0|04/24/19 10:38|915 Willow St, Sa...|\n",
      "|  176566|    Wired Headphones|               1|     11.99|04/08/19 14:05|83 7th St, Boston...|\n",
      "|  176567|        Google Phone|               1|     600.0|04/18/19 17:18|444 7th St, Los A...|\n",
      "|  176568|Lightning Chargin...|               1|     14.95|04/15/19 12:18|438 Elm St, Seatt...|\n",
      "|  176569|27in 4K Gaming Mo...|               1|    389.99|04/16/19 19:23|657 Hill St, Dall...|\n",
      "|  176570|AA Batteries (4-p...|               1|      3.84|04/22/19 15:09|186 12th St, Dall...|\n",
      "|  176571|Lightning Chargin...|               1|     14.95|04/19/19 14:29|253 Johnson St, A...|\n",
      "|  176572|Apple Airpods Hea...|               1|     150.0|04/04/19 20:30|149 Dogwood St, N...|\n",
      "|  176573|USB-C Charging Cable|               1|     11.95|04/27/19 18:41|214 Chestnut St, ...|\n",
      "|  176574|        Google Phone|               1|     600.0|04/03/19 19:42|20 Hill St, Los A...|\n",
      "|  176574|USB-C Charging Cable|               1|     11.95|04/03/19 19:42|20 Hill St, Los A...|\n",
      "+--------+--------------------+----------------+----------+--------------+--------------------+\n",
      "only showing top 20 rows\n",
      "\n",
      "root\n",
      " |-- Order ID: integer (nullable = true)\n",
      " |-- Product: string (nullable = true)\n",
      " |-- Quantity Ordered: integer (nullable = true)\n",
      " |-- Price Each: double (nullable = true)\n",
      " |-- Order Date: string (nullable = true)\n",
      " |-- Purchase Address: string (nullable = true)\n",
      "\n"
     ]
    }
   ],
   "source": [
    "# a)\n",
    "df_csv = spark.read.option(\"header\", True).option(\"inferSchema\",\"true\").csv('hdfs:///user/jovyan/data/salesdata/Sales_April_2019.csv')\n",
    "df_csv.show()\n",
    "df_csv.printSchema()"
   ]
  },
  {
   "cell_type": "code",
   "execution_count": 6,
   "id": "fb602fbc-0798-48cc-83e3-38ae7adbc8fd",
   "metadata": {},
   "outputs": [
    {
     "name": "stdout",
     "output_type": "stream",
     "text": [
      "+--------+--------------------+----------------+----------+--------------+--------------------+\n",
      "|Order ID|             Product|Quantity Ordered|Price Each|    Order Date|    Purchase Address|\n",
      "+--------+--------------------+----------------+----------+--------------+--------------------+\n",
      "|  176558|USB-C Charging Cable|               2|     11.95|04/19/19 08:46|917 1st St, Dalla...|\n",
      "|    NULL|                NULL|            NULL|      NULL|          NULL|                NULL|\n",
      "|  176559|Bose SoundSport H...|               1|     99.99|04/07/19 22:30|682 Chestnut St, ...|\n",
      "|  176560|        Google Phone|               1|     600.0|04/12/19 14:38|669 Spruce St, Lo...|\n",
      "|  176560|    Wired Headphones|               1|     11.99|04/12/19 14:38|669 Spruce St, Lo...|\n",
      "|  176561|    Wired Headphones|               1|     11.99|04/30/19 09:27|333 8th St, Los A...|\n",
      "|  176562|USB-C Charging Cable|               1|     11.95|04/29/19 13:03|381 Wilson St, Sa...|\n",
      "|  176563|Bose SoundSport H...|               1|     99.99|04/02/19 07:46|668 Center St, Se...|\n",
      "|  176564|USB-C Charging Cable|               1|     11.95|04/12/19 10:58|790 Ridge St, Atl...|\n",
      "|  176565|  Macbook Pro Laptop|               1|    1700.0|04/24/19 10:38|915 Willow St, Sa...|\n",
      "+--------+--------------------+----------------+----------+--------------+--------------------+\n",
      "only showing top 10 rows\n",
      "\n"
     ]
    }
   ],
   "source": [
    "# b)\n",
    "df_csv.show(10)"
   ]
  },
  {
   "cell_type": "code",
   "execution_count": 11,
   "id": "a66291b0-8572-4c59-b48d-8221cffcbc71",
   "metadata": {},
   "outputs": [
    {
     "name": "stdout",
     "output_type": "stream",
     "text": [
      "+--------+--------------------+----------------+----------+--------------+--------------------+------+\n",
      "|Order ID|             Product|Quantity Ordered|Price Each|    Order Date|    Purchase Address| Total|\n",
      "+--------+--------------------+----------------+----------+--------------+--------------------+------+\n",
      "|  176558|USB-C Charging Cable|               2|     11.95|04/19/19 08:46|917 1st St, Dalla...|  23.9|\n",
      "|    NULL|                NULL|            NULL|      NULL|          NULL|                NULL|  NULL|\n",
      "|  176559|Bose SoundSport H...|               1|     99.99|04/07/19 22:30|682 Chestnut St, ...| 99.99|\n",
      "|  176560|        Google Phone|               1|     600.0|04/12/19 14:38|669 Spruce St, Lo...| 600.0|\n",
      "|  176560|    Wired Headphones|               1|     11.99|04/12/19 14:38|669 Spruce St, Lo...| 11.99|\n",
      "|  176561|    Wired Headphones|               1|     11.99|04/30/19 09:27|333 8th St, Los A...| 11.99|\n",
      "|  176562|USB-C Charging Cable|               1|     11.95|04/29/19 13:03|381 Wilson St, Sa...| 11.95|\n",
      "|  176563|Bose SoundSport H...|               1|     99.99|04/02/19 07:46|668 Center St, Se...| 99.99|\n",
      "|  176564|USB-C Charging Cable|               1|     11.95|04/12/19 10:58|790 Ridge St, Atl...| 11.95|\n",
      "|  176565|  Macbook Pro Laptop|               1|    1700.0|04/24/19 10:38|915 Willow St, Sa...|1700.0|\n",
      "|  176566|    Wired Headphones|               1|     11.99|04/08/19 14:05|83 7th St, Boston...| 11.99|\n",
      "|  176567|        Google Phone|               1|     600.0|04/18/19 17:18|444 7th St, Los A...| 600.0|\n",
      "|  176568|Lightning Chargin...|               1|     14.95|04/15/19 12:18|438 Elm St, Seatt...| 14.95|\n",
      "|  176569|27in 4K Gaming Mo...|               1|    389.99|04/16/19 19:23|657 Hill St, Dall...|389.99|\n",
      "|  176570|AA Batteries (4-p...|               1|      3.84|04/22/19 15:09|186 12th St, Dall...|  3.84|\n",
      "|  176571|Lightning Chargin...|               1|     14.95|04/19/19 14:29|253 Johnson St, A...| 14.95|\n",
      "|  176572|Apple Airpods Hea...|               1|     150.0|04/04/19 20:30|149 Dogwood St, N...| 150.0|\n",
      "|  176573|USB-C Charging Cable|               1|     11.95|04/27/19 18:41|214 Chestnut St, ...| 11.95|\n",
      "|  176574|        Google Phone|               1|     600.0|04/03/19 19:42|20 Hill St, Los A...| 600.0|\n",
      "|  176574|USB-C Charging Cable|               1|     11.95|04/03/19 19:42|20 Hill St, Los A...| 11.95|\n",
      "+--------+--------------------+----------------+----------+--------------+--------------------+------+\n",
      "only showing top 20 rows\n",
      "\n"
     ]
    }
   ],
   "source": [
    "# c)\n",
    "from pyspark.sql.functions import expr\n",
    "df_total = df_csv.withColumn(\"Total\", expr(\"`Price Each`* `Quantity Ordered`\"))\n",
    "df_total.show()"
   ]
  },
  {
   "cell_type": "code",
   "execution_count": 13,
   "id": "d6de05a3-571e-4f82-a0d2-c26acbec0a28",
   "metadata": {},
   "outputs": [
    {
     "name": "stderr",
     "output_type": "stream",
     "text": [
      "[Stage 9:>                                                          (0 + 1) / 1]"
     ]
    },
    {
     "name": "stdout",
     "output_type": "stream",
     "text": [
      "+--------------------+------------------+\n",
      "|             Product|        sum(Total)|\n",
      "+--------------------+------------------+\n",
      "|    Wired Headphones|24771.340000000666|\n",
      "|  Macbook Pro Laptop|          773500.0|\n",
      "|Apple Airpods Hea...|          228750.0|\n",
      "|              iPhone|          486500.0|\n",
      "|                NULL|              NULL|\n",
      "|Lightning Chargin...|35446.450000000594|\n",
      "|Bose SoundSport H...|128787.12000000282|\n",
      "|USB-C Charging Cable|27126.500000000975|\n",
      "|AAA Batteries (4-...|  8778.63999999968|\n",
      "|        20in Monitor|43446.050000000025|\n",
      "|    27in FHD Monitor|110542.63000000129|\n",
      "|     Vareebadd Phone|           88000.0|\n",
      "|34in Ultrawide Mo...| 248133.4699999979|\n",
      "|            LG Dryer|           46200.0|\n",
      "|AA Batteries (4-p...|10836.480000000263|\n",
      "|        Google Phone|          348600.0|\n",
      "|       Flatscreen TV|          137700.0|\n",
      "|  LG Washing Machine|           36600.0|\n",
      "|             Product|              NULL|\n",
      "|27in 4K Gaming Mo...| 220344.3499999987|\n",
      "+--------------------+------------------+\n",
      "only showing top 20 rows\n",
      "\n"
     ]
    },
    {
     "name": "stderr",
     "output_type": "stream",
     "text": [
      "                                                                                "
     ]
    }
   ],
   "source": [
    "# d)\n",
    "from pyspark.sql.functions import sum\n",
    "df_total.groupBy(\"Product\").sum(\"Total\").show()"
   ]
  },
  {
   "cell_type": "markdown",
   "id": "916982d4-0af2-438c-bc29-7646ad241d81",
   "metadata": {},
   "source": [
    "4.Realiza las siguientes acciones:\n",
    "   - a. Lee los archivos movies.tsv y movie-ratings.tsv infiriendo el esquema y con cabeceras activadas. Usa también la siguiente opción: option(\"delimiter\", \"\\t\"). Almacena el resultado en movies_df y ratings_df respectivamente. (0,25)\n",
    "   - b. Realiza un inner join sobre el campo \"Title\" almacenando el resultado como join_df. (0,25)\n",
    "   - c. Crea un nuevo Dataframe (result_df) a partir de join_df agrupando por \"Director\" y calculando la media de \"Rating\".  (0,25)\n",
    "   - d. Almacena result_df en formato json en el directorio /user/jovyan/salida_examen.  (0,25)"
   ]
  },
  {
   "cell_type": "code",
   "execution_count": 21,
   "id": "6a70fa56-5daf-474e-af29-463c26ed5189",
   "metadata": {},
   "outputs": [
    {
     "name": "stdout",
     "output_type": "stream",
     "text": [
      "root\n",
      " |-- Director: string (nullable = true)\n",
      " |-- Title: string (nullable = true)\n",
      " |-- Year: integer (nullable = true)\n",
      "\n",
      "+-----------------+--------------------+----+\n",
      "|         Director|               Title|Year|\n",
      "+-----------------+--------------------+----+\n",
      "|McClure, Marc (I)|       Freaky Friday|2003|\n",
      "|McClure, Marc (I)|        Coach Carter|2005|\n",
      "|McClure, Marc (I)|         Superman II|1980|\n",
      "|McClure, Marc (I)|           Apollo 13|1995|\n",
      "|McClure, Marc (I)|            Superman|1978|\n",
      "|McClure, Marc (I)|  Back to the Future|1985|\n",
      "|McClure, Marc (I)|Back to the Futur...|1990|\n",
      "|Cooper, Chris (I)|  Me, Myself & Irene|2000|\n",
      "|Cooper, Chris (I)|         October Sky|1999|\n",
      "|Cooper, Chris (I)|              Capote|2005|\n",
      "|Cooper, Chris (I)|The Bourne Supremacy|2004|\n",
      "|Cooper, Chris (I)|         The Patriot|2000|\n",
      "|Cooper, Chris (I)|            The Town|2010|\n",
      "|Cooper, Chris (I)|          Seabiscuit|2003|\n",
      "|Cooper, Chris (I)|      A Time to Kill|1996|\n",
      "|Cooper, Chris (I)|Where the Wild Th...|2009|\n",
      "|Cooper, Chris (I)|         The Muppets|2011|\n",
      "|Cooper, Chris (I)|     American Beauty|1999|\n",
      "|Cooper, Chris (I)|             Syriana|2005|\n",
      "|Cooper, Chris (I)| The Horse Whisperer|1998|\n",
      "+-----------------+--------------------+----+\n",
      "only showing top 20 rows\n",
      "\n",
      "root\n",
      " |-- Rating: double (nullable = true)\n",
      " |-- Title: string (nullable = true)\n",
      " |-- Year: integer (nullable = true)\n",
      "\n",
      "+-------+--------------------+----+\n",
      "| Rating|               Title|Year|\n",
      "+-------+--------------------+----+\n",
      "| 1.6339|'Crocodile' Dunde...|1988|\n",
      "| 7.6177|                  10|1979|\n",
      "| 1.2864|10 Things I Hate ...|1999|\n",
      "| 0.3243|           10,000 BC|2008|\n",
      "| 0.3376|      101 Dalmatians|1996|\n",
      "| 0.5218|      102 Dalmatians|2000|\n",
      "|12.8205|                1066|2012|\n",
      "| 0.6829|                  12|2007|\n",
      "| 7.4061|           12 Rounds|2009|\n",
      "| 2.3677|           127 Hours|2010|\n",
      "| 1.3585|      13 Going on 30|2004|\n",
      "| 8.4034|     13 game sayawng|2006|\n",
      "|   0.59|                1408|2007|\n",
      "| 4.4292|          15 Minutes|2001|\n",
      "| 2.2118|           16 Blocks|2006|\n",
      "| 1.0491|            17 Again|2009|\n",
      "| 3.9265|                1941|1979|\n",
      "|10.4757|2 Days in the Valley|1996|\n",
      "|    0.4|    2 Fast 2 Furious|2003|\n",
      "|11.1111|              2 Guns|2013|\n",
      "+-------+--------------------+----+\n",
      "only showing top 20 rows\n",
      "\n"
     ]
    }
   ],
   "source": [
    "movies_df = spark.read.option(\"delimiter\", \"\\t\").option(\"header\", True).option(\"inferSchema\",\"true\").csv('hdfs:///user/jovyan/data/movies.tsv')\n",
    "movies_df.printSchema()\n",
    "movies_df.show()\n",
    "\n",
    "ratings_df = spark.read.option(\"delimiter\", \"\\t\").option(\"header\", True).option(\"inferSchema\",\"true\").csv('hdfs:///user/jovyan/data/movie-ratings.tsv')\n",
    "ratings_df.printSchema()\n",
    "ratings_df.show()"
   ]
  },
  {
   "cell_type": "code",
   "execution_count": 23,
   "id": "0c7bc9f9-ad2f-4ddc-8ea2-dcb29d68fae9",
   "metadata": {},
   "outputs": [
    {
     "name": "stdout",
     "output_type": "stream",
     "text": [
      "+--------------------+-----------------+----+------+----+\n",
      "|               Title|         Director|Year|Rating|Year|\n",
      "+--------------------+-----------------+----+------+----+\n",
      "|       Freaky Friday|McClure, Marc (I)|2003|0.3847|2003|\n",
      "|        Coach Carter|McClure, Marc (I)|2005|0.9858|2005|\n",
      "|         Superman II|McClure, Marc (I)|1980|0.8739|1980|\n",
      "|           Apollo 13|McClure, Marc (I)|1995|1.0267|1995|\n",
      "|            Superman|McClure, Marc (I)|1978|1.1982|1978|\n",
      "|  Back to the Future|McClure, Marc (I)|1985|0.1904|1985|\n",
      "|Back to the Futur...|McClure, Marc (I)|1990| 1.678|1990|\n",
      "|  Me, Myself & Irene|Cooper, Chris (I)|2000|0.5611|2000|\n",
      "|         October Sky|Cooper, Chris (I)|1999| 1.603|1999|\n",
      "|              Capote|Cooper, Chris (I)|2005|1.9389|2005|\n",
      "|The Bourne Supremacy|Cooper, Chris (I)|2004|0.3015|2004|\n",
      "|         The Patriot|Cooper, Chris (I)|2000|0.5363|2000|\n",
      "|            The Town|Cooper, Chris (I)|2010|0.7352|2010|\n",
      "|          Seabiscuit|Cooper, Chris (I)|2003|0.4242|2003|\n",
      "|      A Time to Kill|Cooper, Chris (I)|1996|0.4878|1996|\n",
      "|Where the Wild Th...|Cooper, Chris (I)|2009|0.7966|2009|\n",
      "|         The Muppets|Cooper, Chris (I)|2011| 0.668|2011|\n",
      "|     American Beauty|Cooper, Chris (I)|1999|0.2136|1999|\n",
      "|             Syriana|Cooper, Chris (I)|2005|0.9458|2005|\n",
      "| The Horse Whisperer|Cooper, Chris (I)|1998|0.5985|1998|\n",
      "+--------------------+-----------------+----+------+----+\n",
      "only showing top 20 rows\n",
      "\n"
     ]
    }
   ],
   "source": [
    "join_df = movies_df.join(ratings_df,\"title\",\"inner\")\n",
    "join_df.show()"
   ]
  },
  {
   "cell_type": "code",
   "execution_count": 25,
   "id": "d1aec38a-b68b-430a-8b80-68aec5492bf1",
   "metadata": {},
   "outputs": [
    {
     "name": "stderr",
     "output_type": "stream",
     "text": [
      "[Stage 48:>                                                         (0 + 1) / 1]"
     ]
    },
    {
     "name": "stdout",
     "output_type": "stream",
     "text": [
      "+--------------------+-------------------+\n",
      "|            Director|        avg(rating)|\n",
      "+--------------------+-------------------+\n",
      "|    Branson, Richard|           2.410025|\n",
      "|      Craig, Georgia| 1.0695333333333334|\n",
      "|        Rossum, Emmy|           0.519075|\n",
      "|  Ironbear, Mylo (I)|             0.4139|\n",
      "|        Fiddy, James| 0.6698666666666666|\n",
      "|   Bosco, Philip (I)| 0.8079000000000001|\n",
      "|     Spencer, Chaske|0.15793333333333334|\n",
      "|            Rule, Ja|0.43706666666666666|\n",
      "|Bishop, Stephen (II)| 0.9120857142857143|\n",
      "|       Bannos, Steve| 0.9788400000000002|\n",
      "|       Lester, Loren|             0.7995|\n",
      "|      Mercurio, Tara| 0.9366666666666666|\n",
      "|     Abadie, William|               0.89|\n",
      "|  Taylor, Sandra (I)| 0.7988857142857142|\n",
      "|MacKay, Michael Reid|           0.977425|\n",
      "|Nichols, Jonathan...|            0.91915|\n",
      "|         Krupa, Olek| 0.8565111111111111|\n",
      "|        Hunt, Bonnie| 0.5260583333333333|\n",
      "|      Thornton, Kirk| 0.9596333333333332|\n",
      "|      Smigel, Robert|           0.838975|\n",
      "+--------------------+-------------------+\n",
      "only showing top 20 rows\n",
      "\n"
     ]
    },
    {
     "name": "stderr",
     "output_type": "stream",
     "text": [
      "                                                                                "
     ]
    }
   ],
   "source": [
    "from pyspark.sql.functions import avg\n",
    "join_df.groupBy(\"Director\").avg(\"rating\").show()"
   ]
  },
  {
   "cell_type": "markdown",
   "id": "475b3334-c3f4-47e3-a209-2c2a2efd8838",
   "metadata": {},
   "source": [
    "5. Crea un programa (ratings.py) que contenga el código del anterior ejercicio. (recuerda crear la SparkSession de forma correcta e importar todo lo necesario. Entregar, eun archivo pdf a parte (ejercicio5.pdf):\n",
    "   - a. Captura de pantalla del programa. (0,5)\n",
    "   - b. Primeras y últimas líneas de la ejecución en modo clúster.(0,5)"
   ]
  },
  {
   "cell_type": "code",
   "execution_count": null,
   "id": "73e58ea9-cd42-429c-8518-55c63457e0be",
   "metadata": {},
   "outputs": [],
   "source": []
  }
 ],
 "metadata": {
  "kernelspec": {
   "display_name": "Python 3 (ipykernel)",
   "language": "python",
   "name": "python3"
  },
  "language_info": {
   "codemirror_mode": {
    "name": "ipython",
    "version": 3
   },
   "file_extension": ".py",
   "mimetype": "text/x-python",
   "name": "python",
   "nbconvert_exporter": "python",
   "pygments_lexer": "ipython3",
   "version": "3.9.2"
  }
 },
 "nbformat": 4,
 "nbformat_minor": 5
}
