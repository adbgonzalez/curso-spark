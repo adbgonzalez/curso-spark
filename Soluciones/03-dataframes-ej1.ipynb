{
 "cells": [
  {
   "cell_type": "markdown",
   "id": "b1bfe3ed-163e-40ba-b351-4edb7d831520",
   "metadata": {},
   "source": [
    "# Ejercicios Dataframes 1\n",
    "Realiza los siguientes ejercicios. Soluciona cada uno de ellos empleando la DataFrame API y Spark SQL\n",
    "1. Inicializa la variable spark (0)"
   ]
  },
  {
   "cell_type": "code",
   "execution_count": 3,
   "id": "df77145a-ca3d-4d6a-b1a3-de67d78ec797",
   "metadata": {},
   "outputs": [],
   "source": [
    "import string\n",
    "import sys\n",
    "from pyspark import sql\n",
    "\n",
    "spark = sql.SparkSession.builder \\\n",
    "    .master(\"spark://spark-master:7077\") \\\n",
    "    .appName(\"03-dfej2\") \\\n",
    "    .config(\"spark.eventLog.enabled\", \"true\") \\\n",
    "    .config(\"spark.eventLog.dir\", \"hdfs:///spark/logs/history\") \\\n",
    "    .config(\"spark.history.fs.logDirectory\", \"hdfs:///spark/logs/history\") \\\n",
    "    .getOrCreate()\n",
    "\n",
    "sc = spark.sparkContext"
   ]
  },
  {
   "cell_type": "markdown",
   "id": "2b409446-04e9-49ac-b0e4-d85b5ca211d2",
   "metadata": {},
   "source": [
    "2. Crea un dataframe llamado mi_df con los datos del archivo *data/retail-data/all/online-retail-dataset.csv*"
   ]
  },
  {
   "cell_type": "code",
   "execution_count": 11,
   "id": "7801ebe4-7c84-47ce-a748-6d22ee0fcbd5",
   "metadata": {},
   "outputs": [
    {
     "name": "stderr",
     "output_type": "stream",
     "text": [
      "                                                                                "
     ]
    }
   ],
   "source": [
    "#DataFrame API\n",
    "mi_df = spark.read.option(\"header\", True).option(\"inferSchema\",\"true\").csv(\"/user/jovyan/data/retail-data/all/online-retail-dataset.csv\")\n",
    "\n",
    "\n",
    "#SQL\n",
    "\n"
   ]
  },
  {
   "cell_type": "markdown",
   "id": "e2d6cb80-b1d1-4057-852d-e7f54dc60588",
   "metadata": {},
   "source": [
    "3. Muestra las 10 primeras filas del dataframe"
   ]
  },
  {
   "cell_type": "code",
   "execution_count": 12,
   "id": "5d798706-e551-4a08-a9d5-efd718b6735a",
   "metadata": {},
   "outputs": [
    {
     "name": "stdout",
     "output_type": "stream",
     "text": [
      "+---------+---------+--------------------+--------+--------------+---------+----------+--------------+\n",
      "|InvoiceNo|StockCode|         Description|Quantity|   InvoiceDate|UnitPrice|CustomerID|       Country|\n",
      "+---------+---------+--------------------+--------+--------------+---------+----------+--------------+\n",
      "|   536365|   85123A|WHITE HANGING HEA...|       6|12/1/2010 8:26|     2.55|     17850|United Kingdom|\n",
      "|   536365|    71053| WHITE METAL LANTERN|       6|12/1/2010 8:26|     3.39|     17850|United Kingdom|\n",
      "|   536365|   84406B|CREAM CUPID HEART...|       8|12/1/2010 8:26|     2.75|     17850|United Kingdom|\n",
      "|   536365|   84029G|KNITTED UNION FLA...|       6|12/1/2010 8:26|     3.39|     17850|United Kingdom|\n",
      "|   536365|   84029E|RED WOOLLY HOTTIE...|       6|12/1/2010 8:26|     3.39|     17850|United Kingdom|\n",
      "|   536365|    22752|SET 7 BABUSHKA NE...|       2|12/1/2010 8:26|     7.65|     17850|United Kingdom|\n",
      "|   536365|    21730|GLASS STAR FROSTE...|       6|12/1/2010 8:26|     4.25|     17850|United Kingdom|\n",
      "|   536366|    22633|HAND WARMER UNION...|       6|12/1/2010 8:28|     1.85|     17850|United Kingdom|\n",
      "|   536366|    22632|HAND WARMER RED P...|       6|12/1/2010 8:28|     1.85|     17850|United Kingdom|\n",
      "|   536367|    84879|ASSORTED COLOUR B...|      32|12/1/2010 8:34|     1.69|     13047|United Kingdom|\n",
      "+---------+---------+--------------------+--------+--------------+---------+----------+--------------+\n",
      "only showing top 10 rows\n",
      "\n",
      "root\n",
      " |-- InvoiceNo: string (nullable = true)\n",
      " |-- StockCode: string (nullable = true)\n",
      " |-- Description: string (nullable = true)\n",
      " |-- Quantity: integer (nullable = true)\n",
      " |-- InvoiceDate: string (nullable = true)\n",
      " |-- UnitPrice: double (nullable = true)\n",
      " |-- CustomerID: integer (nullable = true)\n",
      " |-- Country: string (nullable = true)\n",
      "\n",
      "+---------+---------+--------------------+--------+--------------+---------+----------+--------------+\n",
      "|InvoiceNo|StockCode|         Description|Quantity|   InvoiceDate|UnitPrice|CustomerID|       Country|\n",
      "+---------+---------+--------------------+--------+--------------+---------+----------+--------------+\n",
      "|   536365|   85123A|WHITE HANGING HEA...|       6|12/1/2010 8:26|     2.55|     17850|United Kingdom|\n",
      "|   536365|    71053| WHITE METAL LANTERN|       6|12/1/2010 8:26|     3.39|     17850|United Kingdom|\n",
      "|   536365|   84406B|CREAM CUPID HEART...|       8|12/1/2010 8:26|     2.75|     17850|United Kingdom|\n",
      "|   536365|   84029G|KNITTED UNION FLA...|       6|12/1/2010 8:26|     3.39|     17850|United Kingdom|\n",
      "|   536365|   84029E|RED WOOLLY HOTTIE...|       6|12/1/2010 8:26|     3.39|     17850|United Kingdom|\n",
      "|   536365|    22752|SET 7 BABUSHKA NE...|       2|12/1/2010 8:26|     7.65|     17850|United Kingdom|\n",
      "|   536365|    21730|GLASS STAR FROSTE...|       6|12/1/2010 8:26|     4.25|     17850|United Kingdom|\n",
      "|   536366|    22633|HAND WARMER UNION...|       6|12/1/2010 8:28|     1.85|     17850|United Kingdom|\n",
      "|   536366|    22632|HAND WARMER RED P...|       6|12/1/2010 8:28|     1.85|     17850|United Kingdom|\n",
      "|   536367|    84879|ASSORTED COLOUR B...|      32|12/1/2010 8:34|     1.69|     13047|United Kingdom|\n",
      "+---------+---------+--------------------+--------+--------------+---------+----------+--------------+\n",
      "\n"
     ]
    }
   ],
   "source": [
    "#DataFrame API\n",
    "mi_df.show(10)\n",
    "mi_df.printSchema()\n",
    "#SQL\n",
    "mi_df.createOrReplaceTempView(\"retail\")\n",
    "spark.sql(\"select * from retail limit 10\").show()\n"
   ]
  },
  {
   "cell_type": "markdown",
   "id": "e1180d54-8a5e-45ac-bdcb-511f1dcfead3",
   "metadata": {},
   "source": [
    "4. Muestra sólo los camos \"InvoiceNo\", \"Description\" y \"Quantity\" de las 5 primeras filas"
   ]
  },
  {
   "cell_type": "code",
   "execution_count": 15,
   "id": "656d5df2-34a3-4b68-a15f-77889ef78069",
   "metadata": {},
   "outputs": [
    {
     "name": "stdout",
     "output_type": "stream",
     "text": [
      "+---------+--------------------+--------+\n",
      "|InvoiceNo|         Description|Quantity|\n",
      "+---------+--------------------+--------+\n",
      "|   536365|WHITE HANGING HEA...|       6|\n",
      "|   536365| WHITE METAL LANTERN|       6|\n",
      "|   536365|CREAM CUPID HEART...|       8|\n",
      "|   536365|KNITTED UNION FLA...|       6|\n",
      "|   536365|RED WOOLLY HOTTIE...|       6|\n",
      "|   536365|SET 7 BABUSHKA NE...|       2|\n",
      "|   536365|GLASS STAR FROSTE...|       6|\n",
      "|   536366|HAND WARMER UNION...|       6|\n",
      "|   536366|HAND WARMER RED P...|       6|\n",
      "|   536367|ASSORTED COLOUR B...|      32|\n",
      "|   536367|POPPY'S PLAYHOUSE...|       6|\n",
      "|   536367|POPPY'S PLAYHOUSE...|       6|\n",
      "|   536367|FELTCRAFT PRINCES...|       8|\n",
      "|   536367|IVORY KNITTED MUG...|       6|\n",
      "|   536367|BOX OF 6 ASSORTED...|       6|\n",
      "|   536367|BOX OF VINTAGE JI...|       3|\n",
      "|   536367|BOX OF VINTAGE AL...|       2|\n",
      "|   536367|HOME BUILDING BLO...|       3|\n",
      "|   536367|LOVE BUILDING BLO...|       3|\n",
      "|   536367|RECIPE BOX WITH M...|       4|\n",
      "+---------+--------------------+--------+\n",
      "only showing top 20 rows\n",
      "\n",
      "+---------+--------------------+--------+\n",
      "|InvoiceNo|         Description|Quantity|\n",
      "+---------+--------------------+--------+\n",
      "|   536365|WHITE HANGING HEA...|       6|\n",
      "|   536365| WHITE METAL LANTERN|       6|\n",
      "|   536365|CREAM CUPID HEART...|       8|\n",
      "|   536365|KNITTED UNION FLA...|       6|\n",
      "|   536365|RED WOOLLY HOTTIE...|       6|\n",
      "|   536365|SET 7 BABUSHKA NE...|       2|\n",
      "|   536365|GLASS STAR FROSTE...|       6|\n",
      "|   536366|HAND WARMER UNION...|       6|\n",
      "|   536366|HAND WARMER RED P...|       6|\n",
      "|   536367|ASSORTED COLOUR B...|      32|\n",
      "|   536367|POPPY'S PLAYHOUSE...|       6|\n",
      "|   536367|POPPY'S PLAYHOUSE...|       6|\n",
      "|   536367|FELTCRAFT PRINCES...|       8|\n",
      "|   536367|IVORY KNITTED MUG...|       6|\n",
      "|   536367|BOX OF 6 ASSORTED...|       6|\n",
      "|   536367|BOX OF VINTAGE JI...|       3|\n",
      "|   536367|BOX OF VINTAGE AL...|       2|\n",
      "|   536367|HOME BUILDING BLO...|       3|\n",
      "|   536367|LOVE BUILDING BLO...|       3|\n",
      "|   536367|RECIPE BOX WITH M...|       4|\n",
      "+---------+--------------------+--------+\n",
      "only showing top 20 rows\n",
      "\n"
     ]
    }
   ],
   "source": [
    "#DataFrame API\n",
    "mi_df.select(\"InvoiceNo\", \"Description\", \"Quantity\").show()\n",
    "\n",
    "#SQL\n",
    "spark.sql(\"select InvoiceNo, Description, Quantity from retail\").show()\n"
   ]
  },
  {
   "cell_type": "markdown",
   "id": "f45da884-a12f-4832-92a1-73796994444f",
   "metadata": {},
   "source": [
    "5. Muestra sólo los campos \"InvoiceNo\" (Factura), \"Description\" (Descripción) y \"Quantity\" (Cantidad) de lsa 5 primeras filas"
   ]
  },
  {
   "cell_type": "code",
   "execution_count": 19,
   "id": "2aff3971-b944-41b2-9866-98689dad19d6",
   "metadata": {},
   "outputs": [
    {
     "name": "stdout",
     "output_type": "stream",
     "text": [
      "+---------+--------------------+--------+\n",
      "|InvoiceNo|         Description|Quantity|\n",
      "+---------+--------------------+--------+\n",
      "|   536365|WHITE HANGING HEA...|       6|\n",
      "|   536365| WHITE METAL LANTERN|       6|\n",
      "|   536365|CREAM CUPID HEART...|       8|\n",
      "|   536365|KNITTED UNION FLA...|       6|\n",
      "|   536365|RED WOOLLY HOTTIE...|       6|\n",
      "+---------+--------------------+--------+\n",
      "only showing top 5 rows\n",
      "\n",
      "+---------+--------------------+--------+\n",
      "|InvoiceNo|         Description|Quantity|\n",
      "+---------+--------------------+--------+\n",
      "|   536365|WHITE HANGING HEA...|       6|\n",
      "|   536365| WHITE METAL LANTERN|       6|\n",
      "|   536365|CREAM CUPID HEART...|       8|\n",
      "|   536365|KNITTED UNION FLA...|       6|\n",
      "|   536365|RED WOOLLY HOTTIE...|       6|\n",
      "+---------+--------------------+--------+\n",
      "\n"
     ]
    }
   ],
   "source": [
    "\n",
    "#DataFrame API\n",
    "mi_df.select(\"InvoiceNo\", \"Description\", \"Quantity\").show(5)\n",
    "\n",
    "#SQL\n",
    "spark.sql(\"select InvoiceNo, Description, Quantity from retail limit 5\").show()\n",
    "\n",
    "\n",
    "\n"
   ]
  },
  {
   "cell_type": "markdown",
   "id": "4e16b87e-5960-415a-bf27-83fc235f5fd4",
   "metadata": {},
   "source": [
    "6. Muestra los campos \"Description\" y \"Quantity\" de las 5 primeras filas para el número de factura 536365"
   ]
  },
  {
   "cell_type": "code",
   "execution_count": 23,
   "id": "a965b84b-611c-43b7-90b8-4083b877e7c3",
   "metadata": {},
   "outputs": [
    {
     "name": "stdout",
     "output_type": "stream",
     "text": [
      "+--------------------+--------+\n",
      "|         Description|Quantity|\n",
      "+--------------------+--------+\n",
      "|WHITE HANGING HEA...|       6|\n",
      "| WHITE METAL LANTERN|       6|\n",
      "|CREAM CUPID HEART...|       8|\n",
      "|KNITTED UNION FLA...|       6|\n",
      "|RED WOOLLY HOTTIE...|       6|\n",
      "+--------------------+--------+\n",
      "only showing top 5 rows\n",
      "\n",
      "+--------------------+--------+\n",
      "|         Description|Quantity|\n",
      "+--------------------+--------+\n",
      "|WHITE HANGING HEA...|       6|\n",
      "| WHITE METAL LANTERN|       6|\n",
      "|CREAM CUPID HEART...|       8|\n",
      "|KNITTED UNION FLA...|       6|\n",
      "|RED WOOLLY HOTTIE...|       6|\n",
      "+--------------------+--------+\n",
      "\n"
     ]
    }
   ],
   "source": [
    "#DataFrame API\n",
    "\n",
    "mi_df.filter(\"InvoiceNO == 536365\").select(\"Description\",\"Quantity\").show(5)\n",
    "#SQL\n",
    "spark.sql(\"Select Description, Quantity from retail where InvoiceNo = 536365 limit 5\").show()\n"
   ]
  },
  {
   "cell_type": "markdown",
   "id": "33fa0bb2-5174-443b-bd34-c28a7b97f74f",
   "metadata": {},
   "source": [
    "7. Añade una nueva columna llamada \"Mayor_que_20\" que contenga el valor True si el coste total (quantity * UnitPrice) es mayor que 20, False en caso contrario. Muestra las 5 primeras filas."
   ]
  },
  {
   "cell_type": "code",
   "execution_count": 30,
   "id": "100b8c0c-b09c-4ecc-a542-7e73ee0b02e6",
   "metadata": {},
   "outputs": [
    {
     "name": "stdout",
     "output_type": "stream",
     "text": [
      "+---------+---------+--------------------+--------+--------------+---------+----------+--------------+------------+\n",
      "|InvoiceNo|StockCode|         Description|Quantity|   InvoiceDate|UnitPrice|CustomerID|       Country|Mayor_que_20|\n",
      "+---------+---------+--------------------+--------+--------------+---------+----------+--------------+------------+\n",
      "|   536365|   85123A|WHITE HANGING HEA...|       6|12/1/2010 8:26|     2.55|     17850|United Kingdom|       false|\n",
      "|   536365|    71053| WHITE METAL LANTERN|       6|12/1/2010 8:26|     3.39|     17850|United Kingdom|        true|\n",
      "|   536365|   84406B|CREAM CUPID HEART...|       8|12/1/2010 8:26|     2.75|     17850|United Kingdom|        true|\n",
      "|   536365|   84029G|KNITTED UNION FLA...|       6|12/1/2010 8:26|     3.39|     17850|United Kingdom|        true|\n",
      "|   536365|   84029E|RED WOOLLY HOTTIE...|       6|12/1/2010 8:26|     3.39|     17850|United Kingdom|        true|\n",
      "|   536365|    22752|SET 7 BABUSHKA NE...|       2|12/1/2010 8:26|     7.65|     17850|United Kingdom|       false|\n",
      "|   536365|    21730|GLASS STAR FROSTE...|       6|12/1/2010 8:26|     4.25|     17850|United Kingdom|        true|\n",
      "|   536366|    22633|HAND WARMER UNION...|       6|12/1/2010 8:28|     1.85|     17850|United Kingdom|       false|\n",
      "|   536366|    22632|HAND WARMER RED P...|       6|12/1/2010 8:28|     1.85|     17850|United Kingdom|       false|\n",
      "|   536367|    84879|ASSORTED COLOUR B...|      32|12/1/2010 8:34|     1.69|     13047|United Kingdom|        true|\n",
      "|   536367|    22745|POPPY'S PLAYHOUSE...|       6|12/1/2010 8:34|      2.1|     13047|United Kingdom|       false|\n",
      "|   536367|    22748|POPPY'S PLAYHOUSE...|       6|12/1/2010 8:34|      2.1|     13047|United Kingdom|       false|\n",
      "|   536367|    22749|FELTCRAFT PRINCES...|       8|12/1/2010 8:34|     3.75|     13047|United Kingdom|        true|\n",
      "|   536367|    22310|IVORY KNITTED MUG...|       6|12/1/2010 8:34|     1.65|     13047|United Kingdom|       false|\n",
      "|   536367|    84969|BOX OF 6 ASSORTED...|       6|12/1/2010 8:34|     4.25|     13047|United Kingdom|        true|\n",
      "|   536367|    22623|BOX OF VINTAGE JI...|       3|12/1/2010 8:34|     4.95|     13047|United Kingdom|       false|\n",
      "|   536367|    22622|BOX OF VINTAGE AL...|       2|12/1/2010 8:34|     9.95|     13047|United Kingdom|       false|\n",
      "|   536367|    21754|HOME BUILDING BLO...|       3|12/1/2010 8:34|     5.95|     13047|United Kingdom|       false|\n",
      "|   536367|    21755|LOVE BUILDING BLO...|       3|12/1/2010 8:34|     5.95|     13047|United Kingdom|       false|\n",
      "|   536367|    21777|RECIPE BOX WITH M...|       4|12/1/2010 8:34|     7.95|     13047|United Kingdom|        true|\n",
      "+---------+---------+--------------------+--------+--------------+---------+----------+--------------+------------+\n",
      "only showing top 20 rows\n",
      "\n",
      "+---------+---------+--------------------+--------+--------------+---------+----------+--------------+------------+\n",
      "|InvoiceNo|StockCode|         Description|Quantity|   InvoiceDate|UnitPrice|CustomerID|       Country|Mayor_que_20|\n",
      "+---------+---------+--------------------+--------+--------------+---------+----------+--------------+------------+\n",
      "|   536365|   85123A|WHITE HANGING HEA...|       6|12/1/2010 8:26|     2.55|     17850|United Kingdom|       false|\n",
      "|   536365|    71053| WHITE METAL LANTERN|       6|12/1/2010 8:26|     3.39|     17850|United Kingdom|        true|\n",
      "|   536365|   84406B|CREAM CUPID HEART...|       8|12/1/2010 8:26|     2.75|     17850|United Kingdom|        true|\n",
      "|   536365|   84029G|KNITTED UNION FLA...|       6|12/1/2010 8:26|     3.39|     17850|United Kingdom|        true|\n",
      "|   536365|   84029E|RED WOOLLY HOTTIE...|       6|12/1/2010 8:26|     3.39|     17850|United Kingdom|        true|\n",
      "|   536365|    22752|SET 7 BABUSHKA NE...|       2|12/1/2010 8:26|     7.65|     17850|United Kingdom|       false|\n",
      "|   536365|    21730|GLASS STAR FROSTE...|       6|12/1/2010 8:26|     4.25|     17850|United Kingdom|        true|\n",
      "|   536366|    22633|HAND WARMER UNION...|       6|12/1/2010 8:28|     1.85|     17850|United Kingdom|       false|\n",
      "|   536366|    22632|HAND WARMER RED P...|       6|12/1/2010 8:28|     1.85|     17850|United Kingdom|       false|\n",
      "|   536367|    84879|ASSORTED COLOUR B...|      32|12/1/2010 8:34|     1.69|     13047|United Kingdom|        true|\n",
      "|   536367|    22745|POPPY'S PLAYHOUSE...|       6|12/1/2010 8:34|      2.1|     13047|United Kingdom|       false|\n",
      "|   536367|    22748|POPPY'S PLAYHOUSE...|       6|12/1/2010 8:34|      2.1|     13047|United Kingdom|       false|\n",
      "|   536367|    22749|FELTCRAFT PRINCES...|       8|12/1/2010 8:34|     3.75|     13047|United Kingdom|        true|\n",
      "|   536367|    22310|IVORY KNITTED MUG...|       6|12/1/2010 8:34|     1.65|     13047|United Kingdom|       false|\n",
      "|   536367|    84969|BOX OF 6 ASSORTED...|       6|12/1/2010 8:34|     4.25|     13047|United Kingdom|        true|\n",
      "|   536367|    22623|BOX OF VINTAGE JI...|       3|12/1/2010 8:34|     4.95|     13047|United Kingdom|       false|\n",
      "|   536367|    22622|BOX OF VINTAGE AL...|       2|12/1/2010 8:34|     9.95|     13047|United Kingdom|       false|\n",
      "|   536367|    21754|HOME BUILDING BLO...|       3|12/1/2010 8:34|     5.95|     13047|United Kingdom|       false|\n",
      "|   536367|    21755|LOVE BUILDING BLO...|       3|12/1/2010 8:34|     5.95|     13047|United Kingdom|       false|\n",
      "|   536367|    21777|RECIPE BOX WITH M...|       4|12/1/2010 8:34|     7.95|     13047|United Kingdom|        true|\n",
      "+---------+---------+--------------------+--------+--------------+---------+----------+--------------+------------+\n",
      "only showing top 20 rows\n",
      "\n"
     ]
    }
   ],
   "source": [
    "from pyspark.sql.functions import expr\n",
    "#DataFrame API\n",
    "mi_df.withColumn(\"Mayor_que_20\",expr(\"quantity * UnitPrice > 20\")).show()\n",
    "\n",
    "#SQL\n",
    "spark.sql(\"SELECT *, quantity* UnitPrice >20 as Mayor_que_20 FROM retail\").show()\n"
   ]
  },
  {
   "cell_type": "markdown",
   "id": "9e6477dd-9231-49f5-a4e7-a7a106c8586f",
   "metadata": {},
   "source": [
    "8. Elimina la columna CustomerID"
   ]
  },
  {
   "cell_type": "code",
   "execution_count": 33,
   "id": "ff03c0ef-0dcf-4e0c-bc2a-f994f06b4015",
   "metadata": {},
   "outputs": [
    {
     "name": "stdout",
     "output_type": "stream",
     "text": [
      "+---------+---------+--------------------+--------+--------------+---------+--------------+\n",
      "|InvoiceNo|StockCode|         Description|Quantity|   InvoiceDate|UnitPrice|       Country|\n",
      "+---------+---------+--------------------+--------+--------------+---------+--------------+\n",
      "|   536365|   85123A|WHITE HANGING HEA...|       6|12/1/2010 8:26|     2.55|United Kingdom|\n",
      "|   536365|    71053| WHITE METAL LANTERN|       6|12/1/2010 8:26|     3.39|United Kingdom|\n",
      "|   536365|   84406B|CREAM CUPID HEART...|       8|12/1/2010 8:26|     2.75|United Kingdom|\n",
      "|   536365|   84029G|KNITTED UNION FLA...|       6|12/1/2010 8:26|     3.39|United Kingdom|\n",
      "|   536365|   84029E|RED WOOLLY HOTTIE...|       6|12/1/2010 8:26|     3.39|United Kingdom|\n",
      "|   536365|    22752|SET 7 BABUSHKA NE...|       2|12/1/2010 8:26|     7.65|United Kingdom|\n",
      "|   536365|    21730|GLASS STAR FROSTE...|       6|12/1/2010 8:26|     4.25|United Kingdom|\n",
      "|   536366|    22633|HAND WARMER UNION...|       6|12/1/2010 8:28|     1.85|United Kingdom|\n",
      "|   536366|    22632|HAND WARMER RED P...|       6|12/1/2010 8:28|     1.85|United Kingdom|\n",
      "|   536367|    84879|ASSORTED COLOUR B...|      32|12/1/2010 8:34|     1.69|United Kingdom|\n",
      "|   536367|    22745|POPPY'S PLAYHOUSE...|       6|12/1/2010 8:34|      2.1|United Kingdom|\n",
      "|   536367|    22748|POPPY'S PLAYHOUSE...|       6|12/1/2010 8:34|      2.1|United Kingdom|\n",
      "|   536367|    22749|FELTCRAFT PRINCES...|       8|12/1/2010 8:34|     3.75|United Kingdom|\n",
      "|   536367|    22310|IVORY KNITTED MUG...|       6|12/1/2010 8:34|     1.65|United Kingdom|\n",
      "|   536367|    84969|BOX OF 6 ASSORTED...|       6|12/1/2010 8:34|     4.25|United Kingdom|\n",
      "|   536367|    22623|BOX OF VINTAGE JI...|       3|12/1/2010 8:34|     4.95|United Kingdom|\n",
      "|   536367|    22622|BOX OF VINTAGE AL...|       2|12/1/2010 8:34|     9.95|United Kingdom|\n",
      "|   536367|    21754|HOME BUILDING BLO...|       3|12/1/2010 8:34|     5.95|United Kingdom|\n",
      "|   536367|    21755|LOVE BUILDING BLO...|       3|12/1/2010 8:34|     5.95|United Kingdom|\n",
      "|   536367|    21777|RECIPE BOX WITH M...|       4|12/1/2010 8:34|     7.95|United Kingdom|\n",
      "+---------+---------+--------------------+--------+--------------+---------+--------------+\n",
      "only showing top 20 rows\n",
      "\n",
      "+---------+---------+--------------------+--------+--------------+---------+--------------+\n",
      "|InvoiceNo|StockCode|         Description|Quantity|   InvoiceDate|UnitPrice|       Country|\n",
      "+---------+---------+--------------------+--------+--------------+---------+--------------+\n",
      "|   536365|   85123A|WHITE HANGING HEA...|       6|12/1/2010 8:26|     2.55|United Kingdom|\n",
      "|   536365|    71053| WHITE METAL LANTERN|       6|12/1/2010 8:26|     3.39|United Kingdom|\n",
      "|   536365|   84406B|CREAM CUPID HEART...|       8|12/1/2010 8:26|     2.75|United Kingdom|\n",
      "|   536365|   84029G|KNITTED UNION FLA...|       6|12/1/2010 8:26|     3.39|United Kingdom|\n",
      "|   536365|   84029E|RED WOOLLY HOTTIE...|       6|12/1/2010 8:26|     3.39|United Kingdom|\n",
      "|   536365|    22752|SET 7 BABUSHKA NE...|       2|12/1/2010 8:26|     7.65|United Kingdom|\n",
      "|   536365|    21730|GLASS STAR FROSTE...|       6|12/1/2010 8:26|     4.25|United Kingdom|\n",
      "|   536366|    22633|HAND WARMER UNION...|       6|12/1/2010 8:28|     1.85|United Kingdom|\n",
      "|   536366|    22632|HAND WARMER RED P...|       6|12/1/2010 8:28|     1.85|United Kingdom|\n",
      "|   536367|    84879|ASSORTED COLOUR B...|      32|12/1/2010 8:34|     1.69|United Kingdom|\n",
      "|   536367|    22745|POPPY'S PLAYHOUSE...|       6|12/1/2010 8:34|      2.1|United Kingdom|\n",
      "|   536367|    22748|POPPY'S PLAYHOUSE...|       6|12/1/2010 8:34|      2.1|United Kingdom|\n",
      "|   536367|    22749|FELTCRAFT PRINCES...|       8|12/1/2010 8:34|     3.75|United Kingdom|\n",
      "|   536367|    22310|IVORY KNITTED MUG...|       6|12/1/2010 8:34|     1.65|United Kingdom|\n",
      "|   536367|    84969|BOX OF 6 ASSORTED...|       6|12/1/2010 8:34|     4.25|United Kingdom|\n",
      "|   536367|    22623|BOX OF VINTAGE JI...|       3|12/1/2010 8:34|     4.95|United Kingdom|\n",
      "|   536367|    22622|BOX OF VINTAGE AL...|       2|12/1/2010 8:34|     9.95|United Kingdom|\n",
      "|   536367|    21754|HOME BUILDING BLO...|       3|12/1/2010 8:34|     5.95|United Kingdom|\n",
      "|   536367|    21755|LOVE BUILDING BLO...|       3|12/1/2010 8:34|     5.95|United Kingdom|\n",
      "|   536367|    21777|RECIPE BOX WITH M...|       4|12/1/2010 8:34|     7.95|United Kingdom|\n",
      "+---------+---------+--------------------+--------+--------------+---------+--------------+\n",
      "only showing top 20 rows\n",
      "\n"
     ]
    }
   ],
   "source": [
    "#DataFrame API\n",
    "mi_df.drop(\"CustomerID\").show()\n",
    "\n",
    "#SQL\n",
    "spark.sql(\"SELECT InvoiceNo, StockCode, Description, Quantity, InvoiceDate, UnitPrice, Country from retail\").show()\n"
   ]
  },
  {
   "cell_type": "markdown",
   "id": "14390748-8b44-42b5-9b9d-f8e59b8cc2cf",
   "metadata": {},
   "source": [
    "9. Muestra los países distintos (10 primeros)"
   ]
  },
  {
   "cell_type": "code",
   "execution_count": 41,
   "id": "c6c99cd2-962e-47c8-a682-a4a3b4a7a8a5",
   "metadata": {},
   "outputs": [
    {
     "name": "stdout",
     "output_type": "stream",
     "text": [
      "+---------------+\n",
      "|        Country|\n",
      "+---------------+\n",
      "|         Sweden|\n",
      "|      Singapore|\n",
      "|        Germany|\n",
      "|            RSA|\n",
      "|         France|\n",
      "|         Greece|\n",
      "|        Belgium|\n",
      "|        Finland|\n",
      "|          Malta|\n",
      "|    Unspecified|\n",
      "|          Italy|\n",
      "|           EIRE|\n",
      "|         Norway|\n",
      "|          Spain|\n",
      "|        Denmark|\n",
      "|      Hong Kong|\n",
      "|         Israel|\n",
      "|        Iceland|\n",
      "|Channel Islands|\n",
      "|            USA|\n",
      "+---------------+\n",
      "only showing top 20 rows\n",
      "\n",
      "+------------------+\n",
      "|           Country|\n",
      "+------------------+\n",
      "|            Sweden|\n",
      "|         Singapore|\n",
      "|           Germany|\n",
      "|            France|\n",
      "|            Greece|\n",
      "|European Community|\n",
      "|           Belgium|\n",
      "|           Finland|\n",
      "|             Malta|\n",
      "|       Unspecified|\n",
      "|             Italy|\n",
      "|              EIRE|\n",
      "|         Lithuania|\n",
      "|            Norway|\n",
      "|             Spain|\n",
      "|           Denmark|\n",
      "|         Hong Kong|\n",
      "|           Iceland|\n",
      "|            Israel|\n",
      "|   Channel Islands|\n",
      "+------------------+\n",
      "only showing top 20 rows\n",
      "\n"
     ]
    },
    {
     "name": "stderr",
     "output_type": "stream",
     "text": [
      "                                                                                "
     ]
    }
   ],
   "source": [
    "#DataFrame API\n",
    "mi_df.select(\"Country\").distinct().show()\n",
    "\n",
    "#SQL\n",
    "spark.sql(\"SELECT distinct Country from retail\").show()\n"
   ]
  },
  {
   "cell_type": "markdown",
   "id": "3e4a324b-9299-4988-b178-67ac1bea23ee",
   "metadata": {},
   "source": [
    "10. Muestra el número de países distintos"
   ]
  },
  {
   "cell_type": "code",
   "execution_count": 43,
   "id": "43f12815-50d2-43d7-9f66-886421a9e00e",
   "metadata": {},
   "outputs": [
    {
     "name": "stderr",
     "output_type": "stream",
     "text": [
      "                                                                                "
     ]
    },
    {
     "name": "stdout",
     "output_type": "stream",
     "text": [
      "38\n",
      "+-----------------------+\n",
      "|count(DISTINCT Country)|\n",
      "+-----------------------+\n",
      "|                     38|\n",
      "+-----------------------+\n",
      "\n"
     ]
    }
   ],
   "source": [
    "#DataFrame API\n",
    "print(mi_df.select(\"Country\").distinct().count())\n",
    "\n",
    "#SQL\n",
    "spark.sql(\"SELECT count(distinct Country) from retail\").show()\n"
   ]
  },
  {
   "cell_type": "markdown",
   "id": "37dc14d7-e6e4-4ec0-ac24-648494cabaf5",
   "metadata": {},
   "source": [
    "11. Muestra los países distintos, ordenados de forma ascendente"
   ]
  },
  {
   "cell_type": "code",
   "execution_count": 45,
   "id": "9b15bdb7-f591-44e4-8cfc-ce068e3f9f31",
   "metadata": {},
   "outputs": [
    {
     "name": "stdout",
     "output_type": "stream",
     "text": [
      "+------------------+\n",
      "|           Country|\n",
      "+------------------+\n",
      "|         Australia|\n",
      "|           Austria|\n",
      "|           Bahrain|\n",
      "|           Belgium|\n",
      "|            Brazil|\n",
      "|            Canada|\n",
      "|   Channel Islands|\n",
      "|            Cyprus|\n",
      "|    Czech Republic|\n",
      "|           Denmark|\n",
      "|              EIRE|\n",
      "|European Community|\n",
      "|           Finland|\n",
      "|            France|\n",
      "|           Germany|\n",
      "|            Greece|\n",
      "|         Hong Kong|\n",
      "|           Iceland|\n",
      "|            Israel|\n",
      "|             Italy|\n",
      "+------------------+\n",
      "only showing top 20 rows\n",
      "\n",
      "+------------------+\n",
      "|           Country|\n",
      "+------------------+\n",
      "|         Australia|\n",
      "|           Austria|\n",
      "|           Bahrain|\n",
      "|           Belgium|\n",
      "|            Brazil|\n",
      "|            Canada|\n",
      "|   Channel Islands|\n",
      "|            Cyprus|\n",
      "|    Czech Republic|\n",
      "|           Denmark|\n",
      "|              EIRE|\n",
      "|European Community|\n",
      "|           Finland|\n",
      "|            France|\n",
      "|           Germany|\n",
      "|            Greece|\n",
      "|         Hong Kong|\n",
      "|           Iceland|\n",
      "|            Israel|\n",
      "|             Italy|\n",
      "+------------------+\n",
      "only showing top 20 rows\n",
      "\n"
     ]
    }
   ],
   "source": [
    "#DataFrame API\n",
    "mi_df.select(\"Country\").distinct().sort(\"Country\").show()\n",
    "\n",
    "#SQL\n",
    "\n",
    "spark.sql(\"SELECT distinct Country from retail order by 1\").show()"
   ]
  },
  {
   "cell_type": "code",
   "execution_count": null,
   "id": "488d30ef-6cfd-408d-844b-6cd0637cdba8",
   "metadata": {},
   "outputs": [],
   "source": []
  }
 ],
 "metadata": {
  "kernelspec": {
   "display_name": "Python 3 (ipykernel)",
   "language": "python",
   "name": "python3"
  },
  "language_info": {
   "codemirror_mode": {
    "name": "ipython",
    "version": 3
   },
   "file_extension": ".py",
   "mimetype": "text/x-python",
   "name": "python",
   "nbconvert_exporter": "python",
   "pygments_lexer": "ipython3",
   "version": "3.9.2"
  }
 },
 "nbformat": 4,
 "nbformat_minor": 5
}
