{
 "cells": [
  {
   "cell_type": "markdown",
   "id": "3f57987d-a229-486b-8556-9d01504e4aa1",
   "metadata": {},
   "source": [
    "# Ejercicios RDD de pares\n",
    "1. Inicia las variables SparkSession y SparkContext (0)"
   ]
  },
  {
   "cell_type": "code",
   "execution_count": 1,
   "id": "ef9b91cb-568c-48ae-b033-18bd92eb18e3",
   "metadata": {},
   "outputs": [
    {
     "name": "stderr",
     "output_type": "stream",
     "text": [
      "Setting default log level to \"WARN\".\n",
      "To adjust logging level use sc.setLogLevel(newLevel). For SparkR, use setLogLevel(newLevel).\n"
     ]
    }
   ],
   "source": [
    "import string\n",
    "import sys\n",
    "from pyspark import sql\n",
    "\n",
    "session = sql.SparkSession.builder \\\n",
    "    .master(\"spark://spark-master:7077\") \\\n",
    "    .appName(\"01-rddej2\") \\\n",
    "    .config(\"spark.eventLog.enabled\", \"true\") \\\n",
    "    .config(\"spark.eventLog.dir\", \"hdfs:///spark/logs/history\") \\\n",
    "    .config(\"spark.history.fs.logDirectory\", \"hdfs:///spark/logs/history\") \\\n",
    "    .getOrCreate()\n",
    "\n",
    "sc = session.sparkContext"
   ]
  },
  {
   "cell_type": "markdown",
   "id": "e3a0f810-ba11-481f-a22c-0204752702a8",
   "metadata": {},
   "source": [
    "2. Crea un rdd de pares de la forma (palabra, 1) a partir del fichero data/el_quijote.txt (1)"
   ]
  },
  {
   "cell_type": "code",
   "execution_count": 6,
   "id": "087896ff-3e79-48bc-afb4-210f9b237064",
   "metadata": {},
   "outputs": [
    {
     "data": {
      "text/plain": [
       "[('DON', 1),\n",
       " ('QUIJOTE', 1),\n",
       " ('DE', 1),\n",
       " ('LA', 1),\n",
       " ('MANCHA', 1),\n",
       " ('Miguel', 1),\n",
       " ('de', 1),\n",
       " ('Cervantes', 1),\n",
       " ('Saavedra', 1),\n",
       " ('PRIMERA', 1)]"
      ]
     },
     "execution_count": 6,
     "metadata": {},
     "output_type": "execute_result"
    }
   ],
   "source": [
    "rdd = sc.textFile(\"hdfs:/user/jovyan/data/el_quijote.txt\").flatMap(lambda linea: linea.split()).map(lambda x: (x,1))\n",
    "rdd.take(10)"
   ]
  },
  {
   "cell_type": "markdown",
   "id": "5b0c9b12-89de-4306-a400-3e4c2dcafce0",
   "metadata": {},
   "source": [
    "3. A partir del RDD anterior, cuenta el número de ocurrencias de cada palabra (1)"
   ]
  },
  {
   "cell_type": "code",
   "execution_count": 13,
   "id": "5cee66f5-464c-452c-b3d5-fe72d00c6f9a",
   "metadata": {},
   "outputs": [
    {
     "name": "stdout",
     "output_type": "stream",
     "text": [
      "[('DE', 17), ('LA', 13), ('Miguel', 3), ('PRIMERA', 1), ('CAPÍTULO', 1), ('1:', 1), ('condición', 23), ('y', 8042), ('del', 1113), ('hidalgo', 16)]\n"
     ]
    }
   ],
   "source": [
    "word_count = rdd.reduceByKey(lambda a, b: a+b)\n",
    "print(word_count.take(10))"
   ]
  },
  {
   "cell_type": "markdown",
   "id": "1fef2c56-ca9d-4cde-8714-12b7b02a7b87",
   "metadata": {},
   "source": [
    "4. Repite los ejercicios 2 y 3 de forma que no se tengan en cuenta los signos de puntación y no se distingan mayúsculas de minúsculas (mapea todo a minúsuculas) (2)"
   ]
  },
  {
   "cell_type": "code",
   "execution_count": 15,
   "id": "c5f221d6-54f7-44dc-968c-73ed113051ca",
   "metadata": {},
   "outputs": [
    {
     "data": {
      "text/plain": [
       "[('no', 3077),\n",
       " ('mis', 170),\n",
       " ('alabanzas', 13),\n",
       " ('don', 1072),\n",
       " ('porque', 768),\n",
       " ('género', 29),\n",
       " ('y', 8668),\n",
       " ('ésta', 31),\n",
       " ('lo', 1806),\n",
       " ('sea', 132)]"
      ]
     },
     "execution_count": 15,
     "metadata": {},
     "output_type": "execute_result"
    }
   ],
   "source": [
    "rdd_fixed = rdd.map(lambda x: (x[0].lower().translate(str.maketrans('', '', string.punctuation)),x[1]))\n",
    "word_count_fixed = rdd_fixed.reduceByKey(lambda a, b: a+b)\n",
    "word_count_fixed.take(10)"
   ]
  },
  {
   "cell_type": "markdown",
   "id": "da5279c8-2a9f-4ab1-82c0-136f280b2eb2",
   "metadata": {},
   "source": [
    "5. A partir de los ficheros data/notas/notas_mates.txt, data/notas/notas_fisica.txt y data/notas/notas_ingles.txt, realiza las siguientes operaciones:\n",
    "   - a) Crea 3 RDD de pares uno para cada asignatura (notas_mates, notas_ingles, notas_fisica) (0,5)\n",
    "   - b) Crea un RDD que sea la unión de los 3 anteriores (0,5)\n",
    "   - c) Muestra la nota más baja de cada alumno (1)\n",
    "   - d) Muestra la nota media de cada alumno (1)\n",
    "   - e) Muestra cuantos estudiantes suspenden cada asignatura (1)\n",
    "   - f) Muestra en qué asignatura suspende más gente (1)\n",
    "   - g) Obtén un RDD que que asocie a cada alumno con las notas en todas las asignaturas (1)"
   ]
  },
  {
   "cell_type": "code",
   "execution_count": 24,
   "id": "60d940f3-8d71-4bb3-b2cf-7e7ae711e9f7",
   "metadata": {},
   "outputs": [
    {
     "data": {
      "text/plain": [
       "[('Angel', 6.0),\n",
       " ('Maria', 2.0),\n",
       " ('Ramon', 4.5),\n",
       " ('Jorge', 10.0),\n",
       " ('Susana', 9.0),\n",
       " ('Anabel', 8.0),\n",
       " ('Pedro', 5.0),\n",
       " ('Rocio', 6.0),\n",
       " ('Carlos', 4.0),\n",
       " ('Triana', 3.0),\n",
       " ('Andres', 4.0),\n",
       " ('Fernando', 5.0),\n",
       " ('Leonardo', 1.0),\n",
       " ('Oscar', 7.0),\n",
       " ('Isabel', 8.0),\n",
       " ('Jose Juan', 5.0),\n",
       " ('Nicolas', 2.0),\n",
       " ('Alejandro', 5.0),\n",
       " ('Rosa', 6.0)]"
      ]
     },
     "execution_count": 24,
     "metadata": {},
     "output_type": "execute_result"
    }
   ],
   "source": [
    "# a)\n",
    "\n",
    "notas_mates = sc.textFile(\"hdfs:/user/jovyan/data/notas/notas_mates.txt\").map(lambda linea: (linea.split(',')[0], float(linea.split(',')[1])))\n",
    "notas_ingles = sc.textFile(\"hdfs:/user/jovyan/data/notas/notas_ingles.txt\").map(lambda linea: (linea.split(',')[0], float(linea.split(',')[1])))\n",
    "notas_fisica = sc.textFile(\"hdfs:/user/jovyan/data/notas/notas_fisica.txt\").map(lambda linea: (linea.split(',')[0], float(linea.split(',')[1])))\n",
    "notas_mates.collect()\n",
    "\n"
   ]
  },
  {
   "cell_type": "code",
   "execution_count": 25,
   "id": "b008dd84-05ca-486b-a251-b80a68c521b7",
   "metadata": {},
   "outputs": [
    {
     "data": {
      "text/plain": [
       "[('Angel', 6.0),\n",
       " ('Maria', 2.0),\n",
       " ('Ramon', 4.5),\n",
       " ('Jorge', 10.0),\n",
       " ('Susana', 9.0),\n",
       " ('Anabel', 8.0),\n",
       " ('Pedro', 5.0),\n",
       " ('Rocio', 6.0),\n",
       " ('Carlos', 4.0),\n",
       " ('Triana', 3.0)]"
      ]
     },
     "execution_count": 25,
     "metadata": {},
     "output_type": "execute_result"
    }
   ],
   "source": [
    "# b)\n",
    "rdd_union = notas_mates.union(notas_fisica).union(notas_ingles)\n",
    "\n",
    "rdd_union.take(10)"
   ]
  },
  {
   "cell_type": "code",
   "execution_count": 29,
   "id": "307eb58f-e7cd-40c8-8f34-8f953dae0627",
   "metadata": {},
   "outputs": [
    {
     "name": "stderr",
     "output_type": "stream",
     "text": [
      "[Stage 19:=============================>                            (3 + 2) / 6]"
     ]
    },
    {
     "name": "stdout",
     "output_type": "stream",
     "text": [
      "Nota más baja de cada alumno: [('Angel', 4.0), ('Carlos', 4.0), ('Anabel', 2.0), ('Jose Juan', 3.0), ('Andres', 4.0), ('Jorge', 5.0), ('Susana', 2.0), ('Fernando', 5.0), ('Oscar', 3.0), ('Isabel', 7.0), ('Alejandro', 3.0), ('Rocio', 4.0), ('Leonardo', 1.0), ('Nicolas', 2.0), ('Ramon', 4.5), ('Pedro', 2.0), ('Maria', 2.0), ('Triana', 3.0), ('Rosa', 6.0)]\n"
     ]
    },
    {
     "name": "stderr",
     "output_type": "stream",
     "text": [
      "                                                                                "
     ]
    }
   ],
   "source": [
    "# c)\n",
    "print(f\"Nota más baja de cada alumno: {rdd_union.reduceByKey(lambda x,y : min(x,y)).collect()}\")"
   ]
  },
  {
   "cell_type": "code",
   "execution_count": 36,
   "id": "84ca9b75-ee55-4d26-9367-a814c5a9632c",
   "metadata": {},
   "outputs": [
    {
     "name": "stdout",
     "output_type": "stream",
     "text": [
      "Nota media de cada alumno: [('Angel', 6.333333333333333), ('Carlos', 5.333333333333333), ('Anabel', 5.666666666666667), ('Jose Juan', 3.6666666666666665), ('Jorge', 6.666666666666667), ('Susana', 6.666666666666667), ('Andres', 4.666666666666667), ('Rocio', 5.5), ('Fernando', 7.0), ('Oscar', 5.0), ('Isabel', 7.666666666666667), ('Alejandro', 5.0), ('Leonardo', 3.6666666666666665), ('Nicolas', 4.666666666666667), ('Ramon', 6.5), ('Pedro', 3.5), ('Maria', 3.6666666666666665), ('Triana', 3.3333333333333335), ('Rosa', 7.666666666666667)]\n"
     ]
    }
   ],
   "source": [
    "# d)\n",
    "print(f\"Nota media de cada alumno: {rdd_union.groupByKey().mapValues(lambda notas: sum(notas)/len(notas)).collect()}\")\n"
   ]
  },
  {
   "cell_type": "code",
   "execution_count": null,
   "id": "bd47e7ef-5fab-4d29-b4d2-9ed65993aee8",
   "metadata": {},
   "outputs": [],
   "source": [
    "# e)\n",
    "suspenden_mates = notas_mates_rdd.filter(lambda x: x[1] < 5).count()\n",
    "suspenden_fisica = notas_fisica_rdd.filter(lambda x: x[1] < 5).count()\n",
    "suspenden_ingles = notas_ingles_rdd.filter(lambda x: x[1] < 5).count()\n",
    "print(f\"Estudiantes que suspenden Matemáticas: {suspenden_mates}\")\n",
    "print(f\"Estudiantes que suspenden Física: {suspenden_fisica}\")\n",
    "print(f\"Estudiantes que suspenden Inglés: {suspenden_ingles}\")"
   ]
  },
  {
   "cell_type": "code",
   "execution_count": null,
   "id": "86fe1177-092d-471f-88fd-18ca9015ddc1",
   "metadata": {},
   "outputs": [],
   "source": [
    "# f)\n",
    "\n",
    "if suspenden_mates > suspenden_fisica and suspenden_mates > suspenden_ingles:\n",
    "    print(f\"La asignatura con más suspendidos es Matemáticas\")\n",
    "elif suspenden_fisica > suspenden_mates and suspenden_fisica > suspenden_ingles:\n",
    "    print(f\"La asignatura con más suspendidos es Física\")\n",
    "else:\n",
    "    print(f\"La asignatura con más suspendidos es Inglés.\")"
   ]
  },
  {
   "cell_type": "code",
   "execution_count": 38,
   "id": "32d6b4d5-bd02-4e15-8d47-9f600e88070e",
   "metadata": {},
   "outputs": [
    {
     "name": "stderr",
     "output_type": "stream",
     "text": [
      "                                                                                "
     ]
    },
    {
     "data": {
      "text/plain": [
       "[('Carlos', (4.0, 4.0, 8.0)),\n",
       " ('Angel', (6.0, 9.0, 4.0)),\n",
       " ('Anabel', (8.0, 2.0, 7.0)),\n",
       " ('Jose Juan', (5.0, 3.0, 3.0)),\n",
       " ('Jorge', (10.0, 5.0, 5.0)),\n",
       " ('Susana', (9.0, 9.0, 2.0)),\n",
       " ('Andres', (4.0, 4.0, 6.0)),\n",
       " ('Oscar', (7.0, 5.0, 3.0)),\n",
       " ('Rocio', (6.0, 5.0, 4.0)),\n",
       " ('Rocio', (6.0, 7.0, 4.0)),\n",
       " ('Fernando', (5.0, 9.0, 7.0)),\n",
       " ('Isabel', (8.0, 8.0, 7.0)),\n",
       " ('Alejandro', (5.0, 3.0, 7.0)),\n",
       " ('Leonardo', (1.0, 6.0, 4.0)),\n",
       " ('Nicolas', (2.0, 7.0, 5.0)),\n",
       " ('Ramon', (4.5, 7.0, 8.0)),\n",
       " ('Maria', (2.0, 3.0, 6.0)),\n",
       " ('Triana', (3.0, 3.0, 4.0)),\n",
       " ('Rosa', (6.0, 8.0, 9.0))]"
      ]
     },
     "execution_count": 38,
     "metadata": {},
     "output_type": "execute_result"
    }
   ],
   "source": [
    "# g)\n",
    "rdd_total = notas_mates.join(notas_fisica).join(notas_ingles).mapValues(lambda t: (t[0][0], t[0][1], t[1]))\n",
    "rdd_total.collect()"
   ]
  },
  {
   "cell_type": "code",
   "execution_count": null,
   "id": "e0e66b4b-cbad-41ad-9b48-bc085b445af4",
   "metadata": {},
   "outputs": [],
   "source": []
  }
 ],
 "metadata": {
  "kernelspec": {
   "display_name": "Python 3 (ipykernel)",
   "language": "python",
   "name": "python3"
  },
  "language_info": {
   "codemirror_mode": {
    "name": "ipython",
    "version": 3
   },
   "file_extension": ".py",
   "mimetype": "text/x-python",
   "name": "python",
   "nbconvert_exporter": "python",
   "pygments_lexer": "ipython3",
   "version": "3.9.2"
  }
 },
 "nbformat": 4,
 "nbformat_minor": 5
}
