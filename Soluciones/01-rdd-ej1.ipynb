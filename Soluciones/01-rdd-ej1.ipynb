{
 "cells": [
  {
   "cell_type": "markdown",
   "id": "89475821-66a0-4c6c-b4ce-65885e7963b9",
   "metadata": {},
   "source": [
    "# Ejercicios basicos RDD\n",
    "1. Inicia las variables SparkSession y SparkContext (0,5)"
   ]
  },
  {
   "cell_type": "code",
   "execution_count": 2,
   "id": "95f588dd-1dce-4313-a263-a6b5b393125e",
   "metadata": {},
   "outputs": [
    {
     "name": "stderr",
     "output_type": "stream",
     "text": [
      "Setting default log level to \"WARN\".\n",
      "To adjust logging level use sc.setLogLevel(newLevel). For SparkR, use setLogLevel(newLevel).\n"
     ]
    }
   ],
   "source": [
    "from pyspark.sql import SparkSession\n",
    "\n",
    "spark = SparkSession.builder \\\n",
    "    .master(\"spark://spark-master:7077\") \\\n",
    "    .appName(\"01-rddej1\") \\\n",
    "    .config(\"spark.eventLog.enabled\", \"true\") \\\n",
    "    .config(\"spark.eventLog.dir\", \"hdfs:///spark/logs/history\") \\\n",
    "    .config(\"spark.history.fs.logDirectory\", \"hdfs:///spark/logs/history\") \\\n",
    "    .getOrCreate()\n",
    "\n",
    "spark.version  # Verifica la versión de Spark\n",
    "\n",
    "#spark = SparkSession.builder.getOrCreate()\n",
    "\n",
    "sc = spark.sparkContext"
   ]
  },
  {
   "cell_type": "markdown",
   "id": "3bdcc80c-0b1b-489c-b231-7ae38eaf4d27",
   "metadata": {},
   "source": [
    "2. Crea un rdd de enteros en un rango de 100 llamado rdd1 (0,5)"
   ]
  },
  {
   "cell_type": "code",
   "execution_count": 3,
   "id": "b1d1443f-7765-4f33-a66f-afc8dc2fa853",
   "metadata": {},
   "outputs": [],
   "source": [
    "rdd1 = sc.parallelize(range(100))\n",
    "#rdd1.collect()"
   ]
  },
  {
   "cell_type": "markdown",
   "id": "739deac0-b155-4f9d-b977-94887240842d",
   "metadata": {},
   "source": [
    "3. Crea un rdd de strings a partir de la frase \"Inteligencia Articicial y Big Data: Big Data Aplicado\" con el nombre rdd2 (0,5)"
   ]
  },
  {
   "cell_type": "code",
   "execution_count": 4,
   "id": "05d4e60c-166d-4a85-ad8f-973a9cd28d88",
   "metadata": {},
   "outputs": [],
   "source": [
    "rdd2 = sc.parallelize(\"Inteligencia Articicial y Big Data: Big Data Aplicado\".split())\n",
    "#rdd2.collect()"
   ]
  },
  {
   "cell_type": "markdown",
   "id": "29721a2c-64dd-4c45-98d8-b2997fa0010e",
   "metadata": {},
   "source": [
    "4. Crea un rdd a partir del archivo data/el_quijote.txt con el nombre rdd3 (0,5)"
   ]
  },
  {
   "cell_type": "code",
   "execution_count": 5,
   "id": "424a575b-e78e-4c6c-a37d-baeb1f7aaaed",
   "metadata": {},
   "outputs": [],
   "source": [
    "from pyspark import SparkFiles\n",
    "rdd3 = sc.textFile(\"hdfs:/user/jovyan/data/el_quijote.txt\")\n",
    "#rdd3.take(10)\n"
   ]
  },
  {
   "cell_type": "markdown",
   "id": "be548089-1d22-4231-8155-e4daf642fbf8",
   "metadata": {},
   "source": [
    "5. Para el rdd1 (2):\n",
    "   - a. Muestra los 3 primeros elementos\n",
    "   - b. muestra todos los elementos\n",
    "   - c. Obtén la suma de todos sus elementos\n",
    "   - d. Obtén la suma de los elementos que son múltiplos de 2\n",
    "   "
   ]
  },
  {
   "cell_type": "code",
   "execution_count": 7,
   "id": "5df58c57-c49b-4445-89b0-1b8719a01188",
   "metadata": {},
   "outputs": [
    {
     "name": "stdout",
     "output_type": "stream",
     "text": [
      "a. Tres primeros elementos: [0, 1, 2]\n",
      "b. Todos los elementos: [0, 1, 2, 3, 4, 5, 6, 7, 8, 9, 10, 11, 12, 13, 14, 15, 16, 17, 18, 19, 20, 21, 22, 23, 24, 25, 26, 27, 28, 29, 30, 31, 32, 33, 34, 35, 36, 37, 38, 39, 40, 41, 42, 43, 44, 45, 46, 47, 48, 49, 50, 51, 52, 53, 54, 55, 56, 57, 58, 59, 60, 61, 62, 63, 64, 65, 66, 67, 68, 69, 70, 71, 72, 73, 74, 75, 76, 77, 78, 79, 80, 81, 82, 83, 84, 85, 86, 87, 88, 89, 90, 91, 92, 93, 94, 95, 96, 97, 98, 99]\n",
      "c. Suma de todos los elementos: 4950\n",
      "d. Suma de los múltiplos de dos: 2450\n"
     ]
    }
   ],
   "source": [
    "#a.\n",
    "print (f\"a. Tres primeros elementos: {rdd1.take(3)}\")\n",
    "#b. \n",
    "print(f\"b. Todos los elementos: {rdd1.collect()}\")\n",
    "#c\n",
    "print (f\"c. Suma de todos los elementos: {rdd1.reduce(lambda x,y: x+y)}\");\n",
    "#d\n",
    "print (f\"d. Suma de los múltiplos de dos: {rdd1.filter(lambda x: x % 2 == 0).reduce(lambda x,y: x+y)}\");"
   ]
  },
  {
   "cell_type": "markdown",
   "id": "d22a48c9-b96a-4e2c-82eb-6b8ae72a67ce",
   "metadata": {},
   "source": [
    "6. Para el rdd2 (2):\n",
    "   - a) Muestra una muestra del 40% de los elementos\n",
    "   - b) Muestra el número de elementos\n",
    "   - c) Muestra el número de elementos que empiezan por la letra 'b', después de pasar los elementos a minúsculas\n",
    "   - d) Muestra los elementos distintos\n",
    "   - e) Muestra el número de elementos distintos\n",
    "   "
   ]
  },
  {
   "cell_type": "code",
   "execution_count": 9,
   "id": "ba075395-e8fc-4fd8-b8b8-5c1d8f0d2d91",
   "metadata": {},
   "outputs": [
    {
     "name": "stdout",
     "output_type": "stream",
     "text": [
      "a. Muestra del 40%: ['y', 'Big', 'Aplicado']\n",
      "b. Número de elementos: 8\n",
      "c. Número de elementos que empiezan por b en minúscula: 2\n",
      "d. Elementos distintos: ['Aplicado', 'y', 'Inteligencia', 'Articicial', 'Big', 'Data:', 'Data']\n",
      "e. Número de elementoslementos distintos: 7\n"
     ]
    }
   ],
   "source": [
    "#a\n",
    "size = rdd2.count()\n",
    "sample = int(size*0.4)\n",
    "print (f\"a. Muestra del 40%: {rdd2.takeSample(True, sample)}\")\n",
    "#b\n",
    "print(f\"b. Número de elementos: {rdd2.count()}\")\n",
    "\n",
    "#c \n",
    "print(f\"c. Número de elementos que empiezan por b en minúscula: {rdd2.map(lambda x: x.lower()).filter(lambda x:x.startswith('b')).count()}\")\n",
    "\n",
    "#d \n",
    "print (f\"d. Elementos distintos: {rdd2.distinct().collect()}\")\n",
    "\n",
    "#e\n",
    "\n",
    "print (f\"e. Número de elementoslementos distintos: {rdd2.distinct().count()}\")"
   ]
  },
  {
   "cell_type": "markdown",
   "id": "0390e347-5e96-49c9-8ec0-c565aa7c0b07",
   "metadata": {},
   "source": [
    "7. Para el rdd3 (4):\n",
    "   - a) Obtén el número de líneas\n",
    "   - b) Obtén el número de palabras\n",
    "   - c) Obtén la línea de mayor longitud\n",
    "   - d) Obtén la palabra de mayor longitud\n",
    "   - e) Obtén las 3 palabras más largas\n",
    "   - f) Obtén la suma de las longitudes de todas las palabras\n",
    "   - g) Obtén el número de líneas que contengan la palabra \"quijote\" (pasa primero a minúsculas)\n",
    "   - h) Obtén el número de palabras con longitud superior a 6"
   ]
  },
  {
   "cell_type": "code",
   "execution_count": 16,
   "id": "e322dd77-8a9d-4d46-ace4-f50a53ff94b0",
   "metadata": {},
   "outputs": [
    {
     "name": "stdout",
     "output_type": "stream",
     "text": [
      "a. Número de líneas: 2186\n",
      "b. Número de palabras: 187018\n",
      "c. linea mayor longitud: caballeros, cuantos en mi corte están, a recebir a la flor de la caballería, que allí viene!'' A cuyo mandamiento saldrán todos, y él llegará hasta la mitad de la escalera, y le abrazará estrechísimamente, y le dará paz besándole en el rostro; y luego le llevará por la mano al aposento de la señora reina, adonde el caballero la hallará con la infanta, su hija, que ha de ser una de las más fermosas y acabadas doncellas que, en gran parte de lo descubierto de la tierra, a duras penas se pueda hallar. Sucederá tras esto, luego en continente, que ella ponga los ojos en el caballero y él en los della, y cada uno parezca a otro cosa más divina que humana; y, sin saber cómo ni cómo [no], han de quedar presos y enlazados en la intricable red amorosa, y con gran cuita en sus corazones por no saber cómo se han de fablar para descubrir sus ansias y sentimientos. Desde allí le llevarán, sin duda, a algún cuarto del palacio, ricamente aderezado, donde, habiéndole quitado las armas, le traerán un rico manto de escarlata con que se cubra; y si bien pareció armado, tan bien y mejor ha de parecer en farseto. Venida la noche, cenará con el rey, reina e infanta, donde nunca quitará los ojos della, mirándola a furto de los circustantes, y ella hará lo mesmo con la mesma sagacidad, porque, como tengo dicho, es muy discreta doncella. Levantarse han las tablas, y entrará a deshora por la puerta de la sala un feo y pequeño enano con una fermosa dueña, que, entre dos gigantes, detrás del enano viene, con cierta aventura, hecha por un antiquísimo sabio, que el que la acabare será tenido por el mejor caballero del mundo. Mandará luego el rey que todos los que están presentes la prueben, y ninguno le dará fin y cima sino el caballero huésped, en mucho pro de su fama, de lo cual quedará contentísima la infanta, y se tendrá por contenta y pagada además, por haber puesto y colocado sus pensamientos en tan alta parte. Y lo bueno es que este rey, o príncipe, o lo que es, tiene una muy reñida guerra con otro tan poderoso como él, y el caballero huésped le pide (al cabo de algunos días que ha estado en su corte) licencia para ir a servirle en aquella guerra dicha. Darásela el rey de muy buen talante, y el caballero le besará cortésmente las manos por la merced que le face. Y aquella noche se despedirá de su señora la infanta por las rejas de un jardín, que cae en el aposento donde ella duerme, por las cuales ya otras muchas veces la había fablado, siendo medianera y sabidora de todo una doncella de quien la infanta mucho se fiaba. Sospirará él, desmayaráse ella, traerá agua la doncella, acuitaráse mucho porque viene la mañana, y no querría que fuesen descubiertos, por la honra de su señora. Finalmente, la infanta volverá en sí y dará sus blancas manos por la reja al caballero, el cual se las besará mil y mil veces y se las bañará en lágrimas. Quedará concertado entre los dos del modo que se han de hacer saber sus buenos o malos sucesos, y rogarále la princesa que se detenga lo menos que pudiere; prometérselo ha él con muchos juramentos; tórnale a besar las manos, y despídese con tanto sentimiento que estará poco por acabar la vida. Vase desde allí a su aposento, échase sobre su lecho, no puede dormir del dolor de la partida, madruga muy de mañana, vase a despedir del rey y de la reina y de la infanta; dícenle, habiéndose despedido de los dos, que la señora infanta está mal dispuesta y que no puede recebir visita; piensa el caballero que es de pena de su partida, traspásasele el corazón, y falta poco de no dar indicio manifiesto de su pena. Está la doncella medianera delante, halo de notar todo, váselo a decir a su señora, la cual la recibe con lágrimas y le dice que una de las mayores penas que tiene es no saber quién sea su caballero, y si es de linaje de reyes o no; asegúrala la doncella que no puede caber tanta cortesía, gentileza y valentía como la de su caballero sino en subjeto real y grave; consuélase con esto la cuitada; procura consolarse, por no dar mal indicio de sí a sus padres, y, a cabo de dos días, sale en público. Ya se es ido el caballero: pelea en la guerra, vence al enemigo del rey, gana muchas ciudades, triunfa de muchas batallas, vuelve a la corte, ve a su señora por donde suele, conciértase que la pida a su padre por mujer en pago de sus servicios. No se la quiere dar el rey, porque no sabe quién es; pero, con todo esto, o robada o de otra cualquier suerte que sea, la infanta viene a ser su esposa y su padre lo viene a tener a gran ventura, porque se vino a averiguar que el tal caballero es hijo de un valeroso rey de no sé qué reino, porque creo que no debe de estar en el mapa.\n",
      "d. palabra mayor longitud: procuremos.Levántate,\n",
      "e. 3 palabras más largas: ['procuremos.Levántate,', 'extraordinariamente,', 'estrechísimamente,']\n",
      "e. 3 palabras más largas (alt): ['procuremos.Levántate,', 'extraordinariamente,', 'estrechísimamente,']\n",
      "f. suma de longitudes: 851378\n",
      "g. líneas contienen quijote: 590\n",
      "h. Palabras con longitud superior a 6: 44693\n"
     ]
    }
   ],
   "source": [
    "#a. \n",
    "rdd3.take(2)\n",
    "print(f\"a. Número de líneas: {rdd3.count()}\")\n",
    "#b.\n",
    "print (f\"b. Número de palabras: {rdd3.flatMap(lambda linea: linea.split()).count()}\")\n",
    "#c.\n",
    "print(f\"c. linea mayor longitud: {rdd3.max(lambda linea: len(linea))}\")\n",
    "\n",
    "#d.\n",
    "print(f\"d. palabra mayor longitud: {rdd3.flatMap(lambda linea: linea.split()).max(len)}\")\n",
    "\n",
    "#e\n",
    "print(f\"e. 3 palabras más largas: {rdd3.flatMap(lambda linea: linea.split()).sortBy(lambda x: -len(x)).take(3)}\")\n",
    "print(f\"e. 3 palabras más largas (alt): {rdd3.flatMap(lambda linea: linea.split()).takeOrdered(3, lambda x: -len(x))}\")\n",
    "\n",
    "#f: \n",
    "print(f\"f. suma de longitudes: {rdd3.flatMap(lambda linea: linea.split()).map(lambda x: len(x)).reduce(lambda x, y: x+y)}\")\n",
    "\n",
    "#g\n",
    "print(f\"g. líneas contienen quijote: {rdd3.map(lambda l: l.lower()).filter(lambda l: 'quijote' in l).count()}\")\n",
    "\n",
    "#h \n",
    "print(f\"h. Palabras con longitud superior a 6: {rdd3.flatMap(lambda linea: linea.split()).filter(lambda x: len(x) > 6).count()}\")"
   ]
  },
  {
   "cell_type": "code",
   "execution_count": null,
   "id": "8499d6e7-6c0d-4c84-9acd-3e0899c16a69",
   "metadata": {},
   "outputs": [],
   "source": []
  }
 ],
 "metadata": {
  "kernelspec": {
   "display_name": "Python 3 (ipykernel)",
   "language": "python",
   "name": "python3"
  },
  "language_info": {
   "codemirror_mode": {
    "name": "ipython",
    "version": 3
   },
   "file_extension": ".py",
   "mimetype": "text/x-python",
   "name": "python",
   "nbconvert_exporter": "python",
   "pygments_lexer": "ipython3",
   "version": "3.9.2"
  }
 },
 "nbformat": 4,
 "nbformat_minor": 5
}
