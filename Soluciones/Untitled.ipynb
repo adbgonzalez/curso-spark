{
 "cells": [
  {
   "cell_type": "code",
   "execution_count": 36,
   "id": "902f9da9-e228-4f80-a871-cea27ffe6858",
   "metadata": {},
   "outputs": [],
   "source": [
    "from pyspark.sql import SparkSession\n",
    "from pyspark.sql.types import StructType, StructField, StringType, IntegerType, DoubleType, TimestampType, DateType\n",
    "from pyspark.sql.functions import expr,count\n",
    "import time, random\n",
    "\n",
    "spark = SparkSession.builder \\\n",
    "    .master(\"spark://spark-master:7077\") \\\n",
    "    .appName(\"estaciones_viajes_notebook\") \\\n",
    "    .config(\"spark.eventLog.enabled\", \"true\") \\\n",
    "    .config(\"spark.eventLog.dir\", \"hdfs:///spark/logs/history\") \\\n",
    "    .config(\"spark.history.fs.logDirectory\", \"hdfs:///spark/logs/history\") \\\n",
    "    .getOrCreate()\n",
    "\n",
    "sc = spark.sparkContext"
   ]
  },
  {
   "cell_type": "code",
   "execution_count": 37,
   "id": "549ded58-b7bd-4232-ac47-b79f6ef532ef",
   "metadata": {},
   "outputs": [],
   "source": [
    "station_schema = StructType([\n",
    "    StructField(\"station_id\", IntegerType(), True),\n",
    "    StructField(\"name\", StringType(), True),\n",
    "    StructField(\"lat\", DoubleType(), True),\n",
    "    StructField(\"long\", DoubleType(), True),\n",
    "    StructField(\"dockcount\", IntegerType(), True),\n",
    "    StructField(\"landmark\", StringType(), True),\n",
    "    StructField(\"installation\", DateType(), True)\n",
    "])\n",
    "\n",
    "trip_schema = StructType([\n",
    "   StructField(\"Trip Id\", IntegerType(), True),\n",
    "   StructField(\"Duration\", IntegerType(), True),\n",
    "   StructField(\"Start Date\", DateType(), True),\n",
    "   StructField(\"Start Station\", StringType(), True),\n",
    "   StructField(\"Start Terminal\", IntegerType(), True),\n",
    "   StructField(\"End Date\", DateType(), True),\n",
    "   StructField(\"End Station\", StringType(), True),\n",
    "   StructField(\"End Terminal\", IntegerType(), True),\n",
    "   StructField(\"Bike\", IntegerType(), True),\n",
    "   StructField(\"Subscriber Type\", StringType(), True),\n",
    "   StructField(\"Zip Code\", StringType(), True)\n",
    "])"
   ]
  },
  {
   "cell_type": "code",
   "execution_count": 38,
   "id": "e5fe36e8-f21c-46d2-a2e4-7cd8d9455f1a",
   "metadata": {},
   "outputs": [
    {
     "name": "stdout",
     "output_type": "stream",
     "text": [
      "+----------+--------------------+---------+-----------+---------+--------+------------+\n",
      "|station_id|                name|      lat|       long|dockcount|landmark|installation|\n",
      "+----------+--------------------+---------+-----------+---------+--------+------------+\n",
      "|         2|San Jose Diridon ...|37.329732|-121.901782|       27|San Jose|  2013-01-06|\n",
      "|         3|San Jose Civic Ce...|37.330698|-121.888979|       15|San Jose|  2013-01-05|\n",
      "|         4|Santa Clara at Al...|37.333988|-121.894902|       11|San Jose|  2013-01-06|\n",
      "|         5|    Adobe on Almaden|37.331415|  -121.8932|       19|San Jose|  2013-01-05|\n",
      "|         6|    San Pedro Square|37.336721|-121.894074|       15|San Jose|  2013-01-07|\n",
      "|         7|Paseo de San Antonio|37.333798|-121.886943|       15|San Jose|  2013-01-07|\n",
      "|         8| San Salvador at 1st|37.330165|-121.885831|       15|San Jose|  2013-01-05|\n",
      "|         9|           Japantown|37.348742|-121.894715|       15|San Jose|  2013-01-05|\n",
      "|        10|  San Jose City Hall|37.337391|-121.886995|       15|San Jose|  2013-01-06|\n",
      "|        11|         MLK Library|37.335885| -121.88566|       19|San Jose|  2013-01-06|\n",
      "+----------+--------------------+---------+-----------+---------+--------+------------+\n",
      "only showing top 10 rows\n",
      "\n",
      "+-------+--------+----------+--------------------+--------------+----------+--------------------+------------+----+---------------+--------+\n",
      "|Trip Id|Duration|Start Date|       Start Station|Start Terminal|  End Date|         End Station|End Terminal|Bike|Subscriber Type|Zip Code|\n",
      "+-------+--------+----------+--------------------+--------------+----------+--------------------+------------+----+---------------+--------+\n",
      "| 913460|     765|2015-01-31|Harry Bridges Pla...|            50|2015-01-31|San Francisco Cal...|          70| 288|     Subscriber|    2139|\n",
      "| 913459|    1036|2015-01-31|San Antonio Shopp...|            31|2015-01-31|Mountain View Cit...|          27|  35|     Subscriber|   95032|\n",
      "| 913455|     307|2015-01-31|      Post at Kearny|            47|2015-01-31|   2nd at South Park|          64| 468|     Subscriber|   94107|\n",
      "| 913454|     409|2015-01-31|  San Jose City Hall|            10|2015-01-31| San Salvador at 1st|           8|  68|     Subscriber|   95113|\n",
      "| 913453|     789|2015-01-31|Embarcadero at Fo...|            51|2015-01-31|Embarcadero at Sa...|          60| 487|       Customer|    9069|\n",
      "| 913452|     293|2015-01-31|Yerba Buena Cente...|            68|2015-01-31|San Francisco Cal...|          70| 538|     Subscriber|   94118|\n",
      "| 913451|     896|2015-01-31|Embarcadero at Fo...|            51|2015-01-31|Embarcadero at Sa...|          60| 363|       Customer|   92562|\n",
      "| 913450|     255|2015-01-31|Embarcadero at Sa...|            60|2015-01-31|   Steuart at Market|          74| 470|     Subscriber|   94111|\n",
      "| 913449|     126|2015-01-31|     Beale at Market|            56|2015-01-31|Temporary Transba...|          55| 439|     Subscriber|   94130|\n",
      "| 913448|     932|2015-01-31|      Post at Kearny|            47|2015-01-31|South Van Ness at...|          66| 472|     Subscriber|   94702|\n",
      "+-------+--------+----------+--------------------+--------------+----------+--------------------+------------+----+---------------+--------+\n",
      "only showing top 10 rows\n",
      "\n"
     ]
    }
   ],
   "source": [
    "spark.conf.set(\"spark.sql.legacy.timeParserPolicy\", \"LEGACY\")\n",
    "\n",
    "stations_df = spark.read.csv(\"/user/jovyan/data/bike-data/201508_station_data.csv\", header=True, schema=station_schema,dateFormat=\"M/D/yyyy\")\n",
    "trips_df = spark.read.csv(\"/user/jovyan/data/bike-data/201508_trip_data.csv\", header=True, schema=trip_schema,dateFormat=\"M/D/yyyy\")\n",
    "\n",
    "stations_df.show(10)\n",
    "trips_df.show(10)"
   ]
  },
  {
   "cell_type": "code",
   "execution_count": 26,
   "id": "a433dff4-d4cf-402a-abe1-e1030ae3deba",
   "metadata": {},
   "outputs": [],
   "source": [
    "# Contar cuántos viajes empiezan en cada estación\n",
    "start_counts = trips_df.groupBy(\"Start Station\").agg(count(\"*\").alias(\"Numero_viajes_empiezan\"))\n",
    "\n",
    "# Contar cuántos viajes terminan en cada estación\n",
    "end_counts = trips_df.groupBy(\"End Station\").agg(count(\"*\").alias(\"Numero_viajes_acaban\"))"
   ]
  },
  {
   "cell_type": "code",
   "execution_count": 34,
   "id": "f853dfcf-7262-4587-8ab0-9f8cfcbda028",
   "metadata": {},
   "outputs": [
    {
     "name": "stderr",
     "output_type": "stream",
     "text": [
      "                                                                                "
     ]
    },
    {
     "name": "stdout",
     "output_type": "stream",
     "text": [
      "+----------+--------------------+---------+-----------+---------+-------------+------------+--------------------+----------------------+\n",
      "|station_id|                name|      lat|       long|dockcount|     landmark|installation|       Start Station|Numero_viajes_empiezan|\n",
      "+----------+--------------------+---------+-----------+---------+-------------+------------+--------------------+----------------------+\n",
      "|        11|         MLK Library|37.335885| -121.88566|       19|     San Jose|  2013-01-06|         MLK Library|                  1099|\n",
      "|         9|           Japantown|37.348742|-121.894715|       15|     San Jose|  2013-01-05|           Japantown|                   885|\n",
      "|         7|Paseo de San Antonio|37.333798|-121.886943|       15|     San Jose|  2013-01-07|Paseo de San Antonio|                   856|\n",
      "|         8| San Salvador at 1st|37.330165|-121.885831|       15|     San Jose|  2013-01-05| San Salvador at 1st|                   495|\n",
      "|         2|San Jose Diridon ...|37.329732|-121.901782|       27|     San Jose|  2013-01-06|San Jose Diridon ...|                  4968|\n",
      "|         3|San Jose Civic Ce...|37.330698|-121.888979|       15|     San Jose|  2013-01-05|San Jose Civic Ce...|                   774|\n",
      "|        16|SJSU - San Salvad...|37.333955|-121.877349|       15|     San Jose|  2013-01-07|SJSU - San Salvad...|                   494|\n",
      "|        27|Mountain View Cit...|37.389218|-122.081896|       15|Mountain View|  2013-01-16|Mountain View Cit...|                  1583|\n",
      "|        22|Redwood City Calt...|37.486078|-122.232089|       25| Redwood City|  2013-01-15|Redwood City Calt...|                   895|\n",
      "|        10|  San Jose City Hall|37.337391|-121.886995|       15|     San Jose|  2013-01-06|  San Jose City Hall|                   832|\n",
      "|        24|Redwood City Publ...|37.484219|-122.227424|       15| Redwood City|  2013-01-12|Redwood City Publ...|                   118|\n",
      "|         5|    Adobe on Almaden|37.331415|  -121.8932|       19|     San Jose|  2013-01-05|    Adobe on Almaden|                   562|\n",
      "|         6|    San Pedro Square|37.336721|-121.894074|       15|     San Jose|  2013-01-07|    San Pedro Square|                  1418|\n",
      "|        26|Redwood City Medi...|37.487682|-122.223492|       15| Redwood City|  2013-01-12|Redwood City Medi...|                   150|\n",
      "|        23|San Mateo County ...|37.487616|-122.229951|       15| Redwood City|  2013-01-15|San Mateo County ...|                   127|\n",
      "|        25|Stanford in Redwo...| 37.48537|-122.203288|       15| Redwood City|  2013-01-12|Stanford in Redwo...|                   436|\n",
      "|        14|Arena Green / SAP...|37.332692|-121.900084|       19|     San Jose|  2013-01-05|Arena Green / SAP...|                   647|\n",
      "|         4|Santa Clara at Al...|37.333988|-121.894902|       11|     San Jose|  2013-01-06|Santa Clara at Al...|                  1958|\n",
      "|        21|   Franklin at Maple|37.481758|-122.226904|       15| Redwood City|  2013-01-12|   Franklin at Maple|                    81|\n",
      "|        13|       St James Park|37.339301|-121.889937|       15|     San Jose|  2013-01-06|       St James Park|                   839|\n",
      "+----------+--------------------+---------+-----------+---------+-------------+------------+--------------------+----------------------+\n",
      "only showing top 20 rows\n",
      "\n"
     ]
    },
    {
     "name": "stderr",
     "output_type": "stream",
     "text": [
      "                                                                                "
     ]
    },
    {
     "name": "stdout",
     "output_type": "stream",
     "text": [
      "+----------+--------------------+---------+-----------+---------+-------------+------------+--------------------+----------------------+--------------------+--------------------+\n",
      "|station_id|                name|      lat|       long|dockcount|     landmark|installation|       Start Station|Numero_viajes_empiezan|         End Station|Numero_viajes_acaban|\n",
      "+----------+--------------------+---------+-----------+---------+-------------+------------+--------------------+----------------------+--------------------+--------------------+\n",
      "|        11|         MLK Library|37.335885| -121.88566|       19|     San Jose|  2013-01-06|         MLK Library|                  1099|         MLK Library|                 960|\n",
      "|         9|           Japantown|37.348742|-121.894715|       15|     San Jose|  2013-01-05|           Japantown|                   885|           Japantown|                 976|\n",
      "|         7|Paseo de San Antonio|37.333798|-121.886943|       15|     San Jose|  2013-01-07|Paseo de San Antonio|                   856|Paseo de San Antonio|                1073|\n",
      "|         8| San Salvador at 1st|37.330165|-121.885831|       15|     San Jose|  2013-01-05| San Salvador at 1st|                   495| San Salvador at 1st|                 547|\n",
      "|         2|San Jose Diridon ...|37.329732|-121.901782|       27|     San Jose|  2013-01-06|San Jose Diridon ...|                  4968|San Jose Diridon ...|                5045|\n",
      "|         3|San Jose Civic Ce...|37.330698|-121.888979|       15|     San Jose|  2013-01-05|San Jose Civic Ce...|                   774|San Jose Civic Ce...|                 909|\n",
      "|        16|SJSU - San Salvad...|37.333955|-121.877349|       15|     San Jose|  2013-01-07|SJSU - San Salvad...|                   494|SJSU - San Salvad...|                 445|\n",
      "|        27|Mountain View Cit...|37.389218|-122.081896|       15|Mountain View|  2013-01-16|Mountain View Cit...|                  1583|Mountain View Cit...|                1724|\n",
      "|        22|Redwood City Calt...|37.486078|-122.232089|       25| Redwood City|  2013-01-15|Redwood City Calt...|                   895|Redwood City Calt...|                 799|\n",
      "|        10|  San Jose City Hall|37.337391|-121.886995|       15|     San Jose|  2013-01-06|  San Jose City Hall|                   832|  San Jose City Hall|                 671|\n",
      "|        24|Redwood City Publ...|37.484219|-122.227424|       15| Redwood City|  2013-01-12|Redwood City Publ...|                   118|Redwood City Publ...|                  98|\n",
      "|         5|    Adobe on Almaden|37.331415|  -121.8932|       19|     San Jose|  2013-01-05|    Adobe on Almaden|                   562|    Adobe on Almaden|                 490|\n",
      "|         6|    San Pedro Square|37.336721|-121.894074|       15|     San Jose|  2013-01-07|    San Pedro Square|                  1418|    San Pedro Square|                1595|\n",
      "|        26|Redwood City Medi...|37.487682|-122.223492|       15| Redwood City|  2013-01-12|Redwood City Medi...|                   150|Redwood City Medi...|                 230|\n",
      "|        23|San Mateo County ...|37.487616|-122.229951|       15| Redwood City|  2013-01-15|San Mateo County ...|                   127|San Mateo County ...|                 187|\n",
      "|        25|Stanford in Redwo...| 37.48537|-122.203288|       15| Redwood City|  2013-01-12|Stanford in Redwo...|                   436|Stanford in Redwo...|                 436|\n",
      "|        14|Arena Green / SAP...|37.332692|-121.900084|       19|     San Jose|  2013-01-05|Arena Green / SAP...|                   647|Arena Green / SAP...|                 621|\n",
      "|         4|Santa Clara at Al...|37.333988|-121.894902|       11|     San Jose|  2013-01-06|Santa Clara at Al...|                  1958|Santa Clara at Al...|                1878|\n",
      "|        21|   Franklin at Maple|37.481758|-122.226904|       15| Redwood City|  2013-01-12|   Franklin at Maple|                    81|   Franklin at Maple|                 100|\n",
      "|        13|       St James Park|37.339301|-121.889937|       15|     San Jose|  2013-01-06|       St James Park|                   839|       St James Park|                 729|\n",
      "+----------+--------------------+---------+-----------+---------+-------------+------------+--------------------+----------------------+--------------------+--------------------+\n",
      "only showing top 20 rows\n",
      "\n",
      "root\n",
      " |-- station_id: integer (nullable = true)\n",
      " |-- name: string (nullable = true)\n",
      " |-- lat: double (nullable = true)\n",
      " |-- long: double (nullable = true)\n",
      " |-- dockcount: integer (nullable = true)\n",
      " |-- landmark: string (nullable = true)\n",
      " |-- installation: date (nullable = true)\n",
      " |-- Start Station: string (nullable = true)\n",
      " |-- Numero_viajes_empiezan: long (nullable = true)\n",
      " |-- End Station: string (nullable = true)\n",
      " |-- Numero_viajes_acaban: long (nullable = true)\n",
      "\n"
     ]
    },
    {
     "name": "stderr",
     "output_type": "stream",
     "text": [
      "                                                                                "
     ]
    },
    {
     "name": "stdout",
     "output_type": "stream",
     "text": [
      "+--------------------+---------+-----------+----------------------+--------------------+\n",
      "|            Estacion|  Latitud|   Longitud|Numero_viajes_empiezan|Numero_viajes_acaban|\n",
      "+--------------------+---------+-----------+----------------------+--------------------+\n",
      "|         MLK Library|37.335885| -121.88566|                  1099|                 960|\n",
      "|           Japantown|37.348742|-121.894715|                   885|                 976|\n",
      "|Paseo de San Antonio|37.333798|-121.886943|                   856|                1073|\n",
      "| San Salvador at 1st|37.330165|-121.885831|                   495|                 547|\n",
      "|San Jose Diridon ...|37.329732|-121.901782|                  4968|                5045|\n",
      "|San Jose Civic Ce...|37.330698|-121.888979|                   774|                 909|\n",
      "|SJSU - San Salvad...|37.333955|-121.877349|                   494|                 445|\n",
      "|Mountain View Cit...|37.389218|-122.081896|                  1583|                1724|\n",
      "|Redwood City Calt...|37.486078|-122.232089|                   895|                 799|\n",
      "|  San Jose City Hall|37.337391|-121.886995|                   832|                 671|\n",
      "|Redwood City Publ...|37.484219|-122.227424|                   118|                  98|\n",
      "|    Adobe on Almaden|37.331415|  -121.8932|                   562|                 490|\n",
      "|    San Pedro Square|37.336721|-121.894074|                  1418|                1595|\n",
      "|Redwood City Medi...|37.487682|-122.223492|                   150|                 230|\n",
      "|San Mateo County ...|37.487616|-122.229951|                   127|                 187|\n",
      "|Stanford in Redwo...| 37.48537|-122.203288|                   436|                 436|\n",
      "|Arena Green / SAP...|37.332692|-121.900084|                   647|                 621|\n",
      "|Santa Clara at Al...|37.333988|-121.894902|                  1958|                1878|\n",
      "|   Franklin at Maple|37.481758|-122.226904|                    81|                 100|\n",
      "|       St James Park|37.339301|-121.889937|                   839|                 729|\n",
      "+--------------------+---------+-----------+----------------------+--------------------+\n",
      "only showing top 20 rows\n",
      "\n"
     ]
    }
   ],
   "source": [
    "aux_df = stations_df.join(start_counts, stations_df[\"name\"] == start_counts[\"Start Station\"], \"left\")\n",
    "aux_df.show()\n",
    "join_df = aux_df.join(end_counts, stations_df[\"name\"] == end_counts[\"End Station\"], \"left\")\n",
    "join_df.show()\n",
    "join_df.printSchema()\n",
    "result_df = join_df.selectExpr(\"name as Estacion\", \"lat as Latitud\", \"long as Longitud\", \"Numero_viajes_empiezan\", \"Numero_viajes_acaban\")\n",
    "result_df.show()"
   ]
  },
  {
   "cell_type": "code",
   "execution_count": 35,
   "id": "7b007506-454b-4410-adb4-5c380e5eaebb",
   "metadata": {},
   "outputs": [
    {
     "name": "stderr",
     "output_type": "stream",
     "text": [
      "                                                                                "
     ]
    }
   ],
   "source": [
    "result_df.write.mode(\"overwrite\").csv(\"/user/jovyan/data/salida245\", header=True)"
   ]
  },
  {
   "cell_type": "code",
   "execution_count": null,
   "id": "1a129c4e-02cb-4c4a-8947-446440742716",
   "metadata": {},
   "outputs": [],
   "source": []
  }
 ],
 "metadata": {
  "kernelspec": {
   "display_name": "Python 3 (ipykernel)",
   "language": "python",
   "name": "python3"
  },
  "language_info": {
   "codemirror_mode": {
    "name": "ipython",
    "version": 3
   },
   "file_extension": ".py",
   "mimetype": "text/x-python",
   "name": "python",
   "nbconvert_exporter": "python",
   "pygments_lexer": "ipython3",
   "version": "3.9.2"
  }
 },
 "nbformat": 4,
 "nbformat_minor": 5
}
