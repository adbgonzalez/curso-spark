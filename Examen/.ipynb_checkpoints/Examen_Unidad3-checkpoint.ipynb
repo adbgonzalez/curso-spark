{
 "cells": [
  {
   "cell_type": "markdown",
   "id": "798a24f6-3a68-4e61-93ef-beaaf663b814",
   "metadata": {},
   "source": [
    "# Examen Unidad 3\n",
    "## Parte 1\n",
    "Responde a las siguientes cuestiones en las celdas correspondientes.\n",
    "Antes de realizar los ejercicios sube la el contenido de la carpeta \"data\" a /user/jovyan/data\n",
    "- hdfs dfs -mkdir -p /user/jovyan/data (si fuera necesario)\n",
    "- hdfs dfs -put /home/jovyan/work/data/* /user/jovyan/data\n"
   ]
  },
  {
   "cell_type": "code",
   "execution_count": null,
   "id": "f7288c67-100a-4ef5-90c2-84cbf31f33b8",
   "metadata": {},
   "outputs": [],
   "source": [
    "from pyspark.sql import SparkSession\n",
    "\n",
    "spark = SparkSession.builder \\\n",
    "    .master(\"spark://spark-master:7077\") \\\n",
    "    .appName(\"ExamenUD3\") \\\n",
    "    .config(\"spark.eventLog.enabled\", \"true\") \\\n",
    "    .config(\"spark.eventLog.dir\", \"hdfs:///spark/logs/history\") \\\n",
    "    .config(\"spark.history.fs.logDirectory\", \"hdfs:///spark/logs/history\") \\\n",
    "    .getOrCreate()\n",
    "\n",
    "spark.version  # Verifica la versión de Spark\n",
    "\n",
    "#spark = SparkSession.builder.getOrCreate()\n",
    "\n",
    "sc = spark.sparkContext"
   ]
  },
  {
   "cell_type": "markdown",
   "id": "3482a785-97da-420a-a81b-a2a83a61dd33",
   "metadata": {},
   "source": [
    "1. Ejercicio1:\n",
    "   - a. Crea un rdd llamado rdd_int con los enteros del 0 al 50 (0,5)\n",
    "   - b. Muestra los 10 primeros elementos (0,5)\n",
    "   - c. Muestra cuantos elementos son múltiplos de 5 (0,5)."
   ]
  },
  {
   "cell_type": "code",
   "execution_count": null,
   "id": "38705d6b-2311-4cdb-8e88-b2a7139e740b",
   "metadata": {},
   "outputs": [],
   "source": [
    "# a)\n"
   ]
  },
  {
   "cell_type": "code",
   "execution_count": null,
   "id": "1a6fe49b-8cb2-4cb3-9bc7-8bb55304773a",
   "metadata": {},
   "outputs": [],
   "source": [
    "# b)\n"
   ]
  },
  {
   "cell_type": "code",
   "execution_count": null,
   "id": "00d8966a-b0de-4cf6-ac49-88267ea5af01",
   "metadata": {},
   "outputs": [],
   "source": [
    "# c)\n"
   ]
  },
  {
   "cell_type": "markdown",
   "id": "4a4bf8cc-d280-4e37-a34d-dc861fae91fb",
   "metadata": {},
   "source": [
    "2. Realiza las siguientes acciones.\n",
    "   - a) Crea un rdd de pares (palabra, 1) llamado rdd_libro a partir del fichero TheFelloshipOfTherRing.txt (0,5)\n",
    "   - b) Muestra las ocurrencias de cada palabra. (0,5)"
   ]
  },
  {
   "cell_type": "code",
   "execution_count": null,
   "id": "c555b84e-acd2-43b6-a754-7ca05513ea7a",
   "metadata": {},
   "outputs": [],
   "source": [
    "# a)\n"
   ]
  },
  {
   "cell_type": "code",
   "execution_count": null,
   "id": "bb80d2ba-9cf2-46ec-b69b-9e90144a05ac",
   "metadata": {},
   "outputs": [],
   "source": [
    "# b)\n"
   ]
  },
  {
   "cell_type": "markdown",
   "id": "f81f2ed8-26a5-4c24-84d6-053af4b52e8c",
   "metadata": {},
   "source": [
    "3. Realiza las siguientes operaciones con Dataframes:\n",
    "   - a. Crea un dataframe llamado sales_df a partir del fichero *sales.csv* teniendo en cuenta la cabecera e infiriendo el esquema.  (0,5)\n",
    "   - b. Muestra los 10 primeros elementos. (0,5)\n",
    "   - c. Añade una columna *Total* que multiplique \"Quantity Ordered\" por \"Price Each\". (0,5)\n",
    "   - d. A partir del DF anterior suma la columna \"Total\" agrupando por \"Product\".  (1)"
   ]
  },
  {
   "cell_type": "code",
   "execution_count": null,
   "id": "89986b52-eadb-4683-8503-1a2342f45169",
   "metadata": {},
   "outputs": [],
   "source": [
    "# a)\n"
   ]
  },
  {
   "cell_type": "code",
   "execution_count": null,
   "id": "fb602fbc-0798-48cc-83e3-38ae7adbc8fd",
   "metadata": {},
   "outputs": [],
   "source": [
    "# b)\n"
   ]
  },
  {
   "cell_type": "code",
   "execution_count": null,
   "id": "a66291b0-8572-4c59-b48d-8221cffcbc71",
   "metadata": {},
   "outputs": [],
   "source": [
    "# c)\n"
   ]
  },
  {
   "cell_type": "code",
   "execution_count": null,
   "id": "d6de05a3-571e-4f82-a0d2-c26acbec0a28",
   "metadata": {},
   "outputs": [],
   "source": [
    "# d)\n"
   ]
  },
  {
   "cell_type": "markdown",
   "id": "916982d4-0af2-438c-bc29-7646ad241d81",
   "metadata": {},
   "source": [
    "## Parte 2:\n",
    "Entrega un archivo aparte (parte2.pdf).\n",
    "\n",
    "4. Despliegue de aplicaciones spark:\n",
    "   - a. Crea un programa (ratings.py) que realice las siguientes acciones. ENTREGAR: Captura del programa.\n",
    "     * Lee los archivos movies.tsv y movie-ratings.tsv infiriendo el esquema y con cabeceras activadas. Usa también la siguiente opción: option(\"delimiter\", \"\\t\"). Almacena el resultado en movies_df y ratings_df respectivamente. (0,25)\n",
    "     * b. Realiza un inner join sobre el campo \"Title\" almacenando el resultado como join_df. (0,25)\n",
    "     * c. Crea un nuevo Dataframe (result_df) a partir de join_df agrupando por \"Director\" y calculando la media de \"Rating\".  (0,25)\n",
    "     * d. Almacena result_df en formato json en el directorio /user/jovyan/salida_examen.  (0,25)\n",
    "   - b. Ejecuta el programa ratings.py en modo clúster, entregando:\n",
    "     * Comando, primeras y últimas líneas de la ejecutión en modo cliente. (0,5)\n",
    "     * Primeras 10 líneas del archivo resultado. (0,5)"
   ]
  },
  {
   "cell_type": "code",
   "execution_count": null,
   "id": "f438d98d-417b-4be4-9689-0826c613bb08",
   "metadata": {},
   "outputs": [],
   "source": []
  }
 ],
 "metadata": {
  "kernelspec": {
   "display_name": "Python 3 (ipykernel)",
   "language": "python",
   "name": "python3"
  },
  "language_info": {
   "codemirror_mode": {
    "name": "ipython",
    "version": 3
   },
   "file_extension": ".py",
   "mimetype": "text/x-python",
   "name": "python",
   "nbconvert_exporter": "python",
   "pygments_lexer": "ipython3",
   "version": "3.9.2"
  }
 },
 "nbformat": 4,
 "nbformat_minor": 5
}
