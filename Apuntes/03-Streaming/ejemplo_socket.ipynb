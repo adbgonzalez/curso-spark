{
 "cells": [
  {
   "cell_type": "markdown",
   "id": "07555b67-c14a-4a79-a9ec-cdffbb01d832",
   "metadata": {},
   "source": [
    "# Ejemplo de Spark Streaming con sockets"
   ]
  },
  {
   "cell_type": "markdown",
   "id": "858d64d3-d4f3-4f68-8853-88742ccad8c8",
   "metadata": {},
   "source": [
    "1. Creamos la spark-session:"
   ]
  },
  {
   "cell_type": "code",
   "execution_count": 2,
   "id": "f17d89ab-fb48-4904-ba14-4a835367c4af",
   "metadata": {},
   "outputs": [
    {
     "name": "stderr",
     "output_type": "stream",
     "text": [
      "Setting default log level to \"WARN\".\n",
      "To adjust logging level use sc.setLogLevel(newLevel). For SparkR, use setLogLevel(newLevel).\n"
     ]
    }
   ],
   "source": [
    "from pyspark.sql import SparkSession\n",
    "from pyspark.sql.functions import explode\n",
    "from pyspark.sql.functions import split\n",
    "import string\n",
    "\n",
    "spark = SparkSession.builder \\\n",
    "    .master(\"spark://spark-master:7077\") \\\n",
    "    .appName(\"StructuredWordCount\") \\\n",
    "    .config(\"spark.sql.legacy.timeParserPolicy\", \"LEGACY\") \\\n",
    "    .config(\"spark.eventLog.enabled\", \"true\") \\\n",
    "    .config(\"spark.eventLog.dir\", \"hdfs:///spark/logs/history\") \\\n",
    "    .config(\"spark.history.fs.logDirectory\", \"hdfs:///spark/logs/history\") \\\n",
    "    .getOrCreate()\n",
    "\n",
    "\n"
   ]
  },
  {
   "cell_type": "markdown",
   "id": "62328309-3e22-44ac-bd99-4d1790a5c195",
   "metadata": {},
   "source": [
    "2. Creamos un dataframe a partir de un *origen* de datos. En este caso *socket* que no se recomienda en producción:"
   ]
  },
  {
   "cell_type": "code",
   "execution_count": 3,
   "id": "ed19b44c-cd43-40f0-ba4e-6345e6833069",
   "metadata": {},
   "outputs": [
    {
     "name": "stderr",
     "output_type": "stream",
     "text": [
      "25/04/09 17:50:09 WARN TextSocketSourceProvider: The socket source should not be used for production applications! It does not support recovery.\n"
     ]
    }
   ],
   "source": [
    "lines = spark \\\n",
    "         .readStream \\\n",
    "         .format(\"socket\") \\\n",
    "         .option(\"host\", \"localhost\") \\\n",
    "         .option(\"port\",9999) \\\n",
    "         .load()"
   ]
  },
  {
   "cell_type": "markdown",
   "id": "f7cedd3b-3da7-4372-9294-5640d056ea40",
   "metadata": {},
   "source": [
    "3. Generamos un nuevo dataframe que cuenta las ocurrencias de cada palabra a partir del anterior."
   ]
  },
  {
   "cell_type": "code",
   "execution_count": 4,
   "id": "589ad86e-35ba-4e46-8b96-850af2964982",
   "metadata": {},
   "outputs": [],
   "source": [
    "from pyspark.sql.functions import regexp_replace\n",
    "# Split the lines into words\n",
    "words = lines.select(\n",
    "        explode(\n",
    "split(lines.value, \" \")\n",
    "   ).alias(\"word\")\n",
    ")\n",
    "\n",
    " # Generate running word count\n",
    "wordCounts = words.groupBy(\"word\").count()"
   ]
  },
  {
   "cell_type": "markdown",
   "id": "5dcc6102-1a8a-479e-b0b5-b429962ee975",
   "metadata": {},
   "source": [
    "4. Iniciamos la consulta indicando el destino (*sink*)"
   ]
  },
  {
   "cell_type": "code",
   "execution_count": 5,
   "id": "24cfed08-73b1-4dbd-aa92-e9de19c39857",
   "metadata": {},
   "outputs": [
    {
     "name": "stderr",
     "output_type": "stream",
     "text": [
      "25/04/09 17:50:16 WARN ResolveWriteToStream: Temporary checkpoint location created which is deleted normally when the query didn't fail: /tmp/temporary-5986546d-bf45-4686-8955-47d5288264cf. If it's required to delete it under any circumstances, please set spark.sql.streaming.forceDeleteTempCheckpointLocation to true. Important to know deleting temp checkpoint folder is best effort.\n",
      "25/04/09 17:50:16 WARN ResolveWriteToStream: spark.sql.adaptive.enabled is not supported in streaming DataFrames/Datasets and will be disabled.\n",
      "[Stage 1:================================================>      (176 + 2) / 200]"
     ]
    }
   ],
   "source": [
    "query = wordCounts \\\n",
    "          .writeStream \\\n",
    "          .outputMode(\"update\") \\\n",
    "          .format(\"memory\") \\\n",
    "          .queryName(\"consulta1\") \\\n",
    "          .start()\n"
   ]
  },
  {
   "cell_type": "markdown",
   "id": "ce38f91d-e700-4a3b-9ddc-c01f7364f2ac",
   "metadata": {},
   "source": [
    "5. Mostramos"
   ]
  },
  {
   "cell_type": "code",
   "execution_count": 6,
   "id": "125d4f55-2674-4085-92fd-5c1975b15045",
   "metadata": {},
   "outputs": [
    {
     "data": {
      "text/plain": [
       "{'message': 'Waiting for data to arrive',\n",
       " 'isDataAvailable': False,\n",
       " 'isTriggerActive': False}"
      ]
     },
     "metadata": {},
     "output_type": "display_data"
    },
    {
     "name": "stdout",
     "output_type": "stream",
     "text": [
      "+----+-----+\n",
      "|word|count|\n",
      "+----+-----+\n",
      "| que|    1|\n",
      "|hola|    1|\n",
      "| tal|    1|\n",
      "|hola|    2|\n",
      "+----+-----+\n",
      "\n"
     ]
    },
    {
     "data": {
      "text/plain": [
       "None"
      ]
     },
     "metadata": {},
     "output_type": "display_data"
    },
    {
     "ename": "KeyboardInterrupt",
     "evalue": "",
     "output_type": "error",
     "traceback": [
      "\u001b[0;31m---------------------------------------------------------------------------\u001b[0m",
      "\u001b[0;31mKeyboardInterrupt\u001b[0m                         Traceback (most recent call last)",
      "Cell \u001b[0;32mIn[6], line 8\u001b[0m\n\u001b[1;32m      6\u001b[0m display(query\u001b[38;5;241m.\u001b[39mstatus)\n\u001b[1;32m      7\u001b[0m display(spark\u001b[38;5;241m.\u001b[39msql(\u001b[38;5;124m'\u001b[39m\u001b[38;5;124mSELECT * FROM consulta1\u001b[39m\u001b[38;5;124m'\u001b[39m)\u001b[38;5;241m.\u001b[39mshow())\n\u001b[0;32m----> 8\u001b[0m \u001b[43msleep\u001b[49m\u001b[43m(\u001b[49m\u001b[38;5;241;43m1\u001b[39;49m\u001b[43m)\u001b[49m\n",
      "\u001b[0;31mKeyboardInterrupt\u001b[0m: "
     ]
    }
   ],
   "source": [
    "from IPython.display import display, clear_output\n",
    "from time import sleep\n",
    "\n",
    "while True:\n",
    "    clear_output(wait=True)\n",
    "    display(query.status)\n",
    "    display(spark.sql('SELECT * FROM consulta1').show())\n",
    "    sleep(1)"
   ]
  },
  {
   "cell_type": "code",
   "execution_count": null,
   "id": "ddc8e968-072f-4470-943c-7720e1c96d97",
   "metadata": {},
   "outputs": [],
   "source": []
  }
 ],
 "metadata": {
  "kernelspec": {
   "display_name": "Python 3 (ipykernel)",
   "language": "python",
   "name": "python3"
  },
  "language_info": {
   "codemirror_mode": {
    "name": "ipython",
    "version": 3
   },
   "file_extension": ".py",
   "mimetype": "text/x-python",
   "name": "python",
   "nbconvert_exporter": "python",
   "pygments_lexer": "ipython3",
   "version": "3.9.2"
  }
 },
 "nbformat": 4,
 "nbformat_minor": 5
}
