{
 "cells": [
  {
   "cell_type": "markdown",
   "id": "f1d3b9ae-9ab0-4012-ab06-8e481442d084",
   "metadata": {},
   "source": [
    "# Ejemplo Kafka 3\n",
    "1. Creamos la SparkSession y creamos el *DataFrame* inicial leyendo datos del topic *facturas* de kafka."
   ]
  },
  {
   "cell_type": "code",
   "execution_count": 1,
   "id": "c0e1f5da-319b-4638-a6f4-558d5aa29801",
   "metadata": {},
   "outputs": [
    {
     "name": "stdout",
     "output_type": "stream",
     "text": [
      "Using packages ['org.apache.spark:spark-sql-kafka-0-10_2.12:3.5.5', 'org.apache.kafka:kafka-clients:3.5.1']\n",
      ":: loading settings :: url = jar:file:/opt/spark/jars/ivy-2.5.1.jar!/org/apache/ivy/core/settings/ivysettings.xml\n"
     ]
    },
    {
     "name": "stderr",
     "output_type": "stream",
     "text": [
      "Ivy Default Cache set to: /home/jovyan/.ivy2/cache\n",
      "The jars for the packages stored in: /home/jovyan/.ivy2/jars\n",
      "org.apache.spark#spark-sql-kafka-0-10_2.12 added as a dependency\n",
      "org.apache.kafka#kafka-clients added as a dependency\n",
      ":: resolving dependencies :: org.apache.spark#spark-submit-parent-66856a40-9f39-4587-bd75-bd14dc7448d3;1.0\n",
      "\tconfs: [default]\n",
      "\tfound org.apache.spark#spark-sql-kafka-0-10_2.12;3.5.5 in central\n",
      "\tfound org.apache.spark#spark-token-provider-kafka-0-10_2.12;3.5.5 in central\n",
      "\tfound org.apache.hadoop#hadoop-client-runtime;3.3.4 in central\n",
      "\tfound org.apache.hadoop#hadoop-client-api;3.3.4 in central\n",
      "\tfound org.xerial.snappy#snappy-java;1.1.10.5 in central\n",
      "\tfound org.slf4j#slf4j-api;2.0.7 in central\n",
      "\tfound commons-logging#commons-logging;1.1.3 in central\n",
      "\tfound com.google.code.findbugs#jsr305;3.0.0 in central\n",
      "\tfound org.apache.commons#commons-pool2;2.11.1 in central\n",
      "\tfound org.apache.kafka#kafka-clients;3.5.1 in central\n",
      "\tfound com.github.luben#zstd-jni;1.5.5-1 in central\n",
      "\tfound org.lz4#lz4-java;1.8.0 in central\n",
      ":: resolution report :: resolve 299ms :: artifacts dl 13ms\n",
      "\t:: modules in use:\n",
      "\tcom.github.luben#zstd-jni;1.5.5-1 from central in [default]\n",
      "\tcom.google.code.findbugs#jsr305;3.0.0 from central in [default]\n",
      "\tcommons-logging#commons-logging;1.1.3 from central in [default]\n",
      "\torg.apache.commons#commons-pool2;2.11.1 from central in [default]\n",
      "\torg.apache.hadoop#hadoop-client-api;3.3.4 from central in [default]\n",
      "\torg.apache.hadoop#hadoop-client-runtime;3.3.4 from central in [default]\n",
      "\torg.apache.kafka#kafka-clients;3.5.1 from central in [default]\n",
      "\torg.apache.spark#spark-sql-kafka-0-10_2.12;3.5.5 from central in [default]\n",
      "\torg.apache.spark#spark-token-provider-kafka-0-10_2.12;3.5.5 from central in [default]\n",
      "\torg.lz4#lz4-java;1.8.0 from central in [default]\n",
      "\torg.slf4j#slf4j-api;2.0.7 from central in [default]\n",
      "\torg.xerial.snappy#snappy-java;1.1.10.5 from central in [default]\n",
      "\t:: evicted modules:\n",
      "\torg.apache.kafka#kafka-clients;3.4.1 by [org.apache.kafka#kafka-clients;3.5.1] in [default]\n",
      "\torg.xerial.snappy#snappy-java;1.1.10.1 by [org.xerial.snappy#snappy-java;1.1.10.5] in [default]\n",
      "\torg.slf4j#slf4j-api;1.7.36 by [org.slf4j#slf4j-api;2.0.7] in [default]\n",
      "\t---------------------------------------------------------------------\n",
      "\t|                  |            modules            ||   artifacts   |\n",
      "\t|       conf       | number| search|dwnlded|evicted|| number|dwnlded|\n",
      "\t---------------------------------------------------------------------\n",
      "\t|      default     |   15  |   0   |   0   |   3   ||   12  |   0   |\n",
      "\t---------------------------------------------------------------------\n",
      ":: retrieving :: org.apache.spark#spark-submit-parent-66856a40-9f39-4587-bd75-bd14dc7448d3\n",
      "\tconfs: [default]\n",
      "\t0 artifacts copied, 12 already retrieved (0kB/4ms)\n",
      "Setting default log level to \"WARN\".\n",
      "To adjust logging level use sc.setLogLevel(newLevel). For SparkR, use setLogLevel(newLevel).\n"
     ]
    }
   ],
   "source": [
    "from pyspark.sql import SparkSession\n",
    "from pyspark.sql.functions import explode\n",
    "from pyspark.sql.functions import split\n",
    "import os\n",
    "import pyspark\n",
    "\n",
    "scala_version = '2.12'  # TODO: Ensure this is correct\n",
    "spark_version = pyspark.__version__\n",
    "\n",
    "packages = [\n",
    "    f'org.apache.spark:spark-sql-kafka-0-10_{scala_version}:{spark_version}',\n",
    "    'org.apache.kafka:kafka-clients:3.5.1'\n",
    "]\n",
    "\n",
    "args = os.environ.get('PYSPARK_SUBMIT_ARGS', '')\n",
    "if not args:\n",
    "    args = f'--packages {\",\".join(packages)}'\n",
    "    print('Using packages', packages)\n",
    "    os.environ['PYSPARK_SUBMIT_ARGS'] = f'{args} pyspark-shell'\n",
    "else:\n",
    "    print(f'Found existing args: {args}') \n",
    "\n",
    "spark = SparkSession.builder\\\n",
    "  .master(\"spark://spark-master:7077\") \\\n",
    "  .appName(\"kafka-example-2\")\\\n",
    "  .config(\"spark.sql.legacy.timeParserPolicy\", \"LEGACY\") \\\n",
    "  .config(\"spark.eventLog.enabled\", \"true\") \\\n",
    "  .config(\"spark.eventLog.dir\", \"hdfs:///spark/logs/history\") \\\n",
    "  .config(\"spark.history.fs.logDirectory\", \"hdfs:///spark/logs/history\") \\\n",
    "  .getOrCreate()\n",
    "\n",
    "kafkaDFS = spark.readStream \\\n",
    "        .format(\"kafka\") \\\n",
    "        .option(\"kafka.bootstrap.servers\", \"kafka-1:9092\") \\\n",
    "        .option(\"subscribe\", \"facturas\") \\\n",
    "        .option(\"startingOffsets\", \"earliest\") \\\n",
    "        .load()"
   ]
  },
  {
   "cell_type": "markdown",
   "id": "c6904577-3c7a-4acf-bd70-b106c7863c0a",
   "metadata": {},
   "source": [
    "2. Especificamos el *esquema* para nuestro *Streaming Data Frame*"
   ]
  },
  {
   "cell_type": "code",
   "execution_count": 2,
   "id": "556d7240-4cf4-463f-a026-b91b64482a60",
   "metadata": {},
   "outputs": [],
   "source": [
    "from pyspark.sql.types import StructType, StructField, StringType, LongType, DoubleType, IntegerType, ArrayType\n",
    "esquema = StructType([\n",
    "    StructField(\"InvoiceNumber\", StringType()),\n",
    "    StructField(\"CreatedTime\", LongType()),\n",
    "    StructField(\"StoreID\", StringType()),\n",
    "    StructField(\"PosID\", StringType()),\n",
    "    StructField(\"CashierID\", StringType()),\n",
    "    StructField(\"CustomerType\", StringType()),\n",
    "    StructField(\"CustomerCardNo\", StringType()),\n",
    "    StructField(\"TotalAmount\", DoubleType()),\n",
    "    StructField(\"NumberOfItems\", IntegerType()),\n",
    "    StructField(\"PaymentMethod\", StringType()),\n",
    "    StructField(\"CGST\", DoubleType()),\n",
    "    StructField(\"SGST\", DoubleType()),\n",
    "    StructField(\"CESS\", DoubleType()),\n",
    "    StructField(\"DeliveryType\", StringType()),\n",
    "    StructField(\"DeliveryAddress\", StructType([\n",
    "        StructField(\"AddressLine\", StringType()),\n",
    "        StructField(\"City\", StringType()),\n",
    "        StructField(\"State\", StringType()),\n",
    "        StructField(\"PinCode\", StringType()),\n",
    "        StructField(\"ContactNumber\", StringType())\n",
    "    ])),\n",
    "    StructField(\"InvoiceLineItems\", ArrayType(StructType([\n",
    "        StructField(\"ItemCode\", StringType()),\n",
    "        StructField(\"ItemDescription\", StringType()),\n",
    "        StructField(\"ItemPrice\", DoubleType()),\n",
    "        StructField(\"ItemQty\", IntegerType()),\n",
    "        StructField(\"TotalValue\", DoubleType())\n",
    "    ]))),\n",
    "])"
   ]
  },
  {
   "cell_type": "markdown",
   "id": "df6a12c9-2b5b-4e4e-a4cd-6fac6eb88205",
   "metadata": {},
   "source": [
    "3. Realizamos las transformaciones necesarias. En este caso seleccionamos sólo algunas columnas y creamos otra nueva (LoyaltyPoints) calculada. Después creamos un nuevo DF transfomando el actual que contenga los campos esperados por kafka (key, value)."
   ]
  },
  {
   "cell_type": "code",
   "execution_count": 3,
   "id": "28b3fe4d-3a0b-428d-a06b-fb6b8d0566f9",
   "metadata": {},
   "outputs": [],
   "source": [
    "from pyspark.sql.functions import from_json, col, expr\n",
    "valueDF = kafkaDFS.select(from_json(col(\"value\").cast(\"string\"), esquema).alias(\"value\"))\n",
    "\n",
    "notificationDF = valueDF.select(\"value.InvoiceNumber\", \"value.CustomerCardNo\", \"value.TotalAmount\") \\\n",
    "    .withColumn(\"LoyaltyPoints\", expr(\"TotalAmount * 0.2\"))\n",
    "\n",
    "# Transformamos las cuatro columnas en lo que espera Kafka, un par de (key, value)\n",
    "kafkaTargetDF = notificationDF.selectExpr(\"InvoiceNumber as key\",\n",
    "        \"\"\"to_json(named_struct(\n",
    "        'CustomerCardNo', CustomerCardNo,\n",
    "        'TotalAmount', TotalAmount,\n",
    "        'EarnedLoyaltyPoints', TotalAmount * 0.2)) as value\"\"\")"
   ]
  },
  {
   "cell_type": "markdown",
   "id": "f826e94b-aa7d-4dd6-a386-50cbbccc18fa",
   "metadata": {},
   "source": [
    "4. Iniciamos el procesamiento en streaming escribiendo los resultados en el topic *notificaciones* de kafka."
   ]
  },
  {
   "cell_type": "code",
   "execution_count": null,
   "id": "389b9fde-b91d-4f1c-b486-c4459252c0c8",
   "metadata": {},
   "outputs": [
    {
     "name": "stderr",
     "output_type": "stream",
     "text": [
      "25/04/09 18:22:39 WARN ResolveWriteToStream: spark.sql.adaptive.enabled is not supported in streaming DataFrames/Datasets and will be disabled.\n",
      "                                                                                "
     ]
    }
   ],
   "source": [
    "notificacionWriterQuery = kafkaTargetDF \\\n",
    "    .writeStream \\\n",
    "    .queryName(\"Notificaciones Writer\") \\\n",
    "    .format(\"kafka\") \\\n",
    "    .option(\"kafka.bootstrap.servers\", \"kafka-1:9092\") \\\n",
    "    .option(\"topic\", \"notificaciones\") \\\n",
    "    .outputMode(\"append\") \\\n",
    "    .option(\"checkpointLocation\", \"file:///home/jovyan/chk-point-dir-caso422\") \\\n",
    "    .start()\n",
    "\n",
    "notificacionWriterQuery.awaitTermination()"
   ]
  },
  {
   "cell_type": "code",
   "execution_count": null,
   "id": "429fcddd-5d54-4734-ba58-beb415248985",
   "metadata": {},
   "outputs": [],
   "source": []
  }
 ],
 "metadata": {
  "kernelspec": {
   "display_name": "Python 3 (ipykernel)",
   "language": "python",
   "name": "python3"
  },
  "language_info": {
   "codemirror_mode": {
    "name": "ipython",
    "version": 3
   },
   "file_extension": ".py",
   "mimetype": "text/x-python",
   "name": "python",
   "nbconvert_exporter": "python",
   "pygments_lexer": "ipython3",
   "version": "3.9.2"
  }
 },
 "nbformat": 4,
 "nbformat_minor": 5
}
