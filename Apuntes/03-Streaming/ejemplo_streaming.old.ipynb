{
 "cells": [
  {
   "cell_type": "code",
   "execution_count": 1,
   "id": "681deaf0-d6cc-47a0-bc2d-1d0e6d565424",
   "metadata": {},
   "outputs": [
    {
     "name": "stderr",
     "output_type": "stream",
     "text": [
      "Setting default log level to \"WARN\".\n",
      "To adjust logging level use sc.setLogLevel(newLevel). For SparkR, use setLogLevel(newLevel).\n"
     ]
    }
   ],
   "source": [
    "from pyspark.sql import SparkSession\n",
    "from pyspark.sql.functions import explode\n",
    "from pyspark.sql.functions import split\n",
    "import string\n",
    "\n",
    "spark = SparkSession.builder \\\n",
    "    .master(\"spark://spark-master:7077\") \\\n",
    "    .appName(\"StructuredWordCount\") \\\n",
    "    .config(\"spark.sql.legacy.timeParserPolicy\", \"LEGACY\") \\\n",
    "    .config(\"spark.eventLog.enabled\", \"true\") \\\n",
    "    .config(\"spark.eventLog.dir\", \"hdfs:///spark/logs/history\") \\\n",
    "    .config(\"spark.history.fs.logDirectory\", \"hdfs:///spark/logs/history\") \\\n",
    "    .getOrCreate()\n",
    "\n",
    "\n",
    "\n"
   ]
  },
  {
   "cell_type": "code",
   "execution_count": 2,
   "id": "c8c308bc-7bcc-4650-a0c3-3c60f5017fb0",
   "metadata": {},
   "outputs": [
    {
     "name": "stderr",
     "output_type": "stream",
     "text": [
      "25/04/07 09:48:39 WARN TextSocketSourceProvider: The socket source should not be used for production applications! It does not support recovery.\n"
     ]
    }
   ],
   "source": [
    "# Create DataFrame representing the stream of input lines from connection to localhost:9999\n",
    "lines = spark \\\n",
    "         .readStream \\\n",
    "         .format(\"socket\") \\\n",
    "         .option(\"host\", \"localhost\") \\\n",
    "         .option(\"port\",9999) \\\n",
    "         .load()\n"
   ]
  },
  {
   "cell_type": "code",
   "execution_count": 3,
   "id": "b11f52d5-700e-461e-bfae-3ce9bf7ef340",
   "metadata": {},
   "outputs": [],
   "source": [
    "from pyspark.sql.functions import regexp_replace\n",
    "# Split the lines into words\n",
    "words = lines.select(\n",
    "        explode(\n",
    "split(lines.value, \" \")\n",
    "   ).alias(\"word\")\n",
    ")\n",
    "\n",
    " # Generate running word count\n",
    "wordCounts = words.groupBy(\"word\").count()"
   ]
  },
  {
   "cell_type": "code",
   "execution_count": 4,
   "id": "4e702fba-d1ab-4b9b-81ce-13142e8dc296",
   "metadata": {},
   "outputs": [
    {
     "name": "stderr",
     "output_type": "stream",
     "text": [
      "25/04/07 09:48:50 WARN ResolveWriteToStream: Temporary checkpoint location created which is deleted normally when the query didn't fail: /tmp/temporary-06400db8-bdc4-44ae-ab53-2177ac553a47. If it's required to delete it under any circumstances, please set spark.sql.streaming.forceDeleteTempCheckpointLocation to true. Important to know deleting temp checkpoint folder is best effort.\n",
      "25/04/07 09:48:50 WARN ResolveWriteToStream: spark.sql.adaptive.enabled is not supported in streaming DataFrames/Datasets and will be disabled.\n",
      "[Stage 1:>                                                        (0 + 2) / 200]"
     ]
    }
   ],
   "source": [
    " # Start running the query that prints the running counts to the console\n",
    "query = wordCounts \\\n",
    "          .writeStream \\\n",
    "          .outputMode(\"complete\") \\\n",
    "          .format(\"memory\") \\\n",
    "          .queryName(\"consulta1\") \\\n",
    "          .start()\n",
    "\n"
   ]
  },
  {
   "cell_type": "code",
   "execution_count": 5,
   "id": "da089ce4-e8e5-4382-8b4a-ce53d432a33d",
   "metadata": {},
   "outputs": [
    {
     "name": "stdout",
     "output_type": "stream",
     "text": [
      "True\n"
     ]
    },
    {
     "name": "stderr",
     "output_type": "stream",
     "text": [
      "[Stage 1:=>                                                       (5 + 2) / 200]"
     ]
    }
   ],
   "source": [
    "print(lines.isStreaming)"
   ]
  },
  {
   "cell_type": "code",
   "execution_count": 6,
   "id": "75fc9e95-3afd-40ef-b81a-03fe5b9f1183",
   "metadata": {},
   "outputs": [
    {
     "name": "stderr",
     "output_type": "stream",
     "text": [
      "25/04/07 09:39:04 WARN ResolveWriteToStream: Temporary checkpoint location created which is deleted normally when the query didn't fail: /tmp/temporary-8ec9c026-e5a5-4987-bcc5-11ae9d32909f. If it's required to delete it under any circumstances, please set spark.sql.streaming.forceDeleteTempCheckpointLocation to true. Important to know deleting temp checkpoint folder is best effort.\n",
      "25/04/07 09:39:04 WARN ResolveWriteToStream: spark.sql.adaptive.enabled is not supported in streaming DataFrames/Datasets and will be disabled.\n",
      "                                                                                "
     ]
    },
    {
     "name": "stdout",
     "output_type": "stream",
     "text": [
      "-------------------------------------------\n",
      "Batch: 0\n",
      "-------------------------------------------\n",
      "+----+-----+\n",
      "|word|count|\n",
      "+----+-----+\n",
      "+----+-----+\n",
      "\n"
     ]
    },
    {
     "name": "stderr",
     "output_type": "stream",
     "text": [
      "                                                                                "
     ]
    }
   ],
   "source": [
    "# Start running the query that prints the running counts to the console\n",
    "query = wordCounts \\\n",
    "    .writeStream \\\n",
    "    .outputMode(\"complete\") \\\n",
    "    .format(\"console\") \\\n",
    "    .start()\n",
    "\n",
    "#query.awaitTermination()\n"
   ]
  },
  {
   "cell_type": "code",
   "execution_count": 5,
   "id": "d38958c0-84c4-430d-a148-5bb2ece2fa5c",
   "metadata": {},
   "outputs": [
    {
     "data": {
      "text/plain": [
       "{'message': 'Waiting for data to arrive',\n",
       " 'isDataAvailable': False,\n",
       " 'isTriggerActive': False}"
      ]
     },
     "metadata": {},
     "output_type": "display_data"
    },
    {
     "name": "stdout",
     "output_type": "stream",
     "text": [
      "+--------+-----+\n",
      "|    word|count|\n",
      "+--------+-----+\n",
      "|    otra|    1|\n",
      "|     vez|    1|\n",
      "|probando|    1|\n",
      "|       o|    1|\n",
      "|      va|    1|\n",
      "|     que|    1|\n",
      "|    hola|    3|\n",
      "|      no|    1|\n",
      "|  parece|    1|\n",
      "+--------+-----+\n",
      "\n"
     ]
    },
    {
     "data": {
      "text/plain": [
       "None"
      ]
     },
     "metadata": {},
     "output_type": "display_data"
    },
    {
     "ename": "KeyboardInterrupt",
     "evalue": "",
     "output_type": "error",
     "traceback": [
      "\u001b[0;31m---------------------------------------------------------------------------\u001b[0m",
      "\u001b[0;31mKeyboardInterrupt\u001b[0m                         Traceback (most recent call last)",
      "Cell \u001b[0;32mIn[5], line 8\u001b[0m\n\u001b[1;32m      6\u001b[0m display(query\u001b[38;5;241m.\u001b[39mstatus)\n\u001b[1;32m      7\u001b[0m display(spark\u001b[38;5;241m.\u001b[39msql(\u001b[38;5;124m'\u001b[39m\u001b[38;5;124mSELECT * FROM consulta1\u001b[39m\u001b[38;5;124m'\u001b[39m)\u001b[38;5;241m.\u001b[39mshow())\n\u001b[0;32m----> 8\u001b[0m \u001b[43msleep\u001b[49m\u001b[43m(\u001b[49m\u001b[38;5;241;43m1\u001b[39;49m\u001b[43m)\u001b[49m\n",
      "\u001b[0;31mKeyboardInterrupt\u001b[0m: "
     ]
    }
   ],
   "source": [
    "from IPython.display import display, clear_output\n",
    "from time import sleep\n",
    "\n",
    "while True:\n",
    "    clear_output(wait=True)\n",
    "    display(query.status)\n",
    "    display(spark.sql('SELECT * FROM consulta1').show())\n",
    "    sleep(1)"
   ]
  },
  {
   "cell_type": "code",
   "execution_count": null,
   "id": "2a71f035-34f3-4567-99d8-1d03aa576e3c",
   "metadata": {},
   "outputs": [],
   "source": [
    "\n",
    "# display(query.status)\n",
    "# display(spark.sql('SELECT * FROM consulta1').show())\n",
    "print (query.status)\n",
    "print (spark.sql('SELECT * FROM consulta1').show())"
   ]
  },
  {
   "cell_type": "code",
   "execution_count": null,
   "id": "615c8263-0eca-4f70-b856-dc8603789839",
   "metadata": {},
   "outputs": [],
   "source": [
    "from pyspark.sql.functions import to_json\n",
    "kafka_output_topic = \"salida\"\n",
    "\n",
    "kafka_output_config = {\n",
    "    \"kafka.bootstrap.servers\": \"kafka-1:9092\",  # Coloca aquí los servidores de arranque de Kafka\n",
    "    \"topic\": kafka_output_topic\n",
    "}\n",
    "\n",
    "query = wordCounts \\\n",
    "    .selectExpr(\"CAST(word AS STRING) AS key\", \"CAST(count AS STRING) AS value\") \\\n",
    "    .writeStream \\\n",
    "    .format(\"kafka\") \\\n",
    "    .outputMode(\"complete\") \\\n",
    "    .options(**kafka_output_config) \\\n",
    "    .start()\n"
   ]
  },
  {
   "cell_type": "code",
   "execution_count": null,
   "id": "52f73c50-f817-4482-acf7-5755d5354d2e",
   "metadata": {},
   "outputs": [],
   "source": []
  }
 ],
 "metadata": {
  "kernelspec": {
   "display_name": "Python 3 (ipykernel)",
   "language": "python",
   "name": "python3"
  },
  "language_info": {
   "codemirror_mode": {
    "name": "ipython",
    "version": 3
   },
   "file_extension": ".py",
   "mimetype": "text/x-python",
   "name": "python",
   "nbconvert_exporter": "python",
   "pygments_lexer": "ipython3",
   "version": "3.9.2"
  }
 },
 "nbformat": 4,
 "nbformat_minor": 5
}
