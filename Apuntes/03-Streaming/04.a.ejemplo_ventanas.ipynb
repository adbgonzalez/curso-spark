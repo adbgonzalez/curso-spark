{
 "cells": [
  {
   "cell_type": "markdown",
   "id": "352e2261-fe11-4ec3-9c54-c0f12c6a1d04",
   "metadata": {},
   "source": [
    "# Ejemplo ventanas 1\n",
    "En primer lugar creamos la sesión como en los casos anteriores:\n"
   ]
  },
  {
   "cell_type": "code",
   "execution_count": 1,
   "id": "d1f6d15a-73d2-410d-bf1a-c83036fb8a97",
   "metadata": {},
   "outputs": [
    {
     "name": "stderr",
     "output_type": "stream",
     "text": [
      "Setting default log level to \"WARN\".\n",
      "To adjust logging level use sc.setLogLevel(newLevel). For SparkR, use setLogLevel(newLevel).\n"
     ]
    }
   ],
   "source": [
    "from pyspark.sql import SparkSession\n",
    "from pyspark.sql.functions import explode\n",
    "from pyspark.sql.functions import split\n",
    "import string\n",
    "\n",
    "spark = SparkSession.builder \\\n",
    "    .master(\"spark://spark-master:7077\") \\\n",
    "    .appName(\"StructuredWordCount\") \\\n",
    "    .config(\"spark.sql.legacy.timeParserPolicy\", \"LEGACY\") \\\n",
    "    .config(\"spark.eventLog.enabled\", \"true\") \\\n",
    "    .config(\"spark.eventLog.dir\", \"hdfs:///spark/logs/history\") \\\n",
    "    .config(\"spark.history.fs.logDirectory\", \"hdfs:///spark/logs/history\") \\\n",
    "    .getOrCreate()\n",
    "\n",
    "\n"
   ]
  },
  {
   "cell_type": "markdown",
   "id": "b2a527b8-8a1f-49c1-b27e-b449b522dab4",
   "metadata": {},
   "source": [
    "En este ejemplo vamos a leer, nuevamente, los  datos desde un socket. Antes de nada lo ponemos en marcha con el siguiente comando:\n",
    "- nc -lk 9999\n",
    "\n",
    "Lo siguiente es poner en marcha el *stream* de lectura, esta vez activando la opción *includeTimestamp*."
   ]
  },
  {
   "cell_type": "code",
   "execution_count": 2,
   "id": "dff106b3-a4d1-4222-aae8-e35b1e56581a",
   "metadata": {},
   "outputs": [
    {
     "name": "stderr",
     "output_type": "stream",
     "text": [
      "25/05/05 14:16:35 WARN TextSocketSourceProvider: The socket source should not be used for production applications! It does not support recovery.\n"
     ]
    },
    {
     "name": "stdout",
     "output_type": "stream",
     "text": [
      "root\n",
      " |-- value: string (nullable = true)\n",
      " |-- timestamp: timestamp (nullable = true)\n",
      "\n"
     ]
    }
   ],
   "source": [
    "df_lineas = spark.readStream \\\n",
    "    .format(\"socket\") \\\n",
    "    .option(\"host\", \"localhost\") \\\n",
    "    .option(\"port\", \"9999\") \\\n",
    "    .option('includeTimestamp', 'true')\\\n",
    "    .load()\n",
    "\n",
    "df_lineas.printSchema()"
   ]
  },
  {
   "cell_type": "markdown",
   "id": "5dbbf5ab-6635-45db-96c7-01fe7ad9d09c",
   "metadata": {},
   "source": [
    "Al igual que en el ejemplo original del socket vamos a hacer un wordcount, la diferencia es que aquí incluímos el *timestamp*."
   ]
  },
  {
   "cell_type": "code",
   "execution_count": 3,
   "id": "6447b213-0151-48ae-a1f5-b020dbaffad6",
   "metadata": {},
   "outputs": [],
   "source": [
    "from pyspark.sql.functions import explode, split\n",
    "df_palabras = df_lineas.select(\n",
    "    explode(split(df_lineas.value, ' ')).alias('palabra'),\n",
    "    df_lineas.timestamp)"
   ]
  },
  {
   "cell_type": "markdown",
   "id": "1ddc0841-0fee-4cc7-b967-6942332d3164",
   "metadata": {},
   "source": [
    "Creamos una ventana fija de dos minutos. Esto agrupará los datos, palabra y recuento, por periodos fijos de tiempo"
   ]
  },
  {
   "cell_type": "code",
   "execution_count": 5,
   "id": "0fe1a2f5-39f8-4071-9098-5caad3dad07e",
   "metadata": {},
   "outputs": [
    {
     "name": "stdout",
     "output_type": "stream",
     "text": [
      "root\n",
      " |-- window: struct (nullable = false)\n",
      " |    |-- start: timestamp (nullable = true)\n",
      " |    |-- end: timestamp (nullable = true)\n",
      " |-- palabra: string (nullable = false)\n",
      " |-- count: long (nullable = false)\n",
      "\n"
     ]
    }
   ],
   "source": [
    "from pyspark.sql.functions import window\n",
    "windowed_counts = df_palabras.groupBy(\n",
    "    window(df_palabras.timestamp, \"2 minutes\"), df_palabras.palabra\n",
    ").count().orderBy('window')\n",
    "\n",
    "windowed_counts.printSchema()"
   ]
  },
  {
   "cell_type": "markdown",
   "id": "4d9176d8-10a5-4bd3-a8e4-28ea7394b1e8",
   "metadata": {},
   "source": [
    "Realizamos la consulta indicando como *sink* la consola. Para poder visualizar correctamente los resultados, si no se actualiza correctamente el notebook, podemos emplear el siguiente comando:\n",
    "- docker logs -f jupyter-notebook "
   ]
  },
  {
   "cell_type": "code",
   "execution_count": 6,
   "id": "fe1ccb4c-1816-47d9-8e07-9f948d0e7ec8",
   "metadata": {},
   "outputs": [
    {
     "name": "stderr",
     "output_type": "stream",
     "text": [
      "25/05/05 14:19:24 WARN ResolveWriteToStream: Temporary checkpoint location created which is deleted normally when the query didn't fail: /tmp/temporary-7b82dda8-716d-46e6-b69f-abb807a6b5c8. If it's required to delete it under any circumstances, please set spark.sql.streaming.forceDeleteTempCheckpointLocation to true. Important to know deleting temp checkpoint folder is best effort.\n",
      "25/05/05 14:19:24 WARN ResolveWriteToStream: spark.sql.adaptive.enabled is not supported in streaming DataFrames/Datasets and will be disabled.\n",
      "                                                                                "
     ]
    },
    {
     "name": "stdout",
     "output_type": "stream",
     "text": [
      "-------------------------------------------\n",
      "Batch: 0\n",
      "-------------------------------------------\n",
      "+------+-------+-----+\n",
      "|window|palabra|count|\n",
      "+------+-------+-----+\n",
      "+------+-------+-----+\n",
      "\n"
     ]
    },
    {
     "name": "stderr",
     "output_type": "stream",
     "text": [
      "                                                                                "
     ]
    },
    {
     "name": "stdout",
     "output_type": "stream",
     "text": [
      "-------------------------------------------\n",
      "Batch: 1\n",
      "-------------------------------------------\n",
      "+------------------------------------------+-------+-----+\n",
      "|window                                    |palabra|count|\n",
      "+------------------------------------------+-------+-----+\n",
      "|{2025-05-05 14:18:00, 2025-05-05 14:20:00}|hola   |1    |\n",
      "|{2025-05-05 14:18:00, 2025-05-05 14:20:00}|mundo  |1    |\n",
      "+------------------------------------------+-------+-----+\n",
      "\n"
     ]
    },
    {
     "name": "stderr",
     "output_type": "stream",
     "text": [
      "                                                                                "
     ]
    },
    {
     "name": "stdout",
     "output_type": "stream",
     "text": [
      "-------------------------------------------\n",
      "Batch: 2\n",
      "-------------------------------------------\n",
      "+------------------------------------------+--------+-----+\n",
      "|window                                    |palabra |count|\n",
      "+------------------------------------------+--------+-----+\n",
      "|{2025-05-05 14:18:00, 2025-05-05 14:20:00}|hola    |2    |\n",
      "|{2025-05-05 14:18:00, 2025-05-05 14:20:00}|mundo   |1    |\n",
      "|{2025-05-05 14:18:00, 2025-05-05 14:20:00}|caracola|1    |\n",
      "+------------------------------------------+--------+-----+\n",
      "\n"
     ]
    },
    {
     "name": "stderr",
     "output_type": "stream",
     "text": [
      "                                                                                "
     ]
    },
    {
     "name": "stdout",
     "output_type": "stream",
     "text": [
      "-------------------------------------------\n",
      "Batch: 3\n",
      "-------------------------------------------\n",
      "+------------------------------------------+---------+-----+\n",
      "|window                                    |palabra  |count|\n",
      "+------------------------------------------+---------+-----+\n",
      "|{2025-05-05 14:18:00, 2025-05-05 14:20:00}|hola     |2    |\n",
      "|{2025-05-05 14:18:00, 2025-05-05 14:20:00}|mundo    |1    |\n",
      "|{2025-05-05 14:18:00, 2025-05-05 14:20:00}|caracola |1    |\n",
      "|{2025-05-05 14:20:00, 2025-05-05 14:22:00}|o        |1    |\n",
      "|{2025-05-05 14:20:00, 2025-05-05 14:22:00}|hola     |1    |\n",
      "|{2025-05-05 14:20:00, 2025-05-05 14:22:00}|dende    |1    |\n",
      "|{2025-05-05 14:20:00, 2025-05-05 14:22:00}|instituto|1    |\n",
      "+------------------------------------------+---------+-----+\n",
      "\n"
     ]
    }
   ],
   "source": [
    "query = windowed_counts \\\n",
    "          .writeStream \\\n",
    "          .outputMode(\"complete\") \\\n",
    "          .format(\"console\") \\\n",
    "          .queryName(\"consulta1\") \\\n",
    "          .option(\"truncate\",\"false\") \\\n",
    "          .start()"
   ]
  },
  {
   "cell_type": "code",
   "execution_count": null,
   "id": "d9797c95-b279-43a3-847d-653e89a00c7a",
   "metadata": {},
   "outputs": [],
   "source": []
  }
 ],
 "metadata": {
  "kernelspec": {
   "display_name": "Python 3 (ipykernel)",
   "language": "python",
   "name": "python3"
  },
  "language_info": {
   "codemirror_mode": {
    "name": "ipython",
    "version": 3
   },
   "file_extension": ".py",
   "mimetype": "text/x-python",
   "name": "python",
   "nbconvert_exporter": "python",
   "pygments_lexer": "ipython3",
   "version": "3.9.2"
  }
 },
 "nbformat": 4,
 "nbformat_minor": 5
}
