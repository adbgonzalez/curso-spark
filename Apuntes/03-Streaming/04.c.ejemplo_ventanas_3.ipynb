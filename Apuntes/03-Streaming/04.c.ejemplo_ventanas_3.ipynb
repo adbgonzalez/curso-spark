{
 "cells": [
  {
   "cell_type": "markdown",
   "id": "102d15c7-9733-4976-9640-e7211b19b305",
   "metadata": {},
   "source": [
    "# Ejemplo Ventanas 3\n",
    "Este ejemplo es similar a los anteriores, pero en este caso usamos datos de bolsa."
   ]
  },
  {
   "cell_type": "code",
   "execution_count": 1,
   "id": "f2d1e3c9-71f3-4749-a741-10f290ec0ac7",
   "metadata": {},
   "outputs": [
    {
     "name": "stderr",
     "output_type": "stream",
     "text": [
      "Setting default log level to \"WARN\".\n",
      "To adjust logging level use sc.setLogLevel(newLevel). For SparkR, use setLogLevel(newLevel).\n"
     ]
    }
   ],
   "source": [
    "from pyspark.sql import SparkSession\n",
    "from pyspark.sql.functions import explode\n",
    "from pyspark.sql.functions import split\n",
    "import string\n",
    "\n",
    "spark = SparkSession.builder \\\n",
    "    .master(\"spark://spark-master:7077\") \\\n",
    "    .appName(\"ejemplo_ventanas_3\") \\\n",
    "    .config(\"spark.sql.legacy.timeParserPolicy\", \"LEGACY\") \\\n",
    "    .config(\"spark.eventLog.enabled\", \"true\") \\\n",
    "    .config(\"spark.eventLog.dir\", \"hdfs:///spark/logs/history\") \\\n",
    "    .config(\"spark.history.fs.logDirectory\", \"hdfs:///spark/logs/history\") \\\n",
    "    .getOrCreate()"
   ]
  },
  {
   "cell_type": "markdown",
   "id": "8f6fe4c0-1524-4b63-ba7a-b76e09603e53",
   "metadata": {},
   "source": [
    "Usaremos el archivo **bolsa1.json**. Lo primero es crear un esquema apropiado para dicho archivo. "
   ]
  },
  {
   "cell_type": "code",
   "execution_count": 2,
   "id": "afdd052e-d74b-4fca-9d56-1213cb891f0f",
   "metadata": {},
   "outputs": [],
   "source": [
    "# Definimos el esquema de los datos de entrada\n",
    "from pyspark.sql.types import StructType, StructField, StringType, IntegerType\n",
    "bolsaSchema = StructType([\n",
    "    StructField(\"CreatedTime\", StringType()),\n",
    "    StructField(\"Type\", StringType()),\n",
    "    StructField(\"Amount\", IntegerType()),\n",
    "    StructField(\"BrokerCode\", StringType())\n",
    "])"
   ]
  },
  {
   "cell_type": "markdown",
   "id": "f0755c24-5fc9-4b19-876f-dd515365f80a",
   "metadata": {},
   "source": [
    "Debe  colocarse en el directorio **/user/jovyan/entrada**. Si se coloca en otro hay que modificar la opción *path* de *readStream*."
   ]
  },
  {
   "cell_type": "code",
   "execution_count": 3,
   "id": "be729d90-05f4-40e3-97d8-55c0a2a64776",
   "metadata": {},
   "outputs": [
    {
     "name": "stdout",
     "output_type": "stream",
     "text": [
      "root\n",
      " |-- CreatedTime: string (nullable = true)\n",
      " |-- Type: string (nullable = true)\n",
      " |-- Amount: integer (nullable = true)\n",
      " |-- BrokerCode: string (nullable = true)\n",
      "\n"
     ]
    }
   ],
   "source": [
    "# Configuramos la lectura de fichero en formato JSON\n",
    "rawDF = spark.readStream \\\n",
    "        .format(\"json\") \\\n",
    "        .option(\"path\", \"entrada\") \\\n",
    "        .option(\"maxFilesPerTrigger\", 1) \\\n",
    "        .schema(bolsaSchema) \\\n",
    "        .load()\n",
    "\n",
    "rawDF.printSchema()"
   ]
  },
  {
   "cell_type": "markdown",
   "id": "e4dfaa38-acc3-44dd-8822-fe9706381d50",
   "metadata": {},
   "source": [
    "Creamos un nuevo DF a partir del anterior. A las columnas existentes añadiremos dos nuevas:\n",
    "- **Compras**: tendrá el valor de la columna *Amount* si la columna *Type* tiene el valor *BUY*, 0 en caso contrario.\n",
    "- **Ventas**: tendrá el valor de la columna *Amount* si la columna *Type* tiene el valor *SELL*, 0 en caso contrario."
   ]
  },
  {
   "cell_type": "code",
   "execution_count": 4,
   "id": "a0e37d4c-3cd1-4caf-9314-34e8bd7c03e6",
   "metadata": {},
   "outputs": [
    {
     "name": "stdout",
     "output_type": "stream",
     "text": [
      "root\n",
      " |-- CreatedTime: timestamp (nullable = true)\n",
      " |-- Type: string (nullable = true)\n",
      " |-- Amount: integer (nullable = true)\n",
      " |-- BrokerCode: string (nullable = true)\n",
      " |-- Compras: integer (nullable = true)\n",
      " |-- Ventas: integer (nullable = true)\n",
      "\n"
     ]
    }
   ],
   "source": [
    "from pyspark.sql.functions import to_timestamp, col, expr\n",
    "accionesDF = rawDF.withColumn(\"CreatedTime\", to_timestamp(col(\"CreatedTime\"), \"yyyy-MM-dd HH:mm:ss\")) \\\n",
    "    .withColumn(\"Compras\", expr(\"case when Type == 'BUY' then Amount else 0 end\")) \\\n",
    "    .withColumn(\"Ventas\", expr(\"case when Type == 'SELL' then Amount else 0 end\"))\n",
    "\n",
    "accionesDF.printSchema()"
   ]
  },
  {
   "cell_type": "markdown",
   "id": "5f15c293-8ffe-4fd8-bed0-ccebc3430e45",
   "metadata": {},
   "source": [
    "Agrupamos por ventanas de **CreatedTime** de 15 minutos de duración, agregando mediante suma las columnas *compras* y *ventas*. "
   ]
  },
  {
   "cell_type": "code",
   "execution_count": 5,
   "id": "224e9fc2-4ab1-424c-ab4f-5db75ea7e304",
   "metadata": {},
   "outputs": [],
   "source": [
    "from pyspark.sql.functions import window, sum\n",
    "windowDF = accionesDF \\\n",
    "    .groupBy(  # col(\"BrokerCode\"),\n",
    "         window(col(\"CreatedTime\"), \"15 minutes\")) \\\n",
    "    .agg(sum(\"Compras\").alias(\"Compras\"),\n",
    "         sum(\"Ventas\").alias(\"Ventas\"))\n",
    "\n",
    "salidaDF = windowDF.select(\"window.start\", \"window.end\", \"Compras\", \"Ventas\")"
   ]
  },
  {
   "cell_type": "markdown",
   "id": "a0687477-ea03-425f-8508-32b45950abe4",
   "metadata": {},
   "source": [
    "Por último, iniciamos el procesamiento en streaming indicando la salida a consola."
   ]
  },
  {
   "cell_type": "code",
   "execution_count": 8,
   "id": "ed9ed113-0ecb-4224-aa97-efcce37e64aa",
   "metadata": {},
   "outputs": [
    {
     "name": "stderr",
     "output_type": "stream",
     "text": [
      "25/05/05 14:28:22 WARN ResolveWriteToStream: Temporary checkpoint location created which is deleted normally when the query didn't fail: /tmp/temporary-b74acf31-cddb-435c-8d5e-b942b019158c. If it's required to delete it under any circumstances, please set spark.sql.streaming.forceDeleteTempCheckpointLocation to true. Important to know deleting temp checkpoint folder is best effort.\n",
      "25/05/05 14:28:22 WARN ResolveWriteToStream: spark.sql.adaptive.enabled is not supported in streaming DataFrames/Datasets and will be disabled.\n",
      "                                                                                "
     ]
    },
    {
     "name": "stdout",
     "output_type": "stream",
     "text": [
      "-------------------------------------------\n",
      "Batch: 0\n",
      "-------------------------------------------\n",
      "+-------------------+-------------------+-------+------+\n",
      "|              start|                end|Compras|Ventas|\n",
      "+-------------------+-------------------+-------+------+\n",
      "|2022-05-09 10:00:00|2022-05-09 10:15:00|    800|     0|\n",
      "|2022-05-09 10:15:00|2022-05-09 10:30:00|    800|   400|\n",
      "|2022-05-09 10:45:00|2022-05-09 11:00:00|      0|   700|\n",
      "|2022-05-09 10:30:00|2022-05-09 10:45:00|    900|     0|\n",
      "+-------------------+-------------------+-------+------+\n",
      "\n"
     ]
    },
    {
     "name": "stderr",
     "output_type": "stream",
     "text": [
      "ERROR:root:KeyboardInterrupt while sending command.\n",
      "Traceback (most recent call last):\n",
      "  File \"/usr/local/lib/python3.9/dist-packages/py4j/java_gateway.py\", line 1038, in send_command\n",
      "    response = connection.send_command(command)\n",
      "  File \"/usr/local/lib/python3.9/dist-packages/py4j/clientserver.py\", line 511, in send_command\n",
      "    answer = smart_decode(self.stream.readline()[:-1])\n",
      "  File \"/usr/lib/python3.9/socket.py\", line 704, in readinto\n",
      "    return self._sock.recv_into(b)\n",
      "KeyboardInterrupt\n"
     ]
    },
    {
     "ename": "KeyboardInterrupt",
     "evalue": "",
     "output_type": "error",
     "traceback": [
      "\u001b[0;31m---------------------------------------------------------------------------\u001b[0m",
      "\u001b[0;31mKeyboardInterrupt\u001b[0m                         Traceback (most recent call last)",
      "Cell \u001b[0;32mIn[8], line 6\u001b[0m\n\u001b[1;32m      1\u001b[0m bolsaWriterQuery \u001b[38;5;241m=\u001b[39m salidaDF\u001b[38;5;241m.\u001b[39mwriteStream \\\n\u001b[1;32m      2\u001b[0m     \u001b[38;5;241m.\u001b[39mformat(\u001b[38;5;124m\"\u001b[39m\u001b[38;5;124mconsole\u001b[39m\u001b[38;5;124m\"\u001b[39m) \\\n\u001b[1;32m      3\u001b[0m     \u001b[38;5;241m.\u001b[39moutputMode(\u001b[38;5;124m\"\u001b[39m\u001b[38;5;124mcomplete\u001b[39m\u001b[38;5;124m\"\u001b[39m) \\\n\u001b[1;32m      4\u001b[0m     \u001b[38;5;241m.\u001b[39mstart()\n\u001b[0;32m----> 6\u001b[0m \u001b[43mbolsaWriterQuery\u001b[49m\u001b[38;5;241;43m.\u001b[39;49m\u001b[43mawaitTermination\u001b[49m\u001b[43m(\u001b[49m\u001b[43m)\u001b[49m\n",
      "File \u001b[0;32m/usr/local/lib/python3.9/dist-packages/pyspark/sql/streaming/query.py:221\u001b[0m, in \u001b[0;36mStreamingQuery.awaitTermination\u001b[0;34m(self, timeout)\u001b[0m\n\u001b[1;32m    219\u001b[0m     \u001b[38;5;28;01mreturn\u001b[39;00m \u001b[38;5;28mself\u001b[39m\u001b[38;5;241m.\u001b[39m_jsq\u001b[38;5;241m.\u001b[39mawaitTermination(\u001b[38;5;28mint\u001b[39m(timeout \u001b[38;5;241m*\u001b[39m \u001b[38;5;241m1000\u001b[39m))\n\u001b[1;32m    220\u001b[0m \u001b[38;5;28;01melse\u001b[39;00m:\n\u001b[0;32m--> 221\u001b[0m     \u001b[38;5;28;01mreturn\u001b[39;00m \u001b[38;5;28;43mself\u001b[39;49m\u001b[38;5;241;43m.\u001b[39;49m\u001b[43m_jsq\u001b[49m\u001b[38;5;241;43m.\u001b[39;49m\u001b[43mawaitTermination\u001b[49m\u001b[43m(\u001b[49m\u001b[43m)\u001b[49m\n",
      "File \u001b[0;32m/usr/local/lib/python3.9/dist-packages/py4j/java_gateway.py:1321\u001b[0m, in \u001b[0;36mJavaMember.__call__\u001b[0;34m(self, *args)\u001b[0m\n\u001b[1;32m   1314\u001b[0m args_command, temp_args \u001b[38;5;241m=\u001b[39m \u001b[38;5;28mself\u001b[39m\u001b[38;5;241m.\u001b[39m_build_args(\u001b[38;5;241m*\u001b[39margs)\n\u001b[1;32m   1316\u001b[0m command \u001b[38;5;241m=\u001b[39m proto\u001b[38;5;241m.\u001b[39mCALL_COMMAND_NAME \u001b[38;5;241m+\u001b[39m\\\n\u001b[1;32m   1317\u001b[0m     \u001b[38;5;28mself\u001b[39m\u001b[38;5;241m.\u001b[39mcommand_header \u001b[38;5;241m+\u001b[39m\\\n\u001b[1;32m   1318\u001b[0m     args_command \u001b[38;5;241m+\u001b[39m\\\n\u001b[1;32m   1319\u001b[0m     proto\u001b[38;5;241m.\u001b[39mEND_COMMAND_PART\n\u001b[0;32m-> 1321\u001b[0m answer \u001b[38;5;241m=\u001b[39m \u001b[38;5;28;43mself\u001b[39;49m\u001b[38;5;241;43m.\u001b[39;49m\u001b[43mgateway_client\u001b[49m\u001b[38;5;241;43m.\u001b[39;49m\u001b[43msend_command\u001b[49m\u001b[43m(\u001b[49m\u001b[43mcommand\u001b[49m\u001b[43m)\u001b[49m\n\u001b[1;32m   1322\u001b[0m return_value \u001b[38;5;241m=\u001b[39m get_return_value(\n\u001b[1;32m   1323\u001b[0m     answer, \u001b[38;5;28mself\u001b[39m\u001b[38;5;241m.\u001b[39mgateway_client, \u001b[38;5;28mself\u001b[39m\u001b[38;5;241m.\u001b[39mtarget_id, \u001b[38;5;28mself\u001b[39m\u001b[38;5;241m.\u001b[39mname)\n\u001b[1;32m   1325\u001b[0m \u001b[38;5;28;01mfor\u001b[39;00m temp_arg \u001b[38;5;129;01min\u001b[39;00m temp_args:\n",
      "File \u001b[0;32m/usr/local/lib/python3.9/dist-packages/py4j/java_gateway.py:1038\u001b[0m, in \u001b[0;36mGatewayClient.send_command\u001b[0;34m(self, command, retry, binary)\u001b[0m\n\u001b[1;32m   1036\u001b[0m connection \u001b[38;5;241m=\u001b[39m \u001b[38;5;28mself\u001b[39m\u001b[38;5;241m.\u001b[39m_get_connection()\n\u001b[1;32m   1037\u001b[0m \u001b[38;5;28;01mtry\u001b[39;00m:\n\u001b[0;32m-> 1038\u001b[0m     response \u001b[38;5;241m=\u001b[39m \u001b[43mconnection\u001b[49m\u001b[38;5;241;43m.\u001b[39;49m\u001b[43msend_command\u001b[49m\u001b[43m(\u001b[49m\u001b[43mcommand\u001b[49m\u001b[43m)\u001b[49m\n\u001b[1;32m   1039\u001b[0m     \u001b[38;5;28;01mif\u001b[39;00m binary:\n\u001b[1;32m   1040\u001b[0m         \u001b[38;5;28;01mreturn\u001b[39;00m response, \u001b[38;5;28mself\u001b[39m\u001b[38;5;241m.\u001b[39m_create_connection_guard(connection)\n",
      "File \u001b[0;32m/usr/local/lib/python3.9/dist-packages/py4j/clientserver.py:511\u001b[0m, in \u001b[0;36mClientServerConnection.send_command\u001b[0;34m(self, command)\u001b[0m\n\u001b[1;32m    509\u001b[0m \u001b[38;5;28;01mtry\u001b[39;00m:\n\u001b[1;32m    510\u001b[0m     \u001b[38;5;28;01mwhile\u001b[39;00m \u001b[38;5;28;01mTrue\u001b[39;00m:\n\u001b[0;32m--> 511\u001b[0m         answer \u001b[38;5;241m=\u001b[39m smart_decode(\u001b[38;5;28;43mself\u001b[39;49m\u001b[38;5;241;43m.\u001b[39;49m\u001b[43mstream\u001b[49m\u001b[38;5;241;43m.\u001b[39;49m\u001b[43mreadline\u001b[49m\u001b[43m(\u001b[49m\u001b[43m)\u001b[49m[:\u001b[38;5;241m-\u001b[39m\u001b[38;5;241m1\u001b[39m])\n\u001b[1;32m    512\u001b[0m         logger\u001b[38;5;241m.\u001b[39mdebug(\u001b[38;5;124m\"\u001b[39m\u001b[38;5;124mAnswer received: \u001b[39m\u001b[38;5;132;01m{0}\u001b[39;00m\u001b[38;5;124m\"\u001b[39m\u001b[38;5;241m.\u001b[39mformat(answer))\n\u001b[1;32m    513\u001b[0m         \u001b[38;5;66;03m# Happens when a the other end is dead. There might be an empty\u001b[39;00m\n\u001b[1;32m    514\u001b[0m         \u001b[38;5;66;03m# answer before the socket raises an error.\u001b[39;00m\n",
      "File \u001b[0;32m/usr/lib/python3.9/socket.py:704\u001b[0m, in \u001b[0;36mSocketIO.readinto\u001b[0;34m(self, b)\u001b[0m\n\u001b[1;32m    702\u001b[0m \u001b[38;5;28;01mwhile\u001b[39;00m \u001b[38;5;28;01mTrue\u001b[39;00m:\n\u001b[1;32m    703\u001b[0m     \u001b[38;5;28;01mtry\u001b[39;00m:\n\u001b[0;32m--> 704\u001b[0m         \u001b[38;5;28;01mreturn\u001b[39;00m \u001b[38;5;28;43mself\u001b[39;49m\u001b[38;5;241;43m.\u001b[39;49m\u001b[43m_sock\u001b[49m\u001b[38;5;241;43m.\u001b[39;49m\u001b[43mrecv_into\u001b[49m\u001b[43m(\u001b[49m\u001b[43mb\u001b[49m\u001b[43m)\u001b[49m\n\u001b[1;32m    705\u001b[0m     \u001b[38;5;28;01mexcept\u001b[39;00m timeout:\n\u001b[1;32m    706\u001b[0m         \u001b[38;5;28mself\u001b[39m\u001b[38;5;241m.\u001b[39m_timeout_occurred \u001b[38;5;241m=\u001b[39m \u001b[38;5;28;01mTrue\u001b[39;00m\n",
      "\u001b[0;31mKeyboardInterrupt\u001b[0m: "
     ]
    }
   ],
   "source": [
    "\n",
    "\n",
    "bolsaWriterQuery = salidaDF.writeStream \\\n",
    "    .format(\"console\") \\\n",
    "    .outputMode(\"complete\") \\\n",
    "    .start()\n",
    "\n",
    "bolsaWriterQuery.awaitTermination()"
   ]
  },
  {
   "cell_type": "markdown",
   "id": "5e0e0833-e064-40e4-9707-de3a43f4859d",
   "metadata": {},
   "source": [
    "Hay una serie de limitaciones: \n",
    "- Al usar agregaciones en operaciones con ventana no podemos usar algunos modos de salida, como ya se habisto en el notebook 00. En concreto, no se pueden usar los modos *update* y *append*.\n",
    "- Para poder usar el *sink* tipo archivo es necesario el modo *append*.\n",
    "- Para poder usar el modo *append* es necesario aplicar el concepto de *watermarking* que se verá en el notebook 04.d."
   ]
  },
  {
   "cell_type": "code",
   "execution_count": 6,
   "id": "8e80bb58-d6e3-45bf-919f-ac2e46242084",
   "metadata": {},
   "outputs": [
    {
     "name": "stderr",
     "output_type": "stream",
     "text": [
      "25/05/05 14:29:41 WARN ResolveWriteToStream: spark.sql.adaptive.enabled is not supported in streaming DataFrames/Datasets and will be disabled.\n"
     ]
    },
    {
     "ename": "AnalysisException",
     "evalue": "Append output mode not supported when there are streaming aggregations on streaming DataFrames/DataSets without watermark;\nProject [window#27.start AS start#42, window#27.end AS end#43, Compras#35L, Ventas#37L]\n+- Aggregate [window#38], [window#38 AS window#27, sum(Compras#14) AS Compras#35L, sum(Ventas#20) AS Ventas#37L]\n   +- Project [named_struct(start, knownnullable(precisetimestampconversion(((precisetimestampconversion(CreatedTime#8, TimestampType, LongType) - CASE WHEN (((precisetimestampconversion(CreatedTime#8, TimestampType, LongType) - 0) % 900000000) < cast(0 as bigint)) THEN (((precisetimestampconversion(CreatedTime#8, TimestampType, LongType) - 0) % 900000000) + 900000000) ELSE ((precisetimestampconversion(CreatedTime#8, TimestampType, LongType) - 0) % 900000000) END) - 0), LongType, TimestampType)), end, knownnullable(precisetimestampconversion((((precisetimestampconversion(CreatedTime#8, TimestampType, LongType) - CASE WHEN (((precisetimestampconversion(CreatedTime#8, TimestampType, LongType) - 0) % 900000000) < cast(0 as bigint)) THEN (((precisetimestampconversion(CreatedTime#8, TimestampType, LongType) - 0) % 900000000) + 900000000) ELSE ((precisetimestampconversion(CreatedTime#8, TimestampType, LongType) - 0) % 900000000) END) - 0) + 900000000), LongType, TimestampType))) AS window#38, CreatedTime#8, Type#1, Amount#2, BrokerCode#3, Compras#14, Ventas#20]\n      +- Filter isnotnull(CreatedTime#8)\n         +- Project [CreatedTime#8, Type#1, Amount#2, BrokerCode#3, Compras#14, CASE WHEN (Type#1 = SELL) THEN Amount#2 ELSE 0 END AS Ventas#20]\n            +- Project [CreatedTime#8, Type#1, Amount#2, BrokerCode#3, CASE WHEN (Type#1 = BUY) THEN Amount#2 ELSE 0 END AS Compras#14]\n               +- Project [to_timestamp(CreatedTime#0, Some(yyyy-MM-dd HH:mm:ss), TimestampType, Some(Etc/UTC), false) AS CreatedTime#8, Type#1, Amount#2, BrokerCode#3]\n                  +- StreamingRelation DataSource(org.apache.spark.sql.SparkSession@4b5ec5ae,json,List(),Some(StructType(StructField(CreatedTime,StringType,true),StructField(Type,StringType,true),StructField(Amount,IntegerType,true),StructField(BrokerCode,StringType,true))),List(),None,Map(path -> entrada, maxFilesPerTrigger -> 1),None), FileSource[entrada], [CreatedTime#0, Type#1, Amount#2, BrokerCode#3]\n",
     "output_type": "error",
     "traceback": [
      "\u001b[0;31m---------------------------------------------------------------------------\u001b[0m",
      "\u001b[0;31mAnalysisException\u001b[0m                         Traceback (most recent call last)",
      "Cell \u001b[0;32mIn[6], line 2\u001b[0m\n\u001b[1;32m      1\u001b[0m \u001b[38;5;66;03m# Ejemplo: No se puede usar el modo append sin watermark.\u001b[39;00m\n\u001b[0;32m----> 2\u001b[0m bolsaWriterQuery \u001b[38;5;241m=\u001b[39m \u001b[43msalidaDF\u001b[49m\u001b[38;5;241;43m.\u001b[39;49m\u001b[43mwriteStream\u001b[49m\u001b[43m \u001b[49m\u001b[43m\\\u001b[49m\n\u001b[1;32m      3\u001b[0m \u001b[43m    \u001b[49m\u001b[38;5;241;43m.\u001b[39;49m\u001b[43mformat\u001b[49m\u001b[43m(\u001b[49m\u001b[38;5;124;43m\"\u001b[39;49m\u001b[38;5;124;43mparquet\u001b[39;49m\u001b[38;5;124;43m\"\u001b[39;49m\u001b[43m)\u001b[49m\u001b[43m \u001b[49m\u001b[43m\\\u001b[49m\n\u001b[1;32m      4\u001b[0m \u001b[43m    \u001b[49m\u001b[38;5;241;43m.\u001b[39;49m\u001b[43mqueryName\u001b[49m\u001b[43m(\u001b[49m\u001b[38;5;124;43m\"\u001b[39;49m\u001b[38;5;124;43mBolsaWQuery\u001b[39;49m\u001b[38;5;124;43m\"\u001b[39;49m\u001b[43m)\u001b[49m\u001b[43m \u001b[49m\u001b[43m\\\u001b[49m\n\u001b[1;32m      5\u001b[0m \u001b[43m    \u001b[49m\u001b[38;5;241;43m.\u001b[39;49m\u001b[43moutputMode\u001b[49m\u001b[43m(\u001b[49m\u001b[38;5;124;43m\"\u001b[39;49m\u001b[38;5;124;43mappend\u001b[39;49m\u001b[38;5;124;43m\"\u001b[39;49m\u001b[43m)\u001b[49m\u001b[43m \u001b[49m\u001b[43m\\\u001b[49m\n\u001b[1;32m      6\u001b[0m \u001b[43m    \u001b[49m\u001b[38;5;241;43m.\u001b[39;49m\u001b[43moption\u001b[49m\u001b[43m(\u001b[49m\u001b[38;5;124;43m\"\u001b[39;49m\u001b[38;5;124;43mpath\u001b[39;49m\u001b[38;5;124;43m\"\u001b[39;49m\u001b[43m,\u001b[49m\u001b[43m \u001b[49m\u001b[38;5;124;43m\"\u001b[39;49m\u001b[38;5;124;43msalida\u001b[39;49m\u001b[38;5;124;43m\"\u001b[39;49m\u001b[43m)\u001b[49m\u001b[43m \u001b[49m\u001b[43m\\\u001b[49m\n\u001b[1;32m      7\u001b[0m \u001b[43m    \u001b[49m\u001b[38;5;241;43m.\u001b[39;49m\u001b[43moption\u001b[49m\u001b[43m(\u001b[49m\u001b[38;5;124;43m\"\u001b[39;49m\u001b[38;5;124;43mcheckpointLocation\u001b[39;49m\u001b[38;5;124;43m\"\u001b[39;49m\u001b[43m,\u001b[49m\u001b[43m \u001b[49m\u001b[38;5;124;43m\"\u001b[39;49m\u001b[38;5;124;43mchk-point-dir-caso7\u001b[39;49m\u001b[38;5;124;43m\"\u001b[39;49m\u001b[43m)\u001b[49m\u001b[43m \u001b[49m\u001b[43m\\\u001b[49m\n\u001b[1;32m      8\u001b[0m \u001b[43m    \u001b[49m\u001b[38;5;241;43m.\u001b[39;49m\u001b[43mtrigger\u001b[49m\u001b[43m(\u001b[49m\u001b[43mprocessingTime\u001b[49m\u001b[38;5;241;43m=\u001b[39;49m\u001b[38;5;124;43m\"\u001b[39;49m\u001b[38;5;124;43m1 minute\u001b[39;49m\u001b[38;5;124;43m\"\u001b[39;49m\u001b[43m)\u001b[49m\u001b[43m \u001b[49m\u001b[43m\\\u001b[49m\n\u001b[1;32m      9\u001b[0m \u001b[43m    \u001b[49m\u001b[38;5;241;43m.\u001b[39;49m\u001b[43mstart\u001b[49m\u001b[43m(\u001b[49m\u001b[43m)\u001b[49m\n",
      "File \u001b[0;32m/usr/local/lib/python3.9/dist-packages/pyspark/sql/streaming/readwriter.py:1527\u001b[0m, in \u001b[0;36mDataStreamWriter.start\u001b[0;34m(self, path, format, outputMode, partitionBy, queryName, **options)\u001b[0m\n\u001b[1;32m   1525\u001b[0m     \u001b[38;5;28mself\u001b[39m\u001b[38;5;241m.\u001b[39mqueryName(queryName)\n\u001b[1;32m   1526\u001b[0m \u001b[38;5;28;01mif\u001b[39;00m path \u001b[38;5;129;01mis\u001b[39;00m \u001b[38;5;28;01mNone\u001b[39;00m:\n\u001b[0;32m-> 1527\u001b[0m     \u001b[38;5;28;01mreturn\u001b[39;00m \u001b[38;5;28mself\u001b[39m\u001b[38;5;241m.\u001b[39m_sq(\u001b[38;5;28;43mself\u001b[39;49m\u001b[38;5;241;43m.\u001b[39;49m\u001b[43m_jwrite\u001b[49m\u001b[38;5;241;43m.\u001b[39;49m\u001b[43mstart\u001b[49m\u001b[43m(\u001b[49m\u001b[43m)\u001b[49m)\n\u001b[1;32m   1528\u001b[0m \u001b[38;5;28;01melse\u001b[39;00m:\n\u001b[1;32m   1529\u001b[0m     \u001b[38;5;28;01mreturn\u001b[39;00m \u001b[38;5;28mself\u001b[39m\u001b[38;5;241m.\u001b[39m_sq(\u001b[38;5;28mself\u001b[39m\u001b[38;5;241m.\u001b[39m_jwrite\u001b[38;5;241m.\u001b[39mstart(path))\n",
      "File \u001b[0;32m/usr/local/lib/python3.9/dist-packages/py4j/java_gateway.py:1322\u001b[0m, in \u001b[0;36mJavaMember.__call__\u001b[0;34m(self, *args)\u001b[0m\n\u001b[1;32m   1316\u001b[0m command \u001b[38;5;241m=\u001b[39m proto\u001b[38;5;241m.\u001b[39mCALL_COMMAND_NAME \u001b[38;5;241m+\u001b[39m\\\n\u001b[1;32m   1317\u001b[0m     \u001b[38;5;28mself\u001b[39m\u001b[38;5;241m.\u001b[39mcommand_header \u001b[38;5;241m+\u001b[39m\\\n\u001b[1;32m   1318\u001b[0m     args_command \u001b[38;5;241m+\u001b[39m\\\n\u001b[1;32m   1319\u001b[0m     proto\u001b[38;5;241m.\u001b[39mEND_COMMAND_PART\n\u001b[1;32m   1321\u001b[0m answer \u001b[38;5;241m=\u001b[39m \u001b[38;5;28mself\u001b[39m\u001b[38;5;241m.\u001b[39mgateway_client\u001b[38;5;241m.\u001b[39msend_command(command)\n\u001b[0;32m-> 1322\u001b[0m return_value \u001b[38;5;241m=\u001b[39m \u001b[43mget_return_value\u001b[49m\u001b[43m(\u001b[49m\n\u001b[1;32m   1323\u001b[0m \u001b[43m    \u001b[49m\u001b[43manswer\u001b[49m\u001b[43m,\u001b[49m\u001b[43m \u001b[49m\u001b[38;5;28;43mself\u001b[39;49m\u001b[38;5;241;43m.\u001b[39;49m\u001b[43mgateway_client\u001b[49m\u001b[43m,\u001b[49m\u001b[43m \u001b[49m\u001b[38;5;28;43mself\u001b[39;49m\u001b[38;5;241;43m.\u001b[39;49m\u001b[43mtarget_id\u001b[49m\u001b[43m,\u001b[49m\u001b[43m \u001b[49m\u001b[38;5;28;43mself\u001b[39;49m\u001b[38;5;241;43m.\u001b[39;49m\u001b[43mname\u001b[49m\u001b[43m)\u001b[49m\n\u001b[1;32m   1325\u001b[0m \u001b[38;5;28;01mfor\u001b[39;00m temp_arg \u001b[38;5;129;01min\u001b[39;00m temp_args:\n\u001b[1;32m   1326\u001b[0m     \u001b[38;5;28;01mif\u001b[39;00m \u001b[38;5;28mhasattr\u001b[39m(temp_arg, \u001b[38;5;124m\"\u001b[39m\u001b[38;5;124m_detach\u001b[39m\u001b[38;5;124m\"\u001b[39m):\n",
      "File \u001b[0;32m/usr/local/lib/python3.9/dist-packages/pyspark/errors/exceptions/captured.py:185\u001b[0m, in \u001b[0;36mcapture_sql_exception.<locals>.deco\u001b[0;34m(*a, **kw)\u001b[0m\n\u001b[1;32m    181\u001b[0m converted \u001b[38;5;241m=\u001b[39m convert_exception(e\u001b[38;5;241m.\u001b[39mjava_exception)\n\u001b[1;32m    182\u001b[0m \u001b[38;5;28;01mif\u001b[39;00m \u001b[38;5;129;01mnot\u001b[39;00m \u001b[38;5;28misinstance\u001b[39m(converted, UnknownException):\n\u001b[1;32m    183\u001b[0m     \u001b[38;5;66;03m# Hide where the exception came from that shows a non-Pythonic\u001b[39;00m\n\u001b[1;32m    184\u001b[0m     \u001b[38;5;66;03m# JVM exception message.\u001b[39;00m\n\u001b[0;32m--> 185\u001b[0m     \u001b[38;5;28;01mraise\u001b[39;00m converted \u001b[38;5;28;01mfrom\u001b[39;00m\u001b[38;5;250m \u001b[39m\u001b[38;5;28;01mNone\u001b[39;00m\n\u001b[1;32m    186\u001b[0m \u001b[38;5;28;01melse\u001b[39;00m:\n\u001b[1;32m    187\u001b[0m     \u001b[38;5;28;01mraise\u001b[39;00m\n",
      "\u001b[0;31mAnalysisException\u001b[0m: Append output mode not supported when there are streaming aggregations on streaming DataFrames/DataSets without watermark;\nProject [window#27.start AS start#42, window#27.end AS end#43, Compras#35L, Ventas#37L]\n+- Aggregate [window#38], [window#38 AS window#27, sum(Compras#14) AS Compras#35L, sum(Ventas#20) AS Ventas#37L]\n   +- Project [named_struct(start, knownnullable(precisetimestampconversion(((precisetimestampconversion(CreatedTime#8, TimestampType, LongType) - CASE WHEN (((precisetimestampconversion(CreatedTime#8, TimestampType, LongType) - 0) % 900000000) < cast(0 as bigint)) THEN (((precisetimestampconversion(CreatedTime#8, TimestampType, LongType) - 0) % 900000000) + 900000000) ELSE ((precisetimestampconversion(CreatedTime#8, TimestampType, LongType) - 0) % 900000000) END) - 0), LongType, TimestampType)), end, knownnullable(precisetimestampconversion((((precisetimestampconversion(CreatedTime#8, TimestampType, LongType) - CASE WHEN (((precisetimestampconversion(CreatedTime#8, TimestampType, LongType) - 0) % 900000000) < cast(0 as bigint)) THEN (((precisetimestampconversion(CreatedTime#8, TimestampType, LongType) - 0) % 900000000) + 900000000) ELSE ((precisetimestampconversion(CreatedTime#8, TimestampType, LongType) - 0) % 900000000) END) - 0) + 900000000), LongType, TimestampType))) AS window#38, CreatedTime#8, Type#1, Amount#2, BrokerCode#3, Compras#14, Ventas#20]\n      +- Filter isnotnull(CreatedTime#8)\n         +- Project [CreatedTime#8, Type#1, Amount#2, BrokerCode#3, Compras#14, CASE WHEN (Type#1 = SELL) THEN Amount#2 ELSE 0 END AS Ventas#20]\n            +- Project [CreatedTime#8, Type#1, Amount#2, BrokerCode#3, CASE WHEN (Type#1 = BUY) THEN Amount#2 ELSE 0 END AS Compras#14]\n               +- Project [to_timestamp(CreatedTime#0, Some(yyyy-MM-dd HH:mm:ss), TimestampType, Some(Etc/UTC), false) AS CreatedTime#8, Type#1, Amount#2, BrokerCode#3]\n                  +- StreamingRelation DataSource(org.apache.spark.sql.SparkSession@4b5ec5ae,json,List(),Some(StructType(StructField(CreatedTime,StringType,true),StructField(Type,StringType,true),StructField(Amount,IntegerType,true),StructField(BrokerCode,StringType,true))),List(),None,Map(path -> entrada, maxFilesPerTrigger -> 1),None), FileSource[entrada], [CreatedTime#0, Type#1, Amount#2, BrokerCode#3]\n"
     ]
    }
   ],
   "source": [
    "# Ejemplo: No se puede usar el modo append sin watermark.\n",
    "bolsaWriterQuery = salidaDF.writeStream \\\n",
    "    .format(\"parquet\") \\\n",
    "    .queryName(\"BolsaWQuery\") \\\n",
    "    .outputMode(\"append\") \\\n",
    "    .option(\"path\", \"salida\") \\\n",
    "    .option(\"checkpointLocation\", \"chk-point-dir-caso7\") \\\n",
    "    .trigger(processingTime=\"1 minute\") \\\n",
    "    .start()"
   ]
  },
  {
   "cell_type": "code",
   "execution_count": null,
   "id": "2bd9c3b7-077e-46b6-a9e3-85e31f4d3085",
   "metadata": {},
   "outputs": [],
   "source": []
  }
 ],
 "metadata": {
  "kernelspec": {
   "display_name": "Python 3 (ipykernel)",
   "language": "python",
   "name": "python3"
  },
  "language_info": {
   "codemirror_mode": {
    "name": "ipython",
    "version": 3
   },
   "file_extension": ".py",
   "mimetype": "text/x-python",
   "name": "python",
   "nbconvert_exporter": "python",
   "pygments_lexer": "ipython3",
   "version": "3.9.2"
  }
 },
 "nbformat": 4,
 "nbformat_minor": 5
}
