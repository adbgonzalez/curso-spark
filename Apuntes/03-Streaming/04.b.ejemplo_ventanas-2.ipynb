{
 "cells": [
  {
   "cell_type": "markdown",
   "id": "352e2261-fe11-4ec3-9c54-c0f12c6a1d04",
   "metadata": {},
   "source": [
    "### Ejemplo ventanas deslizantes\n",
    "En primer lugar creamos la sesión como en los casos anteriores:\n"
   ]
  },
  {
   "cell_type": "code",
   "execution_count": 1,
   "id": "d1f6d15a-73d2-410d-bf1a-c83036fb8a97",
   "metadata": {},
   "outputs": [
    {
     "name": "stderr",
     "output_type": "stream",
     "text": [
      "Setting default log level to \"WARN\".\n",
      "To adjust logging level use sc.setLogLevel(newLevel). For SparkR, use setLogLevel(newLevel).\n"
     ]
    }
   ],
   "source": [
    "from pyspark.sql import SparkSession\n",
    "from pyspark.sql.functions import explode\n",
    "from pyspark.sql.functions import split\n",
    "import string\n",
    "\n",
    "spark = SparkSession.builder \\\n",
    "    .master(\"spark://spark-master:7077\") \\\n",
    "    .appName(\"ejemplo_ventanas_deslizantes\") \\\n",
    "    .config(\"spark.sql.legacy.timeParserPolicy\", \"LEGACY\") \\\n",
    "    .config(\"spark.eventLog.enabled\", \"true\") \\\n",
    "    .config(\"spark.eventLog.dir\", \"hdfs:///spark/logs/history\") \\\n",
    "    .config(\"spark.history.fs.logDirectory\", \"hdfs:///spark/logs/history\") \\\n",
    "    .getOrCreate()\n",
    "\n",
    "\n"
   ]
  },
  {
   "cell_type": "markdown",
   "id": "b2a527b8-8a1f-49c1-b27e-b449b522dab4",
   "metadata": {},
   "source": [
    "En este ejemplo vamos a leer, nuevamente, los  datos desde un socket. Antes de nada lo ponemos en marcha con el siguiente comando:\n",
    "- nc -lk 9999\n",
    "\n",
    "Lo siguiente es poner en marcha el *stream* de lectura, exactamente igual que en el caso anterior."
   ]
  },
  {
   "cell_type": "code",
   "execution_count": 2,
   "id": "dff106b3-a4d1-4222-aae8-e35b1e56581a",
   "metadata": {},
   "outputs": [
    {
     "name": "stderr",
     "output_type": "stream",
     "text": [
      "25/05/02 14:22:08 WARN TextSocketSourceProvider: The socket source should not be used for production applications! It does not support recovery.\n"
     ]
    },
    {
     "name": "stdout",
     "output_type": "stream",
     "text": [
      "root\n",
      " |-- value: string (nullable = true)\n",
      " |-- timestamp: timestamp (nullable = true)\n",
      "\n"
     ]
    }
   ],
   "source": [
    "df_lineas = spark.readStream \\\n",
    "    .format(\"socket\") \\\n",
    "    .option(\"host\", \"localhost\") \\\n",
    "    .option(\"port\", \"9999\") \\\n",
    "    .option('includeTimestamp', 'true')\\\n",
    "    .load()\n",
    "\n",
    "df_lineas.printSchema()"
   ]
  },
  {
   "cell_type": "markdown",
   "id": "42538829-d6e1-494f-b915-7f18e30be042",
   "metadata": {},
   "source": [
    "La creación de *df_palabras* también es exactamente igual al caso anterior."
   ]
  },
  {
   "cell_type": "code",
   "execution_count": 3,
   "id": "6447b213-0151-48ae-a1f5-b020dbaffad6",
   "metadata": {},
   "outputs": [],
   "source": [
    "from pyspark.sql.functions import explode, split\n",
    "df_palabras = df_lineas.select(\n",
    "    explode(split(df_lineas.value, ' ')).alias('palabra'),\n",
    "    df_lineas.timestamp)"
   ]
  },
  {
   "cell_type": "markdown",
   "id": "05b0011c-973b-420d-9261-5e2e0f3f068f",
   "metadata": {},
   "source": [
    "Como en este caso vamos usar ventanas deslizante ahora, además de indicar la duración de la ventana (1 minuto), indicamos el deslizamiento (1 minuto)."
   ]
  },
  {
   "cell_type": "code",
   "execution_count": 4,
   "id": "0fe1a2f5-39f8-4071-9098-5caad3dad07e",
   "metadata": {},
   "outputs": [],
   "source": [
    "from pyspark.sql.functions import window\n",
    "windowed_counts = df_palabras.groupBy(\n",
    "    window(df_palabras.timestamp, \"2 minutes\", \"1 minute\"), df_palabras.palabra\n",
    ").count().orderBy('window')"
   ]
  },
  {
   "cell_type": "markdown",
   "id": "b9f106b9-f5f2-4cf7-acc4-568476207a53",
   "metadata": {},
   "source": [
    "Finalmente, lanzamos la consulta indicando la salida a consola. Como observaréis cuando introducimos una nueva línea sus palabras se agregan a dos ventanas. La del minuto actual y la del anterior."
   ]
  },
  {
   "cell_type": "code",
   "execution_count": 5,
   "id": "fe1ccb4c-1816-47d9-8e07-9f948d0e7ec8",
   "metadata": {},
   "outputs": [
    {
     "name": "stderr",
     "output_type": "stream",
     "text": [
      "25/05/02 14:24:43 WARN ResolveWriteToStream: Temporary checkpoint location created which is deleted normally when the query didn't fail: /tmp/temporary-3d0ecbdd-41ee-4c45-9bb6-f1aa01c7f003. If it's required to delete it under any circumstances, please set spark.sql.streaming.forceDeleteTempCheckpointLocation to true. Important to know deleting temp checkpoint folder is best effort.\n",
      "25/05/02 14:24:43 WARN ResolveWriteToStream: spark.sql.adaptive.enabled is not supported in streaming DataFrames/Datasets and will be disabled.\n",
      "                                                                                "
     ]
    },
    {
     "name": "stdout",
     "output_type": "stream",
     "text": [
      "-------------------------------------------\n",
      "Batch: 0\n",
      "-------------------------------------------\n",
      "+------+-------+-----+\n",
      "|window|palabra|count|\n",
      "+------+-------+-----+\n",
      "+------+-------+-----+\n",
      "\n"
     ]
    },
    {
     "name": "stderr",
     "output_type": "stream",
     "text": [
      "                                                                                "
     ]
    },
    {
     "name": "stdout",
     "output_type": "stream",
     "text": [
      "-------------------------------------------\n",
      "Batch: 1\n",
      "-------------------------------------------\n",
      "+------------------------------------------+--------+-----+\n",
      "|window                                    |palabra |count|\n",
      "+------------------------------------------+--------+-----+\n",
      "|{2025-05-02 14:23:00, 2025-05-02 14:25:00}|caracola|1    |\n",
      "|{2025-05-02 14:23:00, 2025-05-02 14:25:00}|hola    |1    |\n",
      "|{2025-05-02 14:24:00, 2025-05-02 14:26:00}|caracola|1    |\n",
      "|{2025-05-02 14:24:00, 2025-05-02 14:26:00}|hola    |1    |\n",
      "+------------------------------------------+--------+-----+\n",
      "\n"
     ]
    },
    {
     "name": "stderr",
     "output_type": "stream",
     "text": [
      "                                                                                "
     ]
    },
    {
     "name": "stdout",
     "output_type": "stream",
     "text": [
      "-------------------------------------------\n",
      "Batch: 2\n",
      "-------------------------------------------\n",
      "+------------------------------------------+--------+-----+\n",
      "|window                                    |palabra |count|\n",
      "+------------------------------------------+--------+-----+\n",
      "|{2025-05-02 14:23:00, 2025-05-02 14:25:00}|caracola|1    |\n",
      "|{2025-05-02 14:23:00, 2025-05-02 14:25:00}|hola    |2    |\n",
      "|{2025-05-02 14:23:00, 2025-05-02 14:25:00}|mundo   |1    |\n",
      "|{2025-05-02 14:24:00, 2025-05-02 14:26:00}|caracola|1    |\n",
      "|{2025-05-02 14:24:00, 2025-05-02 14:26:00}|hola    |2    |\n",
      "|{2025-05-02 14:24:00, 2025-05-02 14:26:00}|mundo   |1    |\n",
      "+------------------------------------------+--------+-----+\n",
      "\n"
     ]
    },
    {
     "name": "stderr",
     "output_type": "stream",
     "text": [
      "                                                                                "
     ]
    },
    {
     "name": "stdout",
     "output_type": "stream",
     "text": [
      "-------------------------------------------\n",
      "Batch: 3\n",
      "-------------------------------------------\n",
      "+------------------------------------------+--------+-----+\n",
      "|window                                    |palabra |count|\n",
      "+------------------------------------------+--------+-----+\n",
      "|{2025-05-02 14:23:00, 2025-05-02 14:25:00}|caracola|1    |\n",
      "|{2025-05-02 14:23:00, 2025-05-02 14:25:00}|hola    |2    |\n",
      "|{2025-05-02 14:23:00, 2025-05-02 14:25:00}|mundo   |1    |\n",
      "|{2025-05-02 14:24:00, 2025-05-02 14:26:00}|caracola|1    |\n",
      "|{2025-05-02 14:24:00, 2025-05-02 14:26:00}|hola    |2    |\n",
      "|{2025-05-02 14:24:00, 2025-05-02 14:26:00}|mundo   |2    |\n",
      "|{2025-05-02 14:24:00, 2025-05-02 14:26:00}|cruel   |1    |\n",
      "|{2025-05-02 14:25:00, 2025-05-02 14:27:00}|mundo   |1    |\n",
      "|{2025-05-02 14:25:00, 2025-05-02 14:27:00}|cruel   |1    |\n",
      "+------------------------------------------+--------+-----+\n",
      "\n"
     ]
    }
   ],
   "source": [
    "query = windowed_counts \\\n",
    "          .writeStream \\\n",
    "          .outputMode(\"complete\") \\\n",
    "          .format(\"console\") \\\n",
    "          .queryName(\"consulta1\") \\\n",
    "          .option(\"truncate\",\"false\") \\\n",
    "          .start()"
   ]
  },
  {
   "cell_type": "code",
   "execution_count": null,
   "id": "d9797c95-b279-43a3-847d-653e89a00c7a",
   "metadata": {},
   "outputs": [],
   "source": []
  }
 ],
 "metadata": {
  "kernelspec": {
   "display_name": "Python 3 (ipykernel)",
   "language": "python",
   "name": "python3"
  },
  "language_info": {
   "codemirror_mode": {
    "name": "ipython",
    "version": 3
   },
   "file_extension": ".py",
   "mimetype": "text/x-python",
   "name": "python",
   "nbconvert_exporter": "python",
   "pygments_lexer": "ipython3",
   "version": "3.9.2"
  }
 },
 "nbformat": 4,
 "nbformat_minor": 5
}
