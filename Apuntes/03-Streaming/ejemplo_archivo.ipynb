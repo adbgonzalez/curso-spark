{
 "cells": [
  {
   "cell_type": "markdown",
   "id": "8024a2d4-d540-4e8a-8fd9-c00f3e4f7357",
   "metadata": {},
   "source": [
    "# Ejemplo archivos\n",
    "1. Creamos la SparkSession."
   ]
  },
  {
   "cell_type": "code",
   "execution_count": 1,
   "id": "facda3fa-731d-49b7-a68f-b37e43dd6a39",
   "metadata": {},
   "outputs": [
    {
     "name": "stderr",
     "output_type": "stream",
     "text": [
      "Setting default log level to \"WARN\".\n",
      "To adjust logging level use sc.setLogLevel(newLevel). For SparkR, use setLogLevel(newLevel).\n"
     ]
    }
   ],
   "source": [
    "from pyspark.sql import SparkSession\n",
    "from pyspark.sql.functions import explode\n",
    "from pyspark.sql.functions import split\n",
    "import string\n",
    "\n",
    "spark = SparkSession.builder\\\n",
    "  .master(\"spark://spark-master:7077\") \\\n",
    "  .appName(\"arquivo-example-1\")\\\n",
    "  .config(\"spark.sql.legacy.timeParserPolicy\", \"LEGACY\") \\\n",
    "  .config(\"spark.eventLog.enabled\", \"true\") \\\n",
    "  .config(\"spark.eventLog.dir\", \"hdfs:///spark/logs/history\") \\\n",
    "  .config(\"spark.history.fs.logDirectory\", \"hdfs:///spark/logs/history\") \\\n",
    "  .getOrCreate()\n"
   ]
  },
  {
   "cell_type": "markdown",
   "id": "03bb0387-afa8-4487-8e72-2b3a24f94f72",
   "metadata": {},
   "source": [
    "2. Obtenemos el esquema e indicando el origen de datos para el procesamiento en streaming, en este caso una carpeta con archivos *json*."
   ]
  },
  {
   "cell_type": "code",
   "execution_count": 2,
   "id": "e6cdfd0a-2edd-45e8-86a7-5eaceb7ed76f",
   "metadata": {},
   "outputs": [
    {
     "name": "stderr",
     "output_type": "stream",
     "text": [
      "[Stage 0:>                                                          (0 + 2) / 2]"
     ]
    },
    {
     "name": "stdout",
     "output_type": "stream",
     "text": [
      "root\n",
      " |-- DEST_COUNTRY_NAME: string (nullable = true)\n",
      " |-- ORIGIN_COUNTRY_NAME: string (nullable = true)\n",
      " |-- count: long (nullable = true)\n",
      "\n"
     ]
    },
    {
     "name": "stderr",
     "output_type": "stream",
     "text": [
      "                                                                                "
     ]
    }
   ],
   "source": [
    "path = \"/user/jovyan/data/flight-data/json\"\n",
    "static = spark.read.json(path)\n",
    "dataSchema = static.schema\n",
    "streaming = spark.readStream.schema(dataSchema).option(\"maxFilesPerTrigger\", 1)\\\n",
    "  .json(path)\n",
    "streaming.printSchema()"
   ]
  },
  {
   "cell_type": "markdown",
   "id": "86fb56dc-a4c7-4804-b7f7-7286cd88f336",
   "metadata": {},
   "source": [
    "3. Obtenemos el DataFrame de salida transformando los datos iniciales. En este caso agrupamos por *DEST_COUNTRY_NAME* y contamos."
   ]
  },
  {
   "cell_type": "code",
   "execution_count": 3,
   "id": "f47700da-b15d-41dd-ae1e-df7509b92833",
   "metadata": {},
   "outputs": [],
   "source": [
    "counts = streaming.groupBy(\"DEST_COUNTRY_NAME\").count()"
   ]
  },
  {
   "cell_type": "markdown",
   "id": "362a8594-8643-40d4-9af2-f504b01445f3",
   "metadata": {},
   "source": [
    "4. Iniciamos el procesamiento en streaming con salida a memoria."
   ]
  },
  {
   "cell_type": "code",
   "execution_count": 4,
   "id": "3dc2c437-554f-47fd-9859-f91a64c2e097",
   "metadata": {},
   "outputs": [
    {
     "name": "stderr",
     "output_type": "stream",
     "text": [
      "25/04/09 17:53:13 WARN ResolveWriteToStream: Temporary checkpoint location created which is deleted normally when the query didn't fail: /tmp/temporary-55ae2be2-5023-41c4-a993-19a59ddf863d. If it's required to delete it under any circumstances, please set spark.sql.streaming.forceDeleteTempCheckpointLocation to true. Important to know deleting temp checkpoint folder is best effort.\n",
      "25/04/09 17:53:13 WARN ResolveWriteToStream: spark.sql.adaptive.enabled is not supported in streaming DataFrames/Datasets and will be disabled.\n",
      "[Stage 2:==========>                                             (39 + 2) / 200]"
     ]
    }
   ],
   "source": [
    "query = counts.writeStream.queryName(\"counts\").format(\"memory\").outputMode(\"complete\").start()"
   ]
  },
  {
   "cell_type": "markdown",
   "id": "941aab47-3820-411c-975c-f887c2a76464",
   "metadata": {},
   "source": [
    "5. Mostramos los datos:"
   ]
  },
  {
   "cell_type": "code",
   "execution_count": 5,
   "id": "a94b54e0-ca04-4455-b2c8-cb56838bf7df",
   "metadata": {},
   "outputs": [
    {
     "name": "stdout",
     "output_type": "stream",
     "text": [
      "+-----------------+-----+\n",
      "|DEST_COUNTRY_NAME|count|\n",
      "+-----------------+-----+\n",
      "+-----------------+-----+\n",
      "\n"
     ]
    },
    {
     "name": "stderr",
     "output_type": "stream",
     "text": [
      "[Stage 2:=============================>                         (106 + 2) / 200]"
     ]
    },
    {
     "name": "stdout",
     "output_type": "stream",
     "text": [
      "+-----------------+-----+\n",
      "|DEST_COUNTRY_NAME|count|\n",
      "+-----------------+-----+\n",
      "+-----------------+-----+\n",
      "\n"
     ]
    },
    {
     "name": "stderr",
     "output_type": "stream",
     "text": [
      "[Stage 2:===================================================>   (189 + 1) / 200]"
     ]
    },
    {
     "name": "stdout",
     "output_type": "stream",
     "text": [
      "+-----------------+-----+\n",
      "|DEST_COUNTRY_NAME|count|\n",
      "+-----------------+-----+\n",
      "+-----------------+-----+\n",
      "\n"
     ]
    },
    {
     "name": "stderr",
     "output_type": "stream",
     "text": [
      "                                                                                "
     ]
    },
    {
     "name": "stdout",
     "output_type": "stream",
     "text": [
      "+--------------------+-----+\n",
      "|   DEST_COUNTRY_NAME|count|\n",
      "+--------------------+-----+\n",
      "|            Paraguay|    1|\n",
      "|            Anguilla|    1|\n",
      "|              Russia|    1|\n",
      "|             Senegal|    1|\n",
      "|              Sweden|    1|\n",
      "|            Kiribati|    1|\n",
      "|              Guyana|    1|\n",
      "|         Philippines|    1|\n",
      "|            Malaysia|    1|\n",
      "|           Singapore|    1|\n",
      "|                Fiji|    1|\n",
      "|              Turkey|    1|\n",
      "|             Germany|    1|\n",
      "|         Afghanistan|    1|\n",
      "|              Jordan|    1|\n",
      "|               Palau|    1|\n",
      "|              France|    1|\n",
      "|Turks and Caicos ...|    1|\n",
      "|              Greece|    1|\n",
      "|            Dominica|    1|\n",
      "+--------------------+-----+\n",
      "only showing top 20 rows\n",
      "\n"
     ]
    },
    {
     "name": "stderr",
     "output_type": "stream",
     "text": [
      "                                                                                "
     ]
    },
    {
     "name": "stdout",
     "output_type": "stream",
     "text": [
      "+--------------------+-----+\n",
      "|   DEST_COUNTRY_NAME|count|\n",
      "+--------------------+-----+\n",
      "|            Paraguay|    2|\n",
      "|            Anguilla|    2|\n",
      "|              Russia|    2|\n",
      "|               Yemen|    1|\n",
      "|             Senegal|    2|\n",
      "|              Sweden|    2|\n",
      "|            Kiribati|    2|\n",
      "|              Guyana|    2|\n",
      "|         Philippines|    2|\n",
      "|            Malaysia|    2|\n",
      "|           Singapore|    2|\n",
      "|                Fiji|    2|\n",
      "|              Turkey|    2|\n",
      "|             Germany|    2|\n",
      "|         Afghanistan|    2|\n",
      "|              Jordan|    2|\n",
      "|               Palau|    2|\n",
      "|              France|    2|\n",
      "|Turks and Caicos ...|    2|\n",
      "|              Greece|    2|\n",
      "+--------------------+-----+\n",
      "only showing top 20 rows\n",
      "\n"
     ]
    },
    {
     "name": "stderr",
     "output_type": "stream",
     "text": [
      "                                                                                "
     ]
    }
   ],
   "source": [
    "from time import sleep\n",
    "for x in range(5):\n",
    "    spark.sql(\"SELECT * FROM counts\").show()\n",
    "    sleep(1)"
   ]
  },
  {
   "cell_type": "code",
   "execution_count": null,
   "id": "ed346219-a94b-4622-95e8-a7ffe176b0ed",
   "metadata": {},
   "outputs": [],
   "source": []
  }
 ],
 "metadata": {
  "kernelspec": {
   "display_name": "Python 3 (ipykernel)",
   "language": "python",
   "name": "python3"
  },
  "language_info": {
   "codemirror_mode": {
    "name": "ipython",
    "version": 3
   },
   "file_extension": ".py",
   "mimetype": "text/x-python",
   "name": "python",
   "nbconvert_exporter": "python",
   "pygments_lexer": "ipython3",
   "version": "3.9.2"
  }
 },
 "nbformat": 4,
 "nbformat_minor": 5
}
