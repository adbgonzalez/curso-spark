{
 "cells": [
  {
   "cell_type": "markdown",
   "id": "102d15c7-9733-4976-9640-e7211b19b305",
   "metadata": {},
   "source": [
    "# Ejemplo Ventanas con Watermark\n",
    "Como se ha visto en el notebook anterior para hacer operacioens de agregación sobre ventanas es necesario emplear *watermarking*. En este ejemplo vamos a repetir el caso anterior pero usando una marca de agua, en este caso de 30 minutos."
   ]
  },
  {
   "cell_type": "code",
   "execution_count": 1,
   "id": "f2d1e3c9-71f3-4749-a741-10f290ec0ac7",
   "metadata": {},
   "outputs": [
    {
     "name": "stderr",
     "output_type": "stream",
     "text": [
      "Setting default log level to \"WARN\".\n",
      "To adjust logging level use sc.setLogLevel(newLevel). For SparkR, use setLogLevel(newLevel).\n"
     ]
    }
   ],
   "source": [
    "from pyspark.sql import SparkSession\n",
    "from pyspark.sql.functions import explode\n",
    "from pyspark.sql.functions import split\n",
    "import string\n",
    "\n",
    "spark = SparkSession.builder \\\n",
    "    .master(\"spark://spark-master:7077\") \\\n",
    "    .appName(\"ejemplo_ventanas_3\") \\\n",
    "    .config(\"spark.sql.legacy.timeParserPolicy\", \"LEGACY\") \\\n",
    "    .config(\"spark.eventLog.enabled\", \"true\") \\\n",
    "    .config(\"spark.eventLog.dir\", \"hdfs:///spark/logs/history\") \\\n",
    "    .config(\"spark.history.fs.logDirectory\", \"hdfs:///spark/logs/history\") \\\n",
    "    .getOrCreate()"
   ]
  },
  {
   "cell_type": "markdown",
   "id": "0894c3bc-6c54-423a-a9a1-160fbad9e6f0",
   "metadata": {},
   "source": [
    "El esquema es el mismo del caso anterior:"
   ]
  },
  {
   "cell_type": "code",
   "execution_count": 2,
   "id": "afdd052e-d74b-4fca-9d56-1213cb891f0f",
   "metadata": {},
   "outputs": [],
   "source": [
    "# Definimos el esquema de los datos de entrada\n",
    "from pyspark.sql.types import StructType, StructField, StringType, IntegerType\n",
    "bolsaSchema = StructType([\n",
    "    StructField(\"CreatedTime\", StringType()),\n",
    "    StructField(\"Type\", StringType()),\n",
    "    StructField(\"Amount\", IntegerType()),\n",
    "    StructField(\"BrokerCode\", StringType())\n",
    "])"
   ]
  },
  {
   "cell_type": "markdown",
   "id": "a3eca599-6918-4a4b-907f-3ec87e02c0d2",
   "metadata": {},
   "source": [
    "El flujo de entrada es el mismo:"
   ]
  },
  {
   "cell_type": "code",
   "execution_count": 3,
   "id": "be729d90-05f4-40e3-97d8-55c0a2a64776",
   "metadata": {},
   "outputs": [
    {
     "name": "stdout",
     "output_type": "stream",
     "text": [
      "root\n",
      " |-- CreatedTime: string (nullable = true)\n",
      " |-- Type: string (nullable = true)\n",
      " |-- Amount: integer (nullable = true)\n",
      " |-- BrokerCode: string (nullable = true)\n",
      "\n"
     ]
    }
   ],
   "source": [
    "# Configuramos la lectura de fichero en formato JSON\n",
    "rawDF = spark.readStream \\\n",
    "        .format(\"json\") \\\n",
    "        .option(\"path\", \"entrada\") \\\n",
    "        .option(\"maxFilesPerTrigger\", 1) \\\n",
    "        .schema(bolsaSchema) \\\n",
    "        .load()\n",
    "\n",
    "rawDF.printSchema()"
   ]
  },
  {
   "cell_type": "markdown",
   "id": "b26d7a59-ee31-4097-96ee-cbf418123ccf",
   "metadata": {},
   "source": [
    "El DF refinado es tamibén el mismo que en el caso anterior:"
   ]
  },
  {
   "cell_type": "code",
   "execution_count": 4,
   "id": "a0e37d4c-3cd1-4caf-9314-34e8bd7c03e6",
   "metadata": {},
   "outputs": [
    {
     "name": "stdout",
     "output_type": "stream",
     "text": [
      "root\n",
      " |-- CreatedTime: timestamp (nullable = true)\n",
      " |-- Type: string (nullable = true)\n",
      " |-- Amount: integer (nullable = true)\n",
      " |-- BrokerCode: string (nullable = true)\n",
      " |-- Compras: integer (nullable = true)\n",
      " |-- Ventas: integer (nullable = true)\n",
      "\n"
     ]
    }
   ],
   "source": [
    "from pyspark.sql.functions import to_timestamp, col, expr\n",
    "accionesDF = rawDF.withColumn(\"CreatedTime\", to_timestamp(col(\"CreatedTime\"), \"yyyy-MM-dd HH:mm:ss\")) \\\n",
    "    .withColumn(\"Compras\", expr(\"case when Type == 'BUY' then Amount else 0 end\")) \\\n",
    "    .withColumn(\"Ventas\", expr(\"case when Type == 'SELL' then Amount else 0 end\"))\n",
    "\n",
    "accionesDF.printSchema()"
   ]
  },
  {
   "cell_type": "markdown",
   "id": "9d3401f6-d768-4c43-848a-2b2e966605c5",
   "metadata": {},
   "source": [
    "Añadimos la marca de agua mediante la función **withWatermark** indicando la columna a la que se aplica y el umbral de tiempo. Ahora emplearemos un sink de tipo archivo empleando el modo *append*. Eso sí, hay que tener en cuenta que **los datos se escribirán una vez transcurrido el umbral establecido en la marca de agua**."
   ]
  },
  {
   "cell_type": "code",
   "execution_count": 5,
   "id": "ed9ed113-0ecb-4224-aa97-efcce37e64aa",
   "metadata": {},
   "outputs": [
    {
     "name": "stderr",
     "output_type": "stream",
     "text": [
      "25/04/29 07:39:41 WARN ResolveWriteToStream: spark.sql.adaptive.enabled is not supported in streaming DataFrames/Datasets and will be disabled.\n"
     ]
    }
   ],
   "source": [
    "from pyspark.sql.functions import window, sum\n",
    "windowDF = accionesDF \\\n",
    "    .withWatermark(\"CreatedTime\", \"30 minutes\") \\\n",
    "    .groupBy(  \n",
    "         window(col(\"CreatedTime\"), \"15 minutes\")) \\\n",
    "    .agg(sum(\"Compras\").alias(\"Compras\"),\n",
    "         sum(\"Ventas\").alias(\"Ventas\"))\n",
    "\n",
    "salidaDF = windowDF.select(\"window.start\", \"window.end\", \"Compras\", \"Ventas\")\n",
    "\n",
    "bolsaWriterQuery = salidaDF.writeStream \\\n",
    "    .format(\"parquet\") \\\n",
    "    .queryName(\"BolsaWQuery\") \\\n",
    "    .outputMode(\"append\") \\\n",
    "    .option(\"path\", \"salida\") \\\n",
    "    .option(\"checkpointLocation\", \"chk-point-dir-caso7\") \\\n",
    "    .trigger(processingTime=\"1 minute\") \\\n",
    "    .start()"
   ]
  },
  {
   "cell_type": "code",
   "execution_count": 6,
   "id": "352231c6-5b79-4bbe-a695-ef3baf33ace6",
   "metadata": {},
   "outputs": [
    {
     "name": "stderr",
     "output_type": "stream",
     "text": [
      "                                                                                "
     ]
    },
    {
     "name": "stdout",
     "output_type": "stream",
     "text": [
      "+-------------------+-------------------+-------+------+\n",
      "|              start|                end|Compras|Ventas|\n",
      "+-------------------+-------------------+-------+------+\n",
      "|2022-05-09 10:00:00|2022-05-09 10:15:00|    800|     0|\n",
      "|2022-05-09 10:15:00|2022-05-09 10:30:00|    800|   400|\n",
      "|2022-05-09 10:45:00|2022-05-09 11:00:00|      0|   700|\n",
      "|2022-05-09 10:30:00|2022-05-09 10:45:00|    900|     0|\n",
      "+-------------------+-------------------+-------+------+\n",
      "\n"
     ]
    }
   ],
   "source": [
    "rawBolsaDF = spark.read \\\n",
    "    .format(\"parquet\") \\\n",
    "    .option(\"path\", \"salida\") \\\n",
    "    .load()\n",
    "rawBolsaDF.show()"
   ]
  },
  {
   "cell_type": "code",
   "execution_count": 7,
   "id": "48d9a6ff-edb0-427a-8c39-8ca077c66072",
   "metadata": {},
   "outputs": [
    {
     "name": "stderr",
     "output_type": "stream",
     "text": [
      "25/04/29 07:40:06 WARN WindowExec: No Partition Defined for Window operation! Moving all data to a single partition, this can cause serious performance degradation.\n",
      "25/04/29 07:40:06 WARN WindowExec: No Partition Defined for Window operation! Moving all data to a single partition, this can cause serious performance degradation.\n",
      "25/04/29 07:40:06 WARN WindowExec: No Partition Defined for Window operation! Moving all data to a single partition, this can cause serious performance degradation.\n",
      "25/04/29 07:40:09 WARN WindowExec: No Partition Defined for Window operation! Moving all data to a single partition, this can cause serious performance degradation.\n",
      "25/04/29 07:40:09 WARN WindowExec: No Partition Defined for Window operation! Moving all data to a single partition, this can cause serious performance degradation.\n",
      "[Stage 5:>                                                          (0 + 1) / 1]"
     ]
    },
    {
     "name": "stdout",
     "output_type": "stream",
     "text": [
      "+-------------------+-------------------+-------+------+----+\n",
      "|start              |end                |Compras|Ventas|Neto|\n",
      "+-------------------+-------------------+-------+------+----+\n",
      "|2022-05-09 10:00:00|2022-05-09 10:15:00|800    |0     |800 |\n",
      "|2022-05-09 10:15:00|2022-05-09 10:30:00|1600   |400   |1200|\n",
      "|2022-05-09 10:30:00|2022-05-09 10:45:00|2500   |400   |2100|\n",
      "|2022-05-09 10:45:00|2022-05-09 11:00:00|2500   |1100  |1400|\n",
      "+-------------------+-------------------+-------+------+----+\n",
      "\n"
     ]
    },
    {
     "name": "stderr",
     "output_type": "stream",
     "text": [
      "                                                                                "
     ]
    }
   ],
   "source": [
    "from pyspark.sql import Window\n",
    "ventanaTotal = Window.orderBy(\"end\") \\\n",
    "    .rowsBetween(Window.unboundedPreceding, Window.currentRow)\n",
    "\n",
    "salidaDF = rawBolsaDF \\\n",
    "    .withColumn(\"Compras\", sum(\"Compras\").over(ventanaTotal)) \\\n",
    "    .withColumn(\"Ventas\", sum(\"Ventas\").over(ventanaTotal)) \\\n",
    "    .withColumn(\"Neto\", expr(\"Compras - Ventas\"))\n",
    "\n",
    "salidaDF.show(truncate=False)"
   ]
  },
  {
   "cell_type": "code",
   "execution_count": null,
   "id": "e3cb1af0-dbb9-45c6-943c-89cf5037b54d",
   "metadata": {},
   "outputs": [],
   "source": []
  }
 ],
 "metadata": {
  "kernelspec": {
   "display_name": "Python 3 (ipykernel)",
   "language": "python",
   "name": "python3"
  },
  "language_info": {
   "codemirror_mode": {
    "name": "ipython",
    "version": 3
   },
   "file_extension": ".py",
   "mimetype": "text/x-python",
   "name": "python",
   "nbconvert_exporter": "python",
   "pygments_lexer": "ipython3",
   "version": "3.9.2"
  }
 },
 "nbformat": 4,
 "nbformat_minor": 5
}
