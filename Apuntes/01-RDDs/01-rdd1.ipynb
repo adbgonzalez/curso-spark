{
 "cells": [
  {
   "cell_type": "markdown",
   "id": "1452f549-7f7b-4f55-bdf3-6cc0a946f6db",
   "metadata": {},
   "source": [
    "# Uso de RDD's en Spark"
   ]
  },
  {
   "cell_type": "markdown",
   "id": "eb853ffb-7e32-4b9f-91b3-140a4e37b301",
   "metadata": {},
   "source": [
    "## Creación de un RDD \n",
    "Lo primero es obtener el objeto SparkContext. Recomendación personal: Hacerlo a partir del objeto SparkSession"
   ]
  },
  {
   "cell_type": "code",
   "execution_count": null,
   "id": "47c7356c-d909-415a-b237-31554630371a",
   "metadata": {},
   "outputs": [],
   "source": [
    "# IMPORTANTE:\n",
    "# 1. Si se ejecuta en Cesga ignorar esta celda.\n",
    "\n",
    "from pyspark.sql import SparkSession\n",
    "# 2. Si se emplea el clúster adbgonzalez/spark-cluster:\n",
    "spark = SparkSession.builder \\\n",
    "    .master(\"spark://spark-master:7077\") \\\n",
    "    .appName(\"01-rdd1\") \\\n",
    "    .config(\"spark.eventLog.enabled\", \"true\") \\\n",
    "    .config(\"spark.eventLog.dir\", \"hdfs:///spark/logs/history\") \\\n",
    "    .config(\"spark.history.fs.logDirectory\", \"hdfs:///spark/logs/history\") \\\n",
    "    .getOrCreate()\n",
    "\n",
    "spark.version  # Verifica la versión de Spark\n",
    "# 3. Si se ejecuta emplando all-spark-notebook comentar  lo anterior y descomentar la siguiente línea:\n",
    "#spark = SparkSession.builder.getOrCreate()\n",
    "\n",
    "sc = spark.sparkContext"
   ]
  },
  {
   "cell_type": "markdown",
   "id": "abc90f67-aeb0-4d5f-9544-fe1b20a04abf",
   "metadata": {},
   "source": [
    "### A partir de una colección local\n",
    "Para crear un RDD a partir de una colección se usa el método parallelize. A continuación se muestran dos ejemplos: Uno para enteros y otro para strings"
   ]
  },
  {
   "cell_type": "code",
   "execution_count": null,
   "id": "c7f52f5a-68e9-4532-a5e2-d0b563d9ccd9",
   "metadata": {},
   "outputs": [],
   "source": [
    "rdd_int = sc.parallelize(range(10))\n",
    "rdd_st = sc.parallelize (\"Big Data aplicado. Curso de especialización de Inteligencia Artificial y Big Data\".split())"
   ]
  },
  {
   "cell_type": "markdown",
   "id": "d1437eba-7e56-4845-9153-ecb89524fb67",
   "metadata": {},
   "source": [
    "También hay algún parámetro opcional, como el número de particiones."
   ]
  },
  {
   "cell_type": "code",
   "execution_count": null,
   "id": "9319d82e-8b9b-41c9-8e75-ea5b123edd34",
   "metadata": {},
   "outputs": [],
   "source": [
    "rdd_int_par = sc.parallelize(range(20),4)\n",
    "\n",
    "\n",
    "rdd_st_par = sc.parallelize (\"Big Data aplicado. Curso de especialización de Inteligencia Artificial y Big Data\".split(),5)\n"
   ]
  },
  {
   "cell_type": "markdown",
   "id": "51873a2d-893b-4852-806f-c8648ff2a497",
   "metadata": {},
   "source": [
    "### A partir de fuentes de datos\n",
    "Para ello tenemos dos opciones:\n",
    "- textfile: Para crear un RDD a partir de un archivo de texto\n",
    "- wholeTextFiles: Para crear un RDD a partir de varios archivos de texto"
   ]
  },
  {
   "cell_type": "code",
   "execution_count": null,
   "id": "7dc07552-72bd-4926-ab49-d73ff1714414",
   "metadata": {},
   "outputs": [],
   "source": [
    "rdd_file = sc.textFile(\"hdfs:/user/jovyan/data/flight-data/csv/2015-summary.csv\")\n",
    "#rdd_whole_files = sc.wholeTextFiles(\"/home/jovyan/work/data/flight-data/csv\")"
   ]
  },
  {
   "cell_type": "markdown",
   "id": "6fe6ea00-462b-462c-9d85-5f1189b08c4b",
   "metadata": {},
   "source": [
    "### A partir de DataFrames existentes\n",
    "Una forma muy sencilla de crear RDD's es a partir de un DataFrame o DataSet existente (se verán en próximas sesiones)."
   ]
  },
  {
   "cell_type": "code",
   "execution_count": null,
   "id": "c57f4b27-0707-4b4f-b45b-18c5ed00629e",
   "metadata": {},
   "outputs": [],
   "source": [
    "spark.range(10).rdd.collect()"
   ]
  },
  {
   "cell_type": "markdown",
   "id": "6ab2af1a-819f-499e-8a1f-304f167c7424",
   "metadata": {},
   "source": [
    "Así obtenemos un RDD formado por objetos de tipo *Row*. Para poder manejar estos datos, es necesario convertir estos objetos tipo *Row* al tipo correcto o extraer los valores, como se muestra en el sigiuente ejemplo:"
   ]
  },
  {
   "cell_type": "code",
   "execution_count": null,
   "id": "0a61b8ae-7f15-457c-b109-d79282b6bd51",
   "metadata": {},
   "outputs": [],
   "source": [
    "spark.range(10).toDF(\"id\").rdd.map(lambda row: row[0]).collect()"
   ]
  },
  {
   "cell_type": "markdown",
   "id": "e657e217-f480-4bc0-98af-0aaec91de766",
   "metadata": {},
   "source": [
    "## Acciones\n",
    "A continuación vamos a ver algunas de las acciones más frecuentes:\n",
    "### collect\n",
    "Permite mostrar todos los elementos de un RDD\n"
   ]
  },
  {
   "cell_type": "code",
   "execution_count": null,
   "id": "aacbacd3-af7b-4f94-85c6-f29ff2806917",
   "metadata": {},
   "outputs": [],
   "source": [
    "print (rdd_int.collect())\n",
    "print (rdd_st.collect())\n",
    "print (rdd_file.collect())\n",
    "#print (rdd_whole_files.collect())"
   ]
  },
  {
   "cell_type": "markdown",
   "id": "e9960c1e-521c-441f-842a-52d94bc5d83c",
   "metadata": {},
   "source": [
    "### take\n",
    "Permite obtener un número determinado de elmentos del RDD"
   ]
  },
  {
   "cell_type": "code",
   "execution_count": null,
   "id": "35d8e043-489e-44e9-89b8-ef317b8a8bfc",
   "metadata": {},
   "outputs": [],
   "source": [
    "print (rdd_int.take(3))\n",
    "print (rdd_st.take(3))\n",
    "#print (rdd_file.take(2))\n",
    "#print (rdd_whole_files.take(2))"
   ]
  },
  {
   "cell_type": "markdown",
   "id": "bc451b6e-bbc1-4711-9605-31e208259445",
   "metadata": {},
   "source": [
    "### count\n",
    "Devuelve el número de elementos de un RDD"
   ]
  },
  {
   "cell_type": "code",
   "execution_count": null,
   "id": "9b91a6ea-3c23-4d6d-b56c-de2df2b85ac7",
   "metadata": {},
   "outputs": [],
   "source": [
    "print (rdd_int.count())\n",
    "print (rdd_st.count())\n",
    "print (rdd_file.count())\n",
    "print (rdd_whole_files.count())"
   ]
  },
  {
   "cell_type": "code",
   "execution_count": null,
   "id": "b88e9f12-54a1-42dd-91a3-2cb3ce943265",
   "metadata": {},
   "outputs": [],
   "source": [
    "rdd_st.count()"
   ]
  },
  {
   "attachments": {},
   "cell_type": "markdown",
   "id": "f05a9273-0312-4b04-934f-82ab4848a71e",
   "metadata": {},
   "source": [
    "### reduce\n",
    "Permite, mediante una función especificada por el programador reducir el RDD a un único valor. Esta función recibe dos parámetros y devuelve un único resultado. Se pueden emplear también funciones *lambda*.\n"
   ]
  },
  {
   "cell_type": "code",
   "execution_count": null,
   "id": "b3bc55e2-f783-4615-b609-46932e827918",
   "metadata": {},
   "outputs": [],
   "source": [
    "# Sumamos todos los elementos\n",
    "print(rdd_int.reduce (lambda x,y: x+y))\n",
    "\n",
    "def word_length_reducer(word1,word2):\n",
    "    if (len(word1) > len (word2)):\n",
    "        return word1\n",
    "    else:\n",
    "        return word2\n",
    "\n",
    "\n",
    "print (rdd_st.reduce (word_length_reducer))\n",
    "print ( rdd_file.reduce (word_length_reducer)) # Cambiar?"
   ]
  },
  {
   "cell_type": "markdown",
   "id": "9ea4b816-f313-4982-9aaa-a618f1185218",
   "metadata": {},
   "source": [
    "### first\n",
    "Devuelve el primer elemento de un RDD"
   ]
  },
  {
   "cell_type": "code",
   "execution_count": null,
   "id": "2c4d0126-cd65-48b2-ab40-129e703e5112",
   "metadata": {},
   "outputs": [],
   "source": [
    "rdd_int.first()"
   ]
  },
  {
   "cell_type": "code",
   "execution_count": null,
   "id": "cfecb66f-e1dc-47ed-ae3c-d3eaf63a5e61",
   "metadata": {},
   "outputs": [],
   "source": [
    "rdd_st.first()"
   ]
  },
  {
   "cell_type": "markdown",
   "id": "144738f8-6fad-4f25-8fbd-3ad7db58d361",
   "metadata": {},
   "source": [
    "### max/min\n",
    "Devuelve el valor máximo/mínimo de un RDD\n",
    "\n"
   ]
  },
  {
   "cell_type": "code",
   "execution_count": null,
   "id": "22a93988-4941-46a2-b57f-3b9f848eb1ab",
   "metadata": {},
   "outputs": [],
   "source": [
    "rdd_int.min()"
   ]
  },
  {
   "cell_type": "code",
   "execution_count": null,
   "id": "f7702912-26b8-4bf9-a4ab-09366318cefd",
   "metadata": {},
   "outputs": [],
   "source": [
    "rdd_st.max()"
   ]
  },
  {
   "attachments": {},
   "cell_type": "markdown",
   "id": "cb4294e6-68f6-40aa-8cc3-23cbc168983e",
   "metadata": {},
   "source": [
    "## Transformaciones\n",
    "### map\n",
    "Permite aplicar una función especificada por el programador a cada uno de los elementos del RDD devolviendo un RDD del mismo tamaño que el original"
   ]
  },
  {
   "cell_type": "code",
   "execution_count": null,
   "id": "0ac0437a-0872-4d73-9e5b-5e75805e8639",
   "metadata": {},
   "outputs": [],
   "source": [
    "rdd_int.map (lambda x: 2*x).collect()"
   ]
  },
  {
   "cell_type": "code",
   "execution_count": null,
   "id": "b5b0ddd9-d9b1-4840-b350-0b9b768bda3f",
   "metadata": {},
   "outputs": [],
   "source": [
    "rdd_st.map (lambda x: list(x)).collect()"
   ]
  },
  {
   "cell_type": "markdown",
   "id": "b0f53640-c65a-47e5-a6cf-5e379426857f",
   "metadata": {},
   "source": [
    "### flatMap\n",
    "Permite realizar operaciones map que no sean 1:1. Por ejemplo, en el siguiente código aplicamos la misma función que en el caso anterior pero el resultado es muy distinto:\n"
   ]
  },
  {
   "cell_type": "code",
   "execution_count": null,
   "id": "5b67db13-2bbe-45d7-995c-d4a13a2634ed",
   "metadata": {},
   "outputs": [],
   "source": [
    "rdd_st.flatMap(lambda x: list(x)).collect()"
   ]
  },
  {
   "cell_type": "markdown",
   "id": "86060939-674b-4bf1-807d-6e72c7ea8e29",
   "metadata": {},
   "source": [
    "### distinct\n",
    "Elimina los duplicados"
   ]
  },
  {
   "cell_type": "code",
   "execution_count": null,
   "id": "3125e293-1fbc-41fe-a6f8-693f807286cf",
   "metadata": {},
   "outputs": [],
   "source": [
    "rdd_st.distinct().collect()"
   ]
  },
  {
   "attachments": {},
   "cell_type": "markdown",
   "id": "a6013f71-0876-43bd-8c95-6a35979ac584",
   "metadata": {},
   "source": [
    "### filter\n",
    "Permite seleccionar los elementos del RDD que cumplen determinada condición\n"
   ]
  },
  {
   "cell_type": "code",
   "execution_count": null,
   "id": "2a75745d-6218-48e0-91d2-519ca9f8ba20",
   "metadata": {},
   "outputs": [],
   "source": [
    "rdd_int.filter(lambda x: x % 2 == 0).collect()"
   ]
  },
  {
   "cell_type": "code",
   "execution_count": null,
   "id": "e30ea757-ba87-4dd7-9391-1b20318715a5",
   "metadata": {},
   "outputs": [],
   "source": [
    "rdd_st.filter(lambda x: len(x) >= 5).collect()"
   ]
  },
  {
   "attachments": {},
   "cell_type": "markdown",
   "id": "424814d0-b3c5-4057-93ec-b59d250170d7",
   "metadata": {},
   "source": [
    "### sortBy\n",
    "Permite reordenar el RDD en función de un criterio que puede ser especificado mediante una función lambda. Si queremos hacer orden inverso tenemos que poner el valor en negativo."
   ]
  },
  {
   "cell_type": "code",
   "execution_count": null,
   "id": "69a0a9a2-57dd-4fda-9b8f-1468d9fb569f",
   "metadata": {},
   "outputs": [],
   "source": [
    "# Orden ascendente\n",
    "rdd_st.sortBy(lambda x: len(x)).collect()\n",
    "\n",
    "# Orden descendente\n",
    "# rdd_st.sortBy(lambda x: len(x)*-1).collect()\n"
   ]
  },
  {
   "attachments": {},
   "cell_type": "markdown",
   "id": "7d666b92-f6f4-4478-b33d-8a790a2395ea",
   "metadata": {},
   "source": [
    "### randomsplit\n",
    "Permite dividir un RDD convirtiéndolo en un array de RDD’s en función de un array de pesos especificado por el programador"
   ]
  },
  {
   "cell_type": "code",
   "execution_count": null,
   "id": "d29d4d31-9b8f-4165-ab80-22d19278e75b",
   "metadata": {},
   "outputs": [],
   "source": [
    "for rdd in rdd_int.randomSplit([0.4, 0.6]):\n",
    "    print(rdd.collect())\n",
    "\n",
    "for rdd in rdd_st.randomSplit([0.5,0.5]):\n",
    "    print(rdd.collect())\n"
   ]
  },
  {
   "cell_type": "markdown",
   "id": "a26842be-99d8-40c0-9b61-e162c17e6498",
   "metadata": {},
   "source": [
    "## Otras operaciones\n",
    "### foreachPartition\n",
    "Permite especificar que función aplicar a cada partición"
   ]
  },
  {
   "cell_type": "code",
   "execution_count": null,
   "id": "dfdb906b-348a-413b-aa57-8e675327130f",
   "metadata": {},
   "outputs": [],
   "source": [
    "def f (iterator):\n",
    "    for x in iterator:\n",
    "        print(type(x))\n",
    "        print (x)\n",
    "\n",
    "rdd_int_par.pipe(\"wc -l\").collect()\n",
    "print(rdd_int_par.foreachPartition(f))\n"
   ]
  },
  {
   "cell_type": "code",
   "execution_count": null,
   "id": "f7fc9f76-0896-4930-abdd-b3e92f12bcaa",
   "metadata": {},
   "outputs": [],
   "source": [
    "rdd = sc.parallelize([1, 2, 3, 4, 5])\n",
    "partitions = rdd.glom().collect()  # glom() devuelve una lista de particiones\n",
    "for i, partition in enumerate(partitions):\n",
    "    print(f\"Partition {i}: {partition}\")\n"
   ]
  },
  {
   "cell_type": "markdown",
   "id": "a23ca30e-4519-4c7b-81ff-bc2cb61b20d5",
   "metadata": {},
   "source": [
    "### glom\n",
    "La función *glom* convierte cada partición del DataFrame en Arrays. Es una función que puede ser muy útil, pero si los arrays son muy grandes podría causar errores."
   ]
  },
  {
   "cell_type": "code",
   "execution_count": null,
   "id": "df185e5f-5826-40aa-ac2a-3120d63d4fde",
   "metadata": {},
   "outputs": [],
   "source": [
    "rdd_st_par.glom().collect()"
   ]
  },
  {
   "cell_type": "markdown",
   "id": "dc4c7004-068f-4858-9090-daa11e138aea",
   "metadata": {},
   "source": [
    "### Almacenar RDD's en archivos\n",
    "Es posible almacenar los RDD's en archivos de texto. Dos métodos:\n",
    "- **saveAsTextFile**: Almacena el RDD en archivos de texto. Hay que especificar la ruta y (opcionalmente) un códec de compresión:"
   ]
  },
  {
   "cell_type": "code",
   "execution_count": null,
   "id": "44a633eb-3f7a-4140-aedf-c8868f7f2ae8",
   "metadata": {},
   "outputs": [],
   "source": [
    "rdd_st.saveAsTextFile(\"/home/jovyan/texto.txt\")"
   ]
  },
  {
   "cell_type": "markdown",
   "id": "e1fc34f4-56d4-417f-9abb-037fa804cf39",
   "metadata": {},
   "source": [
    "- **saveAsPickleFile**: En un entorno *HDFS* una *secuenceFile* es un archivo de texto formado por pares clave-valor binarios. Este método permite escribir un RDD como un *sequenceFile*:"
   ]
  },
  {
   "cell_type": "code",
   "execution_count": null,
   "id": "1da0cc4a-9c77-4fff-a447-001677ef2cde",
   "metadata": {},
   "outputs": [],
   "source": [
    "rdd_st.saveAsPickleFile(\"/home/jovyan/secuencia\")"
   ]
  },
  {
   "cell_type": "markdown",
   "id": "7707df96-415e-4c3c-ab37-7eb6b7fb0bd6",
   "metadata": {},
   "source": [
    "### Checkpointing\n",
    "Permite almacenar estados intermedios para no tener que repetir la secuencia de operaciones desde el principio."
   ]
  },
  {
   "cell_type": "code",
   "execution_count": null,
   "id": "58e5f23d-91c6-45ca-9027-5c9a75ba3b8a",
   "metadata": {},
   "outputs": [],
   "source": [
    "sc.setCheckpointDir(\"/home/jovyan/checkpoints\")\n",
    "rdd_st.checkpoint()"
   ]
  },
  {
   "cell_type": "markdown",
   "id": "2953561e-362f-435f-882e-f80e17d6acb1",
   "metadata": {},
   "source": [
    "### MapPartitions\n",
    "El método **pipe** nos permite enviar, de forma similar a las tuberías de un shell, RDD's a la entrada de un comando del SO. A continuación se muestra un ejemplo sencillo con el comando **wc**:"
   ]
  },
  {
   "cell_type": "code",
   "execution_count": null,
   "id": "3d6b1d51-09dd-4286-86ed-ef3fbe89a6b6",
   "metadata": {
    "scrolled": true
   },
   "outputs": [],
   "source": [
    "rdd_st_par.pipe(\"wc -l\").collect()"
   ]
  },
  {
   "cell_type": "markdown",
   "id": "e90c2832-6abf-47ab-b6f0-81d9a238c12e",
   "metadata": {},
   "source": [
    "Observando el código anterior destaca el hecho de que Spark ejecuta operaciones a nivel de partición. La función *map* es realmente un alias para ejecutar la función *mapPartitions* a nivel de fila. Este hecho hace posible ejecutar la operación *map* a nivel de fila, empleando la función *mapPartitions* e iteradores."
   ]
  },
  {
   "cell_type": "code",
   "execution_count": null,
   "id": "62054b49-322a-4623-86eb-6c5925d14a55",
   "metadata": {},
   "outputs": [],
   "source": [
    "cosa = rdd_st_par.mapPartitions(lambda x: [list(x)])\n",
    "print(type(cosa))\n",
    "cosa.collect()\n"
   ]
  },
  {
   "cell_type": "code",
   "execution_count": null,
   "id": "63e633b0-e1ca-43ab-b113-50bac96ea094",
   "metadata": {},
   "outputs": [],
   "source": []
  }
 ],
 "metadata": {
  "kernelspec": {
   "display_name": "Python 3 (ipykernel)",
   "language": "python",
   "name": "python3"
  },
  "language_info": {
   "codemirror_mode": {
    "name": "ipython",
    "version": 3
   },
   "file_extension": ".py",
   "mimetype": "text/x-python",
   "name": "python",
   "nbconvert_exporter": "python",
   "pygments_lexer": "ipython3",
   "version": "3.9.2"
  }
 },
 "nbformat": 4,
 "nbformat_minor": 5
}
