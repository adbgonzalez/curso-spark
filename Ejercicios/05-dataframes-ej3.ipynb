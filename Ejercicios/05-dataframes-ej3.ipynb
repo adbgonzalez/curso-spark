{
 "cells": [
  {
   "cell_type": "code",
   "execution_count": null,
   "id": "0c3fcfaa-acfd-4e41-8c68-13eca1782172",
   "metadata": {},
   "outputs": [],
   "source": [
    "from pyspark.sql import SparkSession\n",
    "spark = SparkSession.builder \\\n",
    "    .master(\"spark://spark-master:7077\") \\\n",
    "    .appName(\"05-Dataframes-ej03\") \\\n",
    "    .config(\"spark.sql.legacy.timeParserPolicy\", \"LEGACY\") \\\n",
    "    .config(\"spark.eventLog.enabled\", \"true\") \\\n",
    "    .config(\"spark.eventLog.dir\", \"hdfs:///spark/logs/history\") \\\n",
    "    .config(\"spark.history.fs.logDirectory\", \"hdfs:///spark/logs/history\") \\\n",
    "    .getOrCreate()\n",
    "sc = spark.sparkContext"
   ]
  },
  {
   "cell_type": "markdown",
   "id": "04733e26-bd1c-45d4-83c5-d19664cb9ff7",
   "metadata": {},
   "source": [
    "1. A partir de los ficheros csv presentes en /user/jovyan/data/salesdata crea un dataframe y añádele una columna date a partir de la columna `Order Date` que tenga fecha pero no hora. El dataframe resultado se llamará df_con_fecha:"
   ]
  },
  {
   "cell_type": "code",
   "execution_count": null,
   "id": "8e73fc02-d0e6-43f9-b73a-87ceef879d51",
   "metadata": {},
   "outputs": [],
   "source": []
  },
  {
   "cell_type": "markdown",
   "id": "32478d7e-7ac0-45b3-87e0-7eaa342c6bf0",
   "metadata": {},
   "source": [
    "2. Crea una especificación de ventana (*windowSpec*) particionando por *Order ID* y *date*, ordenando descendentemente por *Quantity Ordered*. Se debe incluir en el marco todas las entradas anteriores a la actual."
   ]
  },
  {
   "cell_type": "code",
   "execution_count": null,
   "id": "d3994f76-dad0-4345-9b38-45a16c3e5ffd",
   "metadata": {},
   "outputs": [],
   "source": []
  },
  {
   "cell_type": "markdown",
   "id": "59b3b700-1036-4714-8890-5e4de45a6086",
   "metadata": {},
   "source": [
    "3. Crea una agregación que calcule la cantidad (*Quantity Ordered*) media para todos los tiempos."
   ]
  },
  {
   "cell_type": "code",
   "execution_count": null,
   "id": "ac276df1-6414-4c86-af76-31cc6ba59511",
   "metadata": {},
   "outputs": [],
   "source": []
  },
  {
   "cell_type": "markdown",
   "id": "823fa436-34d5-478e-81cb-21f048386c54",
   "metadata": {},
   "source": [
    "4. Crea dos *rankings*, uno denso y el otro no."
   ]
  },
  {
   "cell_type": "code",
   "execution_count": null,
   "id": "acd14147-7571-453b-8ef8-c189eb487306",
   "metadata": {},
   "outputs": [],
   "source": []
  },
  {
   "cell_type": "markdown",
   "id": "ab62e7ed-9fd4-4197-8f60-32ab86c32b6d",
   "metadata": {},
   "source": [
    "5. Muestra las filas donde *Order ID* no es NULL, ordenadas por *Order ID*. Se deben mostrar los campos *Order ID*, *Product* y *date* así como los dos *rankings* y la función de agregación."
   ]
  },
  {
   "cell_type": "code",
   "execution_count": null,
   "id": "c7b2719c-dc17-4550-bcbd-bcfffb017a47",
   "metadata": {},
   "outputs": [],
   "source": []
  },
  {
   "cell_type": "markdown",
   "id": "7d241264-3492-4711-8a2c-ad463c17ca1e",
   "metadata": {},
   "source": [
    "6. Importa el archivo *hdfs:///user/jovyan/data/bike-data/201508_station_data.csv* incluyendo cabeceras e infiriendo el esquema a un *dataframe* llamado *df_estaciones*. "
   ]
  },
  {
   "cell_type": "code",
   "execution_count": null,
   "id": "2acaab8a-c07e-4ecf-9e88-32aec26ff7e5",
   "metadata": {},
   "outputs": [],
   "source": []
  },
  {
   "cell_type": "markdown",
   "id": "e36b22ec-691a-4fad-a5e9-109e7d3480f6",
   "metadata": {},
   "source": [
    "7. Crea una agregación que sume la columna *dockcount* agregando por *landmark* y *station_id* empleando *GROUPING SETS*."
   ]
  },
  {
   "cell_type": "code",
   "execution_count": null,
   "id": "c690ba0d-4bed-4ec7-8317-2bf68f27a768",
   "metadata": {},
   "outputs": [],
   "source": []
  },
  {
   "cell_type": "markdown",
   "id": "2269c0a4-db64-415a-9eb9-ff3c8f4503fe",
   "metadata": {},
   "source": [
    "8. Crea una agregación que sume la columna *dockcount* agregando por *landmark* y *station_id* empleando *GROUPING SETS* que también muestre los totales."
   ]
  },
  {
   "cell_type": "code",
   "execution_count": null,
   "id": "41b88be0-4b8f-4aad-8541-c92c26b67a5f",
   "metadata": {},
   "outputs": [],
   "source": []
  },
  {
   "cell_type": "markdown",
   "id": "442f9f9c-bac5-4cbb-b4a3-5f297a0188c6",
   "metadata": {},
   "source": [
    "9. Haz un rollup de *df_estaciones* con los parámetros *landmark* y *station_id*. Agrega la suma de *dockcount* y selecciona esas tres columnas, almacenando el resultado como *df_enroscado*. Muestra la siguiente información:\n",
    "  -  a. Todas las filas.\n",
    "  -  b. Todas las filas en las que *landmark* es NULL.\n",
    "  -  c. Todas las filas en las que *station_id* es NULL."
   ]
  },
  {
   "cell_type": "code",
   "execution_count": null,
   "id": "275c20ee-87ad-48af-95ac-ba312ce8033e",
   "metadata": {},
   "outputs": [],
   "source": []
  },
  {
   "cell_type": "markdown",
   "id": "622cbafc-dd9c-4cd1-a902-c2e130dc67e4",
   "metadata": {},
   "source": [
    " 10. Haz un cubo de *df_estaciones* con los parámetros *landmark* y *station_id*. Agrega la suma de *dockcount* y selecciona esas tres columnas, almacenando el resultado como *df_cubo*. Muestra la siguiente información:\n",
    "  -  a. Todas las filas.\n",
    "  -  b. Todas las filas en las que *landmark* es NULL."
   ]
  },
  {
   "cell_type": "code",
   "execution_count": null,
   "id": "95050709-ad65-46f7-8348-986f032597f6",
   "metadata": {},
   "outputs": [],
   "source": []
  },
  {
   "cell_type": "code",
   "execution_count": null,
   "id": "cdc81976-196a-43e0-8dd2-82009898d635",
   "metadata": {},
   "outputs": [],
   "source": []
  }
 ],
 "metadata": {
  "kernelspec": {
   "display_name": "Python 3 (ipykernel)",
   "language": "python",
   "name": "python3"
  },
  "language_info": {
   "codemirror_mode": {
    "name": "ipython",
    "version": 3
   },
   "file_extension": ".py",
   "mimetype": "text/x-python",
   "name": "python",
   "nbconvert_exporter": "python",
   "pygments_lexer": "ipython3",
   "version": "3.9.2"
  }
 },
 "nbformat": 4,
 "nbformat_minor": 5
}
