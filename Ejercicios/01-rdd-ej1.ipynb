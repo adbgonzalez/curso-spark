{
 "cells": [
  {
   "cell_type": "markdown",
   "id": "89475821-66a0-4c6c-b4ce-65885e7963b9",
   "metadata": {},
   "source": [
    "# Ejercicios basicos RDD\n",
    "1. Inicia las variables SparkSession y SparkContext (0,5)"
   ]
  },
  {
   "cell_type": "code",
   "execution_count": 4,
   "id": "95f588dd-1dce-4313-a263-a6b5b393125e",
   "metadata": {},
   "outputs": [],
   "source": [
    "from pyspark.sql import SparkSession\n",
    "\n",
    "spark = SparkSession.builder \\\n",
    "    .master(\"spark://spark-master:7077\") \\\n",
    "    .appName(\"01-rddej1\") \\\n",
    "    .config(\"spark.eventLog.enabled\", \"true\") \\\n",
    "    .config(\"spark.eventLog.dir\", \"hdfs:///spark/logs/history\") \\\n",
    "    .config(\"spark.history.fs.logDirectory\", \"hdfs:///spark/logs/history\") \\\n",
    "    .getOrCreate()\n",
    "\n",
    "spark.version  # Verifica la versión de Spark\n",
    "\n",
    "#spark = SparkSession.builder.getOrCreate()\n",
    "\n",
    "sc = spark.sparkContext"
   ]
  },
  {
   "cell_type": "markdown",
   "id": "3bdcc80c-0b1b-489c-b231-7ae38eaf4d27",
   "metadata": {},
   "source": [
    "2. Crea un rdd de enteros en un rango de 100 llamado rdd1 (0,5)"
   ]
  },
  {
   "cell_type": "code",
   "execution_count": 6,
   "id": "b1d1443f-7765-4f33-a66f-afc8dc2fa853",
   "metadata": {},
   "outputs": [
    {
     "name": "stderr",
     "output_type": "stream",
     "text": [
      "                                                                                "
     ]
    },
    {
     "data": {
      "text/plain": [
       "[0,\n",
       " 1,\n",
       " 2,\n",
       " 3,\n",
       " 4,\n",
       " 5,\n",
       " 6,\n",
       " 7,\n",
       " 8,\n",
       " 9,\n",
       " 10,\n",
       " 11,\n",
       " 12,\n",
       " 13,\n",
       " 14,\n",
       " 15,\n",
       " 16,\n",
       " 17,\n",
       " 18,\n",
       " 19,\n",
       " 20,\n",
       " 21,\n",
       " 22,\n",
       " 23,\n",
       " 24,\n",
       " 25,\n",
       " 26,\n",
       " 27,\n",
       " 28,\n",
       " 29,\n",
       " 30,\n",
       " 31,\n",
       " 32,\n",
       " 33,\n",
       " 34,\n",
       " 35,\n",
       " 36,\n",
       " 37,\n",
       " 38,\n",
       " 39,\n",
       " 40,\n",
       " 41,\n",
       " 42,\n",
       " 43,\n",
       " 44,\n",
       " 45,\n",
       " 46,\n",
       " 47,\n",
       " 48,\n",
       " 49,\n",
       " 50,\n",
       " 51,\n",
       " 52,\n",
       " 53,\n",
       " 54,\n",
       " 55,\n",
       " 56,\n",
       " 57,\n",
       " 58,\n",
       " 59,\n",
       " 60,\n",
       " 61,\n",
       " 62,\n",
       " 63,\n",
       " 64,\n",
       " 65,\n",
       " 66,\n",
       " 67,\n",
       " 68,\n",
       " 69,\n",
       " 70,\n",
       " 71,\n",
       " 72,\n",
       " 73,\n",
       " 74,\n",
       " 75,\n",
       " 76,\n",
       " 77,\n",
       " 78,\n",
       " 79,\n",
       " 80,\n",
       " 81,\n",
       " 82,\n",
       " 83,\n",
       " 84,\n",
       " 85,\n",
       " 86,\n",
       " 87,\n",
       " 88,\n",
       " 89,\n",
       " 90,\n",
       " 91,\n",
       " 92,\n",
       " 93,\n",
       " 94,\n",
       " 95,\n",
       " 96,\n",
       " 97,\n",
       " 98,\n",
       " 99]"
      ]
     },
     "execution_count": 6,
     "metadata": {},
     "output_type": "execute_result"
    }
   ],
   "source": [
    "rdd1 = sc.parallelize(range(100))\n",
    "rdd1.collect()"
   ]
  },
  {
   "cell_type": "markdown",
   "id": "739deac0-b155-4f9d-b977-94887240842d",
   "metadata": {},
   "source": [
    "3. Crea un rdd de strings a partir de la frase \"Inteligencia Articicial y Big Data: Big Data Aplicado\" con el nombre rdd2 (0,5)"
   ]
  },
  {
   "cell_type": "code",
   "execution_count": 7,
   "id": "05d4e60c-166d-4a85-ad8f-973a9cd28d88",
   "metadata": {},
   "outputs": [],
   "source": [
    "rdd2 = sc.parallelize(\"Inteligencia Articicial y Big Data: Big Data Aplicado\".split())\n",
    "#rdd2.collect()"
   ]
  },
  {
   "cell_type": "markdown",
   "id": "29721a2c-64dd-4c45-98d8-b2997fa0010e",
   "metadata": {},
   "source": [
    "4. Crea un rdd a partir del archivo data/el_quijote.txt con el nombre rdd3 (0,5)"
   ]
  },
  {
   "cell_type": "code",
   "execution_count": 8,
   "id": "424a575b-e78e-4c6c-a37d-baeb1f7aaaed",
   "metadata": {},
   "outputs": [
    {
     "name": "stderr",
     "output_type": "stream",
     "text": [
      "                                                                                "
     ]
    },
    {
     "data": {
      "text/plain": [
       "['DON QUIJOTE DE LA MANCHA',\n",
       " 'Miguel de Cervantes Saavedra',\n",
       " '',\n",
       " 'PRIMERA PARTE',\n",
       " 'CAPÍTULO 1: Que trata de la condición y ejercicio del famoso hidalgo D. Quijote de la Mancha',\n",
       " 'En un lugar de la Mancha, de cuyo nombre no quiero acordarme, no ha mucho tiempo que vivía un hidalgo de los de lanza en astillero, adarga antigua, rocín flaco y galgo corredor. Una olla de algo más vaca que carnero, salpicón las más noches, duelos y quebrantos los sábados, lentejas los viernes, algún palomino de añadidura los domingos, consumían las tres partes de su hacienda. El resto della concluían sayo de velarte, calzas de velludo para las fiestas con sus pantuflos de lo mismo, los días de entre semana se honraba con su vellori de lo más fino. Tenía en su casa una ama que pasaba de los cuarenta, y una sobrina que no llegaba a los veinte, y un mozo de campo y plaza, que así ensillaba el rocín como tomaba la podadera. Frisaba la edad de nuestro hidalgo con los cincuenta años, era de complexión recia, seco de carnes, enjuto de rostro; gran madrugador y amigo de la caza. Quieren decir que tenía el sobrenombre de Quijada o Quesada (que en esto hay alguna diferencia en los autores que deste caso escriben), aunque por conjeturas verosímiles se deja entender que se llama Quijana; pero esto importa poco a nuestro cuento; basta que en la narración dél no se salga un punto de la verdad. Es, pues, de saber, que este sobredicho hidalgo, los ratos que estaba ocioso (que eran los más del año) se daba a leer libros de caballerías con tanta afición y gusto, que olvidó casi de todo punto el ejercicio de la caza, y aun la administración de su hacienda; y llegó a tanto su curiosidad y desatino en esto, que vendió muchas hanegas de tierra de sembradura, para comprar libros de caballerías en que leer; y así llevó a su casa todos cuantos pudo haber dellos; y de todos ningunos le parecían tan bien como los que compuso el famoso Feliciano de Silva: porque la claridad de su prosa, y aquellas intrincadas razones suyas, le parecían de perlas; y más cuando llegaba a leer aquellos requiebros y cartas de desafío, donde en muchas partes hallaba escrito: la razón de la sinrazón que a mi razón se hace, de tal manera mi razón enflaquece, que con razón me quejo de la vuestra fermosura, y también cuando leía: los altos cielos que de vuestra divinidad divinamente con las estrellas se fortifican, y os hacen merecedora del merecimiento que merece la vuestra grandeza. Con estas y semejantes razones perdía el pobre caballero el juicio, y desvelábase por entenderlas, y desentrañarles el sentido, que no se lo sacara, ni las entendiera el mismo Aristóteles, si resucitara para sólo ello. No estaba muy bien con las heridas que don Belianis daba y recibía, porque se imaginaba que por grandes maestros que le hubiesen curado, no dejaría de tener el rostro y todo el cuerpo lleno de cicatrices y señales; pero con todo alababa en su autor aquel acabar su libro con la promesa de aquella inacabable aventura, y muchas veces le vino deseo de tomar la pluma, y darle fin al pie de la letra como allí se promete; y sin duda alguna lo hiciera, y aun saliera con ello, si otros mayores y continuos pensamientos no se lo estorbaran.',\n",
       " 'Tuvo muchas veces competencia con el cura de su lugar (que era hombre docto graduado en Sigüenza), sobre cuál había sido mejor caballero, Palmerín de Inglaterra o Amadís de Gaula; mas maese Nicolás, barbero del mismo pueblo, decía que ninguno llegaba al caballero del Febo, y que si alguno se le podía comparar, era don Galaor, hermano de Amadís de Gaula, porque tenía muy acomodada condición para todo; que no era caballero melindroso, ni tan llorón como su hermano, y que en lo de la valentía no le iba en zaga.',\n",
       " 'En resolución, él se enfrascó tanto en su lectura, que se le pasaban las noches leyendo de claro en claro, y los días de turbio en turbio, y así, del poco dormir y del mucho leer, se le secó el cerebro, de manera que vino a perder el juicio. Llenósele la fantasía de todo aquello que leía en los libros, así de encantamientos, como de pendencias, batallas, desafíos, heridas, requiebros, amores, tormentas y disparates imposibles, y asentósele de tal modo en la imaginación que era verdad toda aquella máquina de aquellas soñadas invenciones que leía, que para él no había otra',\n",
       " 'historia más cierta en el mundo.',\n",
       " 'Decía él, que el Cid Ruy Díaz había sido muy buen caballero; pero que no tenía que ver con el caballero de la ardiente espada, que de sólo un revés había partido por medio dos fieros y descomunales gigantes. Mejor estaba con Bernardo del Carpio, porque en Roncesvalle había muerto a Roldán el encantado, valiéndose de la industria de Hércules, cuando ahogó a Anteo, el hijo de la Tierra, entre los brazos. Decía mucho bien del gigante Morgante, porque con ser de aquella generación gigantesca, que todos son soberbios y descomedidos, él solo era afable y bien criado; pero sobre todos estaba bien con Reinaldos de Montalbán, y más cuando le veía salir de su castillo y robar cuantos topaba, y cuando en Allende robó aquel ídolo de Mahoma, que era todo de oro, según dice su historia. Diera él, por dar una mano de coces al traidor de Galalón, al ama que tenía y aun a su sobrina de añadidura.']"
      ]
     },
     "execution_count": 8,
     "metadata": {},
     "output_type": "execute_result"
    }
   ],
   "source": [
    "from pyspark import SparkFiles\n",
    "rdd3 = sc.textFile(\"hdfs:/user/jovyan/data/el_quijote.txt\")\n",
    "rdd3.take(10)\n"
   ]
  },
  {
   "cell_type": "markdown",
   "id": "be548089-1d22-4231-8155-e4daf642fbf8",
   "metadata": {},
   "source": [
    "5. Para el rdd1 (2):\n",
    "   - a. Muestra los 3 primeros elementos\n",
    "   - b. muestra todos los elementos\n",
    "   - c. Obtén la suma de todos sus elementos\n",
    "   - d. Obtén la suma de los elementos que son múltiplos de 2\n",
    "   "
   ]
  },
  {
   "cell_type": "code",
   "execution_count": 14,
   "id": "5df58c57-c49b-4445-89b0-1b8719a01188",
   "metadata": {},
   "outputs": [
    {
     "name": "stdout",
     "output_type": "stream",
     "text": [
      "[0, 1, 2, 3, 4, 5, 6, 7, 8, 9]\n",
      "[0, 1, 2, 3, 4, 5, 6, 7, 8, 9, 10, 11, 12, 13, 14, 15, 16, 17, 18, 19, 20, 21, 22, 23, 24, 25, 26, 27, 28, 29, 30, 31, 32, 33, 34, 35, 36, 37, 38, 39, 40, 41, 42, 43, 44, 45, 46, 47, 48, 49, 50, 51, 52, 53, 54, 55, 56, 57, 58, 59, 60, 61, 62, 63, 64, 65, 66, 67, 68, 69, 70, 71, 72, 73, 74, 75, 76, 77, 78, 79, 80, 81, 82, 83, 84, 85, 86, 87, 88, 89, 90, 91, 92, 93, 94, 95, 96, 97, 98, 99]\n",
      "4950\n",
      "2450\n"
     ]
    }
   ],
   "source": [
    "#a.\n",
    "print (rdd1.take(10))\n",
    "#b. \n",
    "print(rdd1.collect())\n",
    "#c\n",
    "print (rdd1.reduce(lambda x,y: x+y));\n",
    "#d\n",
    "print (rdd1.filter(lambda x: x % 2 == 0).reduce(lambda x,y: x+y));"
   ]
  },
  {
   "cell_type": "markdown",
   "id": "d22a48c9-b96a-4e2c-82eb-6b8ae72a67ce",
   "metadata": {},
   "source": [
    "6. Para el rdd2 (2):\n",
    "   - a) Muestra una muestra del 40% de los elementos\n",
    "   - b) Muestra el número de elementos\n",
    "   - c) Muestra el número de elementos que empiezan por la letra 'b', después de pasar los elementos a minúsculas\n",
    "   - d) Muestra los elementos distintos\n",
    "   - e) Muestra el número de elementos distintos\n",
    "   "
   ]
  },
  {
   "cell_type": "code",
   "execution_count": 15,
   "id": "ba075395-e8fc-4fd8-b8b8-5c1d8f0d2d91",
   "metadata": {},
   "outputs": [
    {
     "name": "stdout",
     "output_type": "stream",
     "text": [
      "['Big', 'Aplicado', 'Big']\n",
      "8\n",
      "2\n",
      "['y', 'Aplicado', 'Data:', 'Big', 'Data', 'Inteligencia', 'Articicial']\n",
      "7\n"
     ]
    }
   ],
   "source": [
    "#a\n",
    "size = rdd2.count()\n",
    "sample = int(size*0.4)\n",
    "print (rdd2.takeSample(True, sample))\n",
    "#b\n",
    "print(rdd2.count())\n",
    "\n",
    "#c \n",
    "print(rdd2.map(lambda x: x.lower()).filter(lambda x:x.startswith('b')).count())\n",
    "\n",
    "#d \n",
    "print (rdd2.distinct().collect())\n",
    "\n",
    "#e\n",
    "print (rdd2.distinct().count())"
   ]
  },
  {
   "cell_type": "markdown",
   "id": "0390e347-5e96-49c9-8ec0-c565aa7c0b07",
   "metadata": {},
   "source": [
    "7. Para el rdd3 (4):\n",
    "   - a) Obtén el número de líneas\n",
    "   - b) Obtén el número de palabras\n",
    "   - c) Obtén la línea de mayor longitud\n",
    "   - d) Obtén la palabra de mayor longitud\n",
    "   - e) Obtén las 3 palabras más largas\n",
    "   - f) Obtén la suma de las longitudes de todas las palabras\n",
    "   - g) Obtén el número de líneas que contengan la palabra \"quijote\" (pasa primero a minúsculas)\n",
    "   - h) Obtén el número de palabras con longitud superior a 6"
   ]
  },
  {
   "cell_type": "code",
   "execution_count": 39,
   "id": "e322dd77-8a9d-4d46-ace4-f50a53ff94b0",
   "metadata": {},
   "outputs": [
    {
     "name": "stdout",
     "output_type": "stream",
     "text": [
      "Número de líneas: 2186\n",
      "Número de palabras: 187018\n",
      "linea mayor longitud: caballeros, cuantos en mi corte están, a recebir a la flor de la caballería, que allí viene!'' A cuyo mandamiento saldrán todos, y él llegará hasta la mitad de la escalera, y le abrazará estrechísimamente, y le dará paz besándole en el rostro; y luego le llevará por la mano al aposento de la señora reina, adonde el caballero la hallará con la infanta, su hija, que ha de ser una de las más fermosas y acabadas doncellas que, en gran parte de lo descubierto de la tierra, a duras penas se pueda hallar. Sucederá tras esto, luego en continente, que ella ponga los ojos en el caballero y él en los della, y cada uno parezca a otro cosa más divina que humana; y, sin saber cómo ni cómo [no], han de quedar presos y enlazados en la intricable red amorosa, y con gran cuita en sus corazones por no saber cómo se han de fablar para descubrir sus ansias y sentimientos. Desde allí le llevarán, sin duda, a algún cuarto del palacio, ricamente aderezado, donde, habiéndole quitado las armas, le traerán un rico manto de escarlata con que se cubra; y si bien pareció armado, tan bien y mejor ha de parecer en farseto. Venida la noche, cenará con el rey, reina e infanta, donde nunca quitará los ojos della, mirándola a furto de los circustantes, y ella hará lo mesmo con la mesma sagacidad, porque, como tengo dicho, es muy discreta doncella. Levantarse han las tablas, y entrará a deshora por la puerta de la sala un feo y pequeño enano con una fermosa dueña, que, entre dos gigantes, detrás del enano viene, con cierta aventura, hecha por un antiquísimo sabio, que el que la acabare será tenido por el mejor caballero del mundo. Mandará luego el rey que todos los que están presentes la prueben, y ninguno le dará fin y cima sino el caballero huésped, en mucho pro de su fama, de lo cual quedará contentísima la infanta, y se tendrá por contenta y pagada además, por haber puesto y colocado sus pensamientos en tan alta parte. Y lo bueno es que este rey, o príncipe, o lo que es, tiene una muy reñida guerra con otro tan poderoso como él, y el caballero huésped le pide (al cabo de algunos días que ha estado en su corte) licencia para ir a servirle en aquella guerra dicha. Darásela el rey de muy buen talante, y el caballero le besará cortésmente las manos por la merced que le face. Y aquella noche se despedirá de su señora la infanta por las rejas de un jardín, que cae en el aposento donde ella duerme, por las cuales ya otras muchas veces la había fablado, siendo medianera y sabidora de todo una doncella de quien la infanta mucho se fiaba. Sospirará él, desmayaráse ella, traerá agua la doncella, acuitaráse mucho porque viene la mañana, y no querría que fuesen descubiertos, por la honra de su señora. Finalmente, la infanta volverá en sí y dará sus blancas manos por la reja al caballero, el cual se las besará mil y mil veces y se las bañará en lágrimas. Quedará concertado entre los dos del modo que se han de hacer saber sus buenos o malos sucesos, y rogarále la princesa que se detenga lo menos que pudiere; prometérselo ha él con muchos juramentos; tórnale a besar las manos, y despídese con tanto sentimiento que estará poco por acabar la vida. Vase desde allí a su aposento, échase sobre su lecho, no puede dormir del dolor de la partida, madruga muy de mañana, vase a despedir del rey y de la reina y de la infanta; dícenle, habiéndose despedido de los dos, que la señora infanta está mal dispuesta y que no puede recebir visita; piensa el caballero que es de pena de su partida, traspásasele el corazón, y falta poco de no dar indicio manifiesto de su pena. Está la doncella medianera delante, halo de notar todo, váselo a decir a su señora, la cual la recibe con lágrimas y le dice que una de las mayores penas que tiene es no saber quién sea su caballero, y si es de linaje de reyes o no; asegúrala la doncella que no puede caber tanta cortesía, gentileza y valentía como la de su caballero sino en subjeto real y grave; consuélase con esto la cuitada; procura consolarse, por no dar mal indicio de sí a sus padres, y, a cabo de dos días, sale en público. Ya se es ido el caballero: pelea en la guerra, vence al enemigo del rey, gana muchas ciudades, triunfa de muchas batallas, vuelve a la corte, ve a su señora por donde suele, conciértase que la pida a su padre por mujer en pago de sus servicios. No se la quiere dar el rey, porque no sabe quién es; pero, con todo esto, o robada o de otra cualquier suerte que sea, la infanta viene a ser su esposa y su padre lo viene a tener a gran ventura, porque se vino a averiguar que el tal caballero es hijo de un valeroso rey de no sé qué reino, porque creo que no debe de estar en el mapa.\n",
      "palabra mayor longitud: procuremos.Levántate,\n",
      "3 palabras más largas: ['procuremos.Levántate,', 'extraordinariamente,', 'estrechísimamente,']\n",
      "suma de longitudes: 851378\n",
      "líneas contienen quijote: 590\n",
      "Palabras con longitud superior a 6: 44693\n"
     ]
    }
   ],
   "source": [
    "#a. \n",
    "rdd3.take(2)\n",
    "print(f\"Número de líneas: {rdd3.count()}\")\n",
    "#b.\n",
    "print (f\"Número de palabras: {rdd3.flatMap(lambda linea: linea.split()).count()}\")\n",
    "#c.\n",
    "print(f\"linea mayor longitud: {rdd3.max(key=lambda linea: len(linea))}\")\n",
    "print(f\"palabra mayor longitud: {rdd3.flatMap(lambda linea: linea.split()).max(key=len)}\")\n",
    "#e\n",
    "print(f\"3 palabras más largas: {rdd3.flatMap(lambda linea: linea.split()).takeOrdered(3, key=lambda x: -len(x))}\")\n",
    "\n",
    "#f: \n",
    "print(f\"suma de longitudes: {rdd3.flatMap(lambda linea: linea.split()).map(lambda x: len(x)).reduce(lambda x, y: x+y)}\")\n",
    "\n",
    "#g\n",
    "print(f\"líneas contienen quijote: {rdd3.map(lambda l: l.lower()).filter(lambda l: 'quijote' in l).count()}\")\n",
    "\n",
    "#h \n",
    "print(f\"Palabras con longitud superior a 6: {rdd3.flatMap(lambda linea: linea.split()).filter(lambda x: len(x) > 6).count()}\")"
   ]
  },
  {
   "cell_type": "code",
   "execution_count": null,
   "id": "8499d6e7-6c0d-4c84-9acd-3e0899c16a69",
   "metadata": {},
   "outputs": [],
   "source": []
  }
 ],
 "metadata": {
  "kernelspec": {
   "display_name": "Python 3 (ipykernel)",
   "language": "python",
   "name": "python3"
  },
  "language_info": {
   "codemirror_mode": {
    "name": "ipython",
    "version": 3
   },
   "file_extension": ".py",
   "mimetype": "text/x-python",
   "name": "python",
   "nbconvert_exporter": "python",
   "pygments_lexer": "ipython3",
   "version": "3.9.2"
  }
 },
 "nbformat": 4,
 "nbformat_minor": 5
}
