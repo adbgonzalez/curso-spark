{
 "cells": [
  {
   "cell_type": "markdown",
   "id": "c9d5669b-b8c9-43c3-9931-5f95ff18782e",
   "metadata": {},
   "source": [
    "# Ejercicios Dataframes 2\n",
    "Realiza los siguientes ejercicios. Soluciona cada uno de ellos empleando la DataFrame API y Spark SQL\n",
    "1. Inicializa la variable spark (0)"
   ]
  },
  {
   "cell_type": "code",
   "execution_count": null,
   "id": "b159a865-1442-4d35-a8dd-056a550455b4",
   "metadata": {},
   "outputs": [],
   "source": [
    "#DataFrame API\n",
    "from pyspark.sql import SparkSession\n",
    "spark = SparkSession.builder.getOrCreate()\n",
    "\n",
    "#SQL\n",
    "\n"
   ]
  },
  {
   "cell_type": "markdown",
   "id": "9857de07-bca6-4560-8980-63f34adcec18",
   "metadata": {},
   "source": [
    "2. Crea un dataframe llamado mi_df con los datos del archivo *data/retail-data/all/online-retail-dataset.csv* (0)"
   ]
  },
  {
   "cell_type": "code",
   "execution_count": null,
   "id": "8406cbab-5e1d-4b65-a2ec-436422a996c4",
   "metadata": {},
   "outputs": [],
   "source": [
    "#DataFrame API\n",
    "from pyspark.sql.types import StructType, StructField, StringType, IntegerType, DoubleType, TimestampType\n",
    "# Definir el esquema\n",
    "\n",
    "\n",
    "# Leer el archivo CSV con el esquema especificado\n",
    "\n",
    "#SQL\n",
    "\n"
   ]
  },
  {
   "cell_type": "markdown",
   "id": "ab8acc9b-b1d0-46db-9bcc-6e290827d05c",
   "metadata": {},
   "source": [
    "3. Cuenta el número de celdas totales"
   ]
  },
  {
   "cell_type": "code",
   "execution_count": null,
   "id": "3065e4f9-43d1-4e62-a0e3-113b5afe566a",
   "metadata": {},
   "outputs": [],
   "source": [
    "#DataFrame API\n",
    "\n",
    "\n",
    "#SQL\n",
    "\n"
   ]
  },
  {
   "cell_type": "markdown",
   "id": "6c134111-a5cb-473d-bee7-c15a4d0e5d46",
   "metadata": {},
   "source": [
    "4. Cuenta el número de \"invoiceNo\" distintos"
   ]
  },
  {
   "cell_type": "code",
   "execution_count": null,
   "id": "38c2da2f-911b-46cd-92b3-e15314dd7b03",
   "metadata": {},
   "outputs": [],
   "source": [
    "#DataFrame API\n",
    "\n",
    "\n",
    "#SQL\n",
    "\n"
   ]
  },
  {
   "cell_type": "markdown",
   "id": "69047d7e-2a4f-4536-b238-994e4d8a5686",
   "metadata": {},
   "source": [
    "5. Obtén el número de factura más bajo y el más alto"
   ]
  },
  {
   "cell_type": "code",
   "execution_count": null,
   "id": "1dc87d54-2b9e-44ae-8ccc-de8b1c687f1f",
   "metadata": {},
   "outputs": [],
   "source": [
    "#DataFrame API\n",
    "\n",
    "\n",
    "#SQL\n",
    "\n"
   ]
  },
  {
   "cell_type": "markdown",
   "id": "3f4e648e-e749-4836-83b4-cac727e3b4d8",
   "metadata": {},
   "source": [
    "6. Obtén la suma de todos los importes unitarios de los productos vendidos en el Reino Unido"
   ]
  },
  {
   "cell_type": "code",
   "execution_count": null,
   "id": "685348d8-f9cb-4f3b-a44b-437d7816b601",
   "metadata": {},
   "outputs": [],
   "source": [
    "#DataFrame API\n",
    "\n",
    "\n",
    "#SQL\n",
    "\n"
   ]
  },
  {
   "cell_type": "markdown",
   "id": "62f81fcd-0908-4ddd-a075-432aafbfb427",
   "metadata": {},
   "source": [
    "7. Obtén la media de todos los importes unitarios de los productos vendidos en el Reino Unido"
   ]
  },
  {
   "cell_type": "code",
   "execution_count": null,
   "id": "6ba9fc37-19e4-469f-968c-c238a7e055bc",
   "metadata": {},
   "outputs": [],
   "source": [
    "#DataFrame API\n",
    "\n",
    "\n",
    "#SQL\n",
    "\n"
   ]
  },
  {
   "cell_type": "markdown",
   "id": "0065cca6-b302-4f60-9a45-8d841bea0611",
   "metadata": {},
   "source": [
    "8. Obtén la el número total de productos vendidos (quantity) agrupado por países (muestra los 10 primeros)"
   ]
  },
  {
   "cell_type": "code",
   "execution_count": null,
   "id": "fbedc383-4684-4014-b3c7-48e4d6296cce",
   "metadata": {},
   "outputs": [],
   "source": [
    "#DataFrame API\n",
    "\n",
    "\n",
    "#SQL\n",
    "\n"
   ]
  },
  {
   "cell_type": "markdown",
   "id": "feafc7bc-922f-46a2-a1cb-7c5c78b1014f",
   "metadata": {},
   "source": [
    "9. Obtén la media de los precios unitarios de los productos vendidos agrupada por países"
   ]
  },
  {
   "cell_type": "code",
   "execution_count": null,
   "id": "d1ede03e-6e12-4b14-804a-5deac392647b",
   "metadata": {},
   "outputs": [],
   "source": [
    "#DataFrame API\n",
    "\n",
    "\n",
    "#SQL\n",
    "\n"
   ]
  },
  {
   "cell_type": "markdown",
   "id": "62faa914-1b71-4051-b2e3-e1e1454adada",
   "metadata": {},
   "source": [
    "10. Obtén el importe total (quantity * unit price) agrupado por número de factura (invoiceNo)"
   ]
  },
  {
   "cell_type": "code",
   "execution_count": null,
   "id": "43ef1acd-345e-4907-a5ab-107a408b999e",
   "metadata": {},
   "outputs": [],
   "source": [
    "from pyspark.sql.functions import expr\n",
    "#DataFrame API\n",
    "\n",
    "#SQL\n",
    "\n"
   ]
  },
  {
   "cell_type": "markdown",
   "id": "125443d3-7d2c-4cec-b97e-181a87ef4574",
   "metadata": {},
   "source": [
    "11. Crea un DataFrame para cada archivo de notas (notas_fisica, notas_ingles y notas_matemáticas). Realiza un Join que genere un DataFrame mostrando las tres notas para cada alumno. (sólo mostrar los alumnos que tengan nota en las 3 asignaturas)"
   ]
  },
  {
   "cell_type": "code",
   "execution_count": null,
   "id": "2110e4ec-d5e7-4289-98ad-414a8880b0e1",
   "metadata": {
    "scrolled": true
   },
   "outputs": [],
   "source": [
    "#DataFrame API\n",
    "from pyspark.sql.functions import col\n",
    "\n",
    "\n",
    "#SQL\n",
    "\n"
   ]
  },
  {
   "cell_type": "markdown",
   "id": "3c68b0a9-90b3-408a-be73-80ed93ab913d",
   "metadata": {},
   "source": [
    "12. Crea un DataFrame para cada archivo de notas (notas_fisica, notas_ingles y notas_matemáticas). Realiza un Join que genere un DataFrame mostrando las tres notas para cada alumno. Si a un alumno le falta alguna de las notas aparecerá el valor NULL"
   ]
  },
  {
   "cell_type": "code",
   "execution_count": null,
   "id": "f88c5b68-5482-4035-a5a2-d08a30c11776",
   "metadata": {},
   "outputs": [],
   "source": [
    "#DataFrame API\n",
    "\n",
    "\n",
    "#SQL\n",
    "\n"
   ]
  }
 ],
 "metadata": {
  "kernelspec": {
   "display_name": "Python 3 (ipykernel)",
   "language": "python",
   "name": "python3"
  },
  "language_info": {
   "codemirror_mode": {
    "name": "ipython",
    "version": 3
   },
   "file_extension": ".py",
   "mimetype": "text/x-python",
   "name": "python",
   "nbconvert_exporter": "python",
   "pygments_lexer": "ipython3",
   "version": "3.11.6"
  }
 },
 "nbformat": 4,
 "nbformat_minor": 5
}
