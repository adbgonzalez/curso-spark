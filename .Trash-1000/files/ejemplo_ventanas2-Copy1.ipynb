{
 "cells": [
  {
   "cell_type": "markdown",
   "id": "352e2261-fe11-4ec3-9c54-c0f12c6a1d04",
   "metadata": {},
   "source": [
    "### Ejemplo ventanas 1\n",
    "En primer lugar creamos la sesión como en los casos anteriores:\n"
   ]
  },
  {
   "cell_type": "code",
   "execution_count": 1,
   "id": "d1f6d15a-73d2-410d-bf1a-c83036fb8a97",
   "metadata": {},
   "outputs": [
    {
     "name": "stderr",
     "output_type": "stream",
     "text": [
      "Setting default log level to \"WARN\".\n",
      "To adjust logging level use sc.setLogLevel(newLevel). For SparkR, use setLogLevel(newLevel).\n"
     ]
    }
   ],
   "source": [
    "from pyspark.sql import SparkSession\n",
    "from pyspark.sql.functions import explode\n",
    "from pyspark.sql.functions import split\n",
    "import string\n",
    "\n",
    "spark = SparkSession.builder \\\n",
    "    .master(\"spark://spark-master:7077\") \\\n",
    "    .appName(\"StructuredWordCount\") \\\n",
    "    .config(\"spark.sql.legacy.timeParserPolicy\", \"LEGACY\") \\\n",
    "    .config(\"spark.eventLog.enabled\", \"true\") \\\n",
    "    .config(\"spark.eventLog.dir\", \"hdfs:///spark/logs/history\") \\\n",
    "    .config(\"spark.history.fs.logDirectory\", \"hdfs:///spark/logs/history\") \\\n",
    "    .getOrCreate()\n",
    "\n",
    "\n"
   ]
  },
  {
   "cell_type": "markdown",
   "id": "b2a527b8-8a1f-49c1-b27e-b449b522dab4",
   "metadata": {},
   "source": [
    "En este ejemplo vamos a leer, nuevamente, los  datos desde un socket. Antes de nada lo ponemos en marcha con el siguiente comando:\n",
    "- nc -lk 9999\n",
    "\n",
    "Lo siguiente es poner en marcha el *stream* de lectura, esta vez activando la opción *includeTimestamp*."
   ]
  },
  {
   "cell_type": "code",
   "execution_count": 2,
   "id": "dff106b3-a4d1-4222-aae8-e35b1e56581a",
   "metadata": {},
   "outputs": [
    {
     "name": "stderr",
     "output_type": "stream",
     "text": [
      "25/04/28 16:26:29 WARN TextSocketSourceProvider: The socket source should not be used for production applications! It does not support recovery.\n"
     ]
    },
    {
     "name": "stdout",
     "output_type": "stream",
     "text": [
      "root\n",
      " |-- value: string (nullable = true)\n",
      " |-- timestamp: timestamp (nullable = true)\n",
      "\n"
     ]
    }
   ],
   "source": [
    "df_lineas = spark.readStream \\\n",
    "    .format(\"socket\") \\\n",
    "    .option(\"host\", \"localhost\") \\\n",
    "    .option(\"port\", \"9999\") \\\n",
    "    .option('includeTimestamp', 'true')\\\n",
    "    .load()\n",
    "\n",
    "df_lineas.printSchema()"
   ]
  },
  {
   "cell_type": "code",
   "execution_count": 4,
   "id": "283e929a-8996-4eda-82aa-b4292bb2ec28",
   "metadata": {},
   "outputs": [
    {
     "name": "stdout",
     "output_type": "stream",
     "text": [
      "root\n",
      " |-- value: string (nullable = true)\n",
      " |-- timestamp: timestamp (nullable = true)\n",
      "\n"
     ]
    }
   ],
   "source": []
  },
  {
   "cell_type": "code",
   "execution_count": 3,
   "id": "6447b213-0151-48ae-a1f5-b020dbaffad6",
   "metadata": {},
   "outputs": [],
   "source": [
    "from pyspark.sql.functions import explode, split\n",
    "df_palabras = df_lineas.select(\n",
    "    explode(split(df_lineas.value, ' ')).alias('palabra'),\n",
    "    df_lineas.timestamp)"
   ]
  },
  {
   "cell_type": "code",
   "execution_count": 4,
   "id": "0fe1a2f5-39f8-4071-9098-5caad3dad07e",
   "metadata": {},
   "outputs": [],
   "source": [
    "from pyspark.sql.functions import window\n",
    "windowed_counts = df_palabras.groupBy(\n",
    "    window(df_palabras.timestamp, \"2 minutes\", \"1 minute\"), df_palabras.palabra\n",
    ").count().orderBy('window')"
   ]
  },
  {
   "cell_type": "code",
   "execution_count": 5,
   "id": "fe1ccb4c-1816-47d9-8e07-9f948d0e7ec8",
   "metadata": {},
   "outputs": [
    {
     "name": "stderr",
     "output_type": "stream",
     "text": [
      "25/04/28 16:26:36 WARN ResolveWriteToStream: Temporary checkpoint location created which is deleted normally when the query didn't fail: /tmp/temporary-faea51a3-067f-4afa-9bb7-e9b402ff736b. If it's required to delete it under any circumstances, please set spark.sql.streaming.forceDeleteTempCheckpointLocation to true. Important to know deleting temp checkpoint folder is best effort.\n",
      "25/04/28 16:26:36 WARN ResolveWriteToStream: spark.sql.adaptive.enabled is not supported in streaming DataFrames/Datasets and will be disabled.\n",
      "                                                                                "
     ]
    },
    {
     "name": "stdout",
     "output_type": "stream",
     "text": [
      "-------------------------------------------\n",
      "Batch: 0\n",
      "-------------------------------------------\n",
      "+------+-------+-----+\n",
      "|window|palabra|count|\n",
      "+------+-------+-----+\n",
      "+------+-------+-----+\n",
      "\n"
     ]
    },
    {
     "name": "stderr",
     "output_type": "stream",
     "text": [
      "                                                                                "
     ]
    },
    {
     "name": "stdout",
     "output_type": "stream",
     "text": [
      "-------------------------------------------\n",
      "Batch: 1\n",
      "-------------------------------------------\n",
      "+------------------------------------------+--------+-----+\n",
      "|window                                    |palabra |count|\n",
      "+------------------------------------------+--------+-----+\n",
      "|{2025-04-28 16:25:00, 2025-04-28 16:27:00}|caracola|1    |\n",
      "|{2025-04-28 16:25:00, 2025-04-28 16:27:00}|hola    |1    |\n",
      "|{2025-04-28 16:26:00, 2025-04-28 16:28:00}|caracola|1    |\n",
      "|{2025-04-28 16:26:00, 2025-04-28 16:28:00}|hola    |1    |\n",
      "+------------------------------------------+--------+-----+\n",
      "\n"
     ]
    },
    {
     "name": "stderr",
     "output_type": "stream",
     "text": [
      "                                                                                "
     ]
    },
    {
     "name": "stdout",
     "output_type": "stream",
     "text": [
      "-------------------------------------------\n",
      "Batch: 2\n",
      "-------------------------------------------\n",
      "+------------------------------------------+-----------+-----+\n",
      "|window                                    |palabra    |count|\n",
      "+------------------------------------------+-----------+-----+\n",
      "|{2025-04-28 16:25:00, 2025-04-28 16:27:00}|caracola   |1    |\n",
      "|{2025-04-28 16:25:00, 2025-04-28 16:27:00}|hola       |1    |\n",
      "|{2025-04-28 16:26:00, 2025-04-28 16:28:00}|cifp       |1    |\n",
      "|{2025-04-28 16:26:00, 2025-04-28 16:28:00}|caracola   |1    |\n",
      "|{2025-04-28 16:26:00, 2025-04-28 16:28:00}|carballeira|1    |\n",
      "|{2025-04-28 16:26:00, 2025-04-28 16:28:00}|desde      |1    |\n",
      "|{2025-04-28 16:26:00, 2025-04-28 16:28:00}|hola       |2    |\n",
      "|{2025-04-28 16:26:00, 2025-04-28 16:28:00}|A          |1    |\n",
      "|{2025-04-28 16:27:00, 2025-04-28 16:29:00}|desde      |1    |\n",
      "|{2025-04-28 16:27:00, 2025-04-28 16:29:00}|carballeira|1    |\n",
      "|{2025-04-28 16:27:00, 2025-04-28 16:29:00}|cifp       |1    |\n",
      "|{2025-04-28 16:27:00, 2025-04-28 16:29:00}|hola       |1    |\n",
      "|{2025-04-28 16:27:00, 2025-04-28 16:29:00}|A          |1    |\n",
      "+------------------------------------------+-----------+-----+\n",
      "\n"
     ]
    }
   ],
   "source": [
    "query = windowed_counts \\\n",
    "          .writeStream \\\n",
    "          .outputMode(\"complete\") \\\n",
    "          .format(\"console\") \\\n",
    "          .queryName(\"consulta1\") \\\n",
    "          .option(\"truncate\",\"false\") \\\n",
    "          .start()"
   ]
  },
  {
   "cell_type": "code",
   "execution_count": 7,
   "id": "5000aaeb-112c-4bc0-96e6-63adb5c47dd7",
   "metadata": {},
   "outputs": [
    {
     "data": {
      "text/plain": [
       "{'message': 'Waiting for data to arrive',\n",
       " 'isDataAvailable': False,\n",
       " 'isTriggerActive': False}"
      ]
     },
     "metadata": {},
     "output_type": "display_data"
    },
    {
     "name": "stdout",
     "output_type": "stream",
     "text": [
      "+--------------------+-----------+-----+\n",
      "|              window|    palabra|count|\n",
      "+--------------------+-----------+-----+\n",
      "|{2025-04-28 16:22...|     desade|    1|\n",
      "|{2025-04-28 16:22...|   caracola|    1|\n",
      "|{2025-04-28 16:22...|          A|    1|\n",
      "|{2025-04-28 16:22...|       hola|    2|\n",
      "|{2025-04-28 16:22...|Carballeira|    1|\n",
      "|{2025-04-28 16:23...|       hola|    2|\n",
      "|{2025-04-28 16:23...|          A|    1|\n",
      "|{2025-04-28 16:23...|   caracola|    2|\n",
      "|{2025-04-28 16:23...|       mola|    1|\n",
      "|{2025-04-28 16:23...|Carballeira|    1|\n",
      "|{2025-04-28 16:23...|     desade|    1|\n",
      "|{2025-04-28 16:24...|   caracola|    1|\n",
      "|{2025-04-28 16:24...|       mola|    1|\n",
      "+--------------------+-----------+-----+\n",
      "\n"
     ]
    },
    {
     "data": {
      "text/plain": [
       "None"
      ]
     },
     "metadata": {},
     "output_type": "display_data"
    },
    {
     "ename": "KeyboardInterrupt",
     "evalue": "",
     "output_type": "error",
     "traceback": [
      "\u001b[0;31m---------------------------------------------------------------------------\u001b[0m",
      "\u001b[0;31mKeyboardInterrupt\u001b[0m                         Traceback (most recent call last)",
      "Cell \u001b[0;32mIn[7], line 8\u001b[0m\n\u001b[1;32m      6\u001b[0m display(query\u001b[38;5;241m.\u001b[39mstatus)\n\u001b[1;32m      7\u001b[0m display(spark\u001b[38;5;241m.\u001b[39msql(\u001b[38;5;124m'\u001b[39m\u001b[38;5;124mSELECT * FROM consulta1\u001b[39m\u001b[38;5;124m'\u001b[39m)\u001b[38;5;241m.\u001b[39mshow())\n\u001b[0;32m----> 8\u001b[0m \u001b[43msleep\u001b[49m\u001b[43m(\u001b[49m\u001b[38;5;241;43m1\u001b[39;49m\u001b[43m)\u001b[49m\n",
      "\u001b[0;31mKeyboardInterrupt\u001b[0m: "
     ]
    }
   ],
   "source": [
    "from IPython.display import display, clear_output\n",
    "from time import sleep\n",
    "\n",
    "while True:\n",
    "    clear_output(wait=True)\n",
    "    display(query.status)\n",
    "    display(spark.sql('SELECT * FROM consulta1').show())\n",
    "    sleep(1)"
   ]
  },
  {
   "cell_type": "code",
   "execution_count": null,
   "id": "d9797c95-b279-43a3-847d-653e89a00c7a",
   "metadata": {},
   "outputs": [],
   "source": []
  }
 ],
 "metadata": {
  "kernelspec": {
   "display_name": "Python 3 (ipykernel)",
   "language": "python",
   "name": "python3"
  },
  "language_info": {
   "codemirror_mode": {
    "name": "ipython",
    "version": 3
   },
   "file_extension": ".py",
   "mimetype": "text/x-python",
   "name": "python",
   "nbconvert_exporter": "python",
   "pygments_lexer": "ipython3",
   "version": "3.9.2"
  }
 },
 "nbformat": 4,
 "nbformat_minor": 5
}
